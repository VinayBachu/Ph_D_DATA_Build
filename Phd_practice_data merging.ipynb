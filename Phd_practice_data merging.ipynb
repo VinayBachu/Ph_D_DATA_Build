{
 "cells": [
  {
   "cell_type": "code",
   "execution_count": 1,
   "metadata": {},
   "outputs": [],
   "source": [
    "# Loading the Required Libraries\n",
    "import numpy as np\n",
    "\n",
    "import pandas as pd\n",
    "\n",
    "import matplotlib as mplot\n",
    "\n",
    "import matplotlib.pyplot as plt\n",
    "\n",
    "# display plots in the notebook\n",
    "%matplotlib inline "
   ]
  },
  {
   "cell_type": "markdown",
   "metadata": {},
   "source": [
    "# Exploring the Training Data With Provider Fraud Statuses"
   ]
  },
  {
   "cell_type": "code",
   "execution_count": 2,
   "metadata": {},
   "outputs": [],
   "source": [
    "# Load real estate data from CSV\n",
    "traindata = pd.read_csv('C:/Users/bkumar66/Desktop/ML/Ph_D_DATA/Train-1542865627584.csv')"
   ]
  },
  {
   "cell_type": "code",
   "execution_count": 3,
   "metadata": {},
   "outputs": [
    {
     "data": {
      "text/plain": [
       "(5410, 2)"
      ]
     },
     "execution_count": 3,
     "metadata": {},
     "output_type": "execute_result"
    }
   ],
   "source": [
    "# Dataframe dimensions\n",
    "traindata.shape"
   ]
  },
  {
   "cell_type": "code",
   "execution_count": 4,
   "metadata": {},
   "outputs": [
    {
     "name": "stdout",
     "output_type": "stream",
     "text": [
      "<class 'pandas.core.frame.DataFrame'>\n",
      "RangeIndex: 5410 entries, 0 to 5409\n",
      "Data columns (total 2 columns):\n",
      "Provider          5410 non-null object\n",
      "PotentialFraud    5410 non-null object\n",
      "dtypes: object(2)\n",
      "memory usage: 84.6+ KB\n"
     ]
    }
   ],
   "source": [
    "# Overall information about the train data\n",
    "traindata.info()"
   ]
  },
  {
   "cell_type": "code",
   "execution_count": 9,
   "metadata": {},
   "outputs": [
    {
     "data": {
      "text/plain": [
       "Provider          object\n",
       "PotentialFraud    object\n",
       "dtype: object"
      ]
     },
     "execution_count": 9,
     "metadata": {},
     "output_type": "execute_result"
    }
   ],
   "source": [
    "# Column datatypes\n",
    "traindata.dtypes"
   ]
  },
  {
   "cell_type": "markdown",
   "metadata": {},
   "source": [
    "### Those with object are categorical features."
   ]
  },
  {
   "cell_type": "code",
   "execution_count": 10,
   "metadata": {},
   "outputs": [
    {
     "data": {
      "text/plain": [
       "pandas.core.series.Series"
      ]
     },
     "execution_count": 10,
     "metadata": {},
     "output_type": "execute_result"
    }
   ],
   "source": [
    "# Type of df.types\n",
    "type(traindata.dtypes)"
   ]
  },
  {
   "cell_type": "code",
   "execution_count": 11,
   "metadata": {},
   "outputs": [
    {
     "data": {
      "text/html": [
       "<div>\n",
       "<style scoped>\n",
       "    .dataframe tbody tr th:only-of-type {\n",
       "        vertical-align: middle;\n",
       "    }\n",
       "\n",
       "    .dataframe tbody tr th {\n",
       "        vertical-align: top;\n",
       "    }\n",
       "\n",
       "    .dataframe thead th {\n",
       "        text-align: right;\n",
       "    }\n",
       "</style>\n",
       "<table border=\"1\" class=\"dataframe\">\n",
       "  <thead>\n",
       "    <tr style=\"text-align: right;\">\n",
       "      <th></th>\n",
       "      <th>Provider</th>\n",
       "      <th>PotentialFraud</th>\n",
       "    </tr>\n",
       "  </thead>\n",
       "  <tbody>\n",
       "    <tr>\n",
       "      <th>0</th>\n",
       "      <td>PRV51001</td>\n",
       "      <td>No</td>\n",
       "    </tr>\n",
       "    <tr>\n",
       "      <th>1</th>\n",
       "      <td>PRV51003</td>\n",
       "      <td>Yes</td>\n",
       "    </tr>\n",
       "    <tr>\n",
       "      <th>2</th>\n",
       "      <td>PRV51004</td>\n",
       "      <td>No</td>\n",
       "    </tr>\n",
       "    <tr>\n",
       "      <th>3</th>\n",
       "      <td>PRV51005</td>\n",
       "      <td>Yes</td>\n",
       "    </tr>\n",
       "    <tr>\n",
       "      <th>4</th>\n",
       "      <td>PRV51007</td>\n",
       "      <td>No</td>\n",
       "    </tr>\n",
       "  </tbody>\n",
       "</table>\n",
       "</div>"
      ],
      "text/plain": [
       "   Provider PotentialFraud\n",
       "0  PRV51001             No\n",
       "1  PRV51003            Yes\n",
       "2  PRV51004             No\n",
       "3  PRV51005            Yes\n",
       "4  PRV51007             No"
      ]
     },
     "execution_count": 11,
     "metadata": {},
     "output_type": "execute_result"
    }
   ],
   "source": [
    "# Example observations\n",
    "traindata.head()"
   ]
  },
  {
   "cell_type": "code",
   "execution_count": 12,
   "metadata": {},
   "outputs": [
    {
     "data": {
      "text/html": [
       "<div>\n",
       "<style scoped>\n",
       "    .dataframe tbody tr th:only-of-type {\n",
       "        vertical-align: middle;\n",
       "    }\n",
       "\n",
       "    .dataframe tbody tr th {\n",
       "        vertical-align: top;\n",
       "    }\n",
       "\n",
       "    .dataframe thead th {\n",
       "        text-align: right;\n",
       "    }\n",
       "</style>\n",
       "<table border=\"1\" class=\"dataframe\">\n",
       "  <thead>\n",
       "    <tr style=\"text-align: right;\">\n",
       "      <th></th>\n",
       "      <th>Provider</th>\n",
       "      <th>PotentialFraud</th>\n",
       "    </tr>\n",
       "  </thead>\n",
       "  <tbody>\n",
       "    <tr>\n",
       "      <th>5405</th>\n",
       "      <td>PRV57759</td>\n",
       "      <td>No</td>\n",
       "    </tr>\n",
       "    <tr>\n",
       "      <th>5406</th>\n",
       "      <td>PRV57760</td>\n",
       "      <td>No</td>\n",
       "    </tr>\n",
       "    <tr>\n",
       "      <th>5407</th>\n",
       "      <td>PRV57761</td>\n",
       "      <td>No</td>\n",
       "    </tr>\n",
       "    <tr>\n",
       "      <th>5408</th>\n",
       "      <td>PRV57762</td>\n",
       "      <td>No</td>\n",
       "    </tr>\n",
       "    <tr>\n",
       "      <th>5409</th>\n",
       "      <td>PRV57763</td>\n",
       "      <td>No</td>\n",
       "    </tr>\n",
       "  </tbody>\n",
       "</table>\n",
       "</div>"
      ],
      "text/plain": [
       "      Provider PotentialFraud\n",
       "5405  PRV57759             No\n",
       "5406  PRV57760             No\n",
       "5407  PRV57761             No\n",
       "5408  PRV57762             No\n",
       "5409  PRV57763             No"
      ]
     },
     "execution_count": 12,
     "metadata": {},
     "output_type": "execute_result"
    }
   ],
   "source": [
    "# Example observations\n",
    "traindata.tail()"
   ]
  },
  {
   "cell_type": "code",
   "execution_count": 13,
   "metadata": {},
   "outputs": [
    {
     "data": {
      "text/plain": [
       "Provider          object\n",
       "PotentialFraud    object\n",
       "dtype: object"
      ]
     },
     "execution_count": 13,
     "metadata": {},
     "output_type": "execute_result"
    }
   ],
   "source": [
    "# Filter and display only traindata.dtypes that are 'object'\n",
    "traindata.dtypes[traindata.dtypes == 'object']"
   ]
  },
  {
   "cell_type": "code",
   "execution_count": 14,
   "metadata": {},
   "outputs": [
    {
     "name": "stdout",
     "output_type": "stream",
     "text": [
      "Provider\n",
      "PotentialFraud\n"
     ]
    }
   ],
   "source": [
    "# Loop through categorical feature names and print each one\n",
    "for feature in traindata.dtypes[traindata.dtypes == 'object'].index:\n",
    "    print(feature)"
   ]
  },
  {
   "cell_type": "markdown",
   "metadata": {},
   "source": [
    "#Plot histogram grid\n",
    "traindata.hist()\n",
    "\n",
    "#Clear the text \"residue\"\n",
    "plt.show()"
   ]
  },
  {
   "cell_type": "code",
   "execution_count": 16,
   "metadata": {},
   "outputs": [
    {
     "data": {
      "text/plain": [
       "Provider          5410\n",
       "PotentialFraud    5410\n",
       "dtype: int64"
      ]
     },
     "execution_count": 16,
     "metadata": {},
     "output_type": "execute_result"
    }
   ],
   "source": [
    "traindata.count()"
   ]
  },
  {
   "cell_type": "markdown",
   "metadata": {},
   "source": [
    "### Thre is no Empty spaces all the values are avilable"
   ]
  },
  {
   "cell_type": "code",
   "execution_count": 23,
   "metadata": {},
   "outputs": [
    {
     "data": {
      "text/plain": [
       "Provider          5410\n",
       "PotentialFraud       2\n",
       "dtype: int64"
      ]
     },
     "execution_count": 23,
     "metadata": {},
     "output_type": "execute_result"
    }
   ],
   "source": [
    "traindata.nunique()"
   ]
  },
  {
   "cell_type": "code",
   "execution_count": 26,
   "metadata": {},
   "outputs": [
    {
     "data": {
      "text/plain": [
       "Provider          506\n",
       "PotentialFraud    506\n",
       "dtype: int64"
      ]
     },
     "execution_count": 26,
     "metadata": {},
     "output_type": "execute_result"
    }
   ],
   "source": [
    "# To count the providers with fraud status as Yes\n",
    "traindata[traindata['PotentialFraud']=='Yes'].count()"
   ]
  },
  {
   "cell_type": "code",
   "execution_count": 27,
   "metadata": {},
   "outputs": [
    {
     "data": {
      "text/plain": [
       "Provider          4904\n",
       "PotentialFraud    4904\n",
       "dtype: int64"
      ]
     },
     "execution_count": 27,
     "metadata": {},
     "output_type": "execute_result"
    }
   ],
   "source": [
    "# To count the providers with fraud status as No\n",
    "traindata[traindata['PotentialFraud']=='No'].count()"
   ]
  },
  {
   "cell_type": "code",
   "execution_count": 34,
   "metadata": {},
   "outputs": [
    {
     "name": "stdout",
     "output_type": "stream",
     "text": [
      "Total number of Providers 5410\n",
      "Non_ Fraud--------------- 0.9064695009242144\n",
      "Fraud-------------------- 0.10318107667210441\n"
     ]
    }
   ],
   "source": [
    "# verification for process\n",
    "print(\"Total number of Providers\",4904+506)   # Total Number of Unique Providers\n",
    "print(\"Non_ Fraud---------------\",4904/5410)  # non Fraud\n",
    "print(\"Fraud--------------------\",506/4904)   # Fraud"
   ]
  },
  {
   "cell_type": "markdown",
   "metadata": {},
   "source": [
    "### In providers 5410 unique providers are there and in \"Potential Fraud \" 2 levels are there"
   ]
  },
  {
   "cell_type": "markdown",
   "metadata": {},
   "source": [
    "### 1. Training Data containTotal 5410 Records with two Columns , those are Provider,PotentiaFraud \n",
    "### 2. There are No duplicate Records in the Both Of the columns.\n",
    "### 3.  PotentialFraud column contains 2 categories those are Yes and No\n",
    "### 4.  In 5410 Providers 506 providers are the Fraud and remaining 4904 Providers are non fraud.\n",
    "### 5.  In total Providers 90 % non Fraud and 10 % Fraud"
   ]
  },
  {
   "cell_type": "code",
   "execution_count": null,
   "metadata": {},
   "outputs": [],
   "source": []
  },
  {
   "cell_type": "markdown",
   "metadata": {},
   "source": [
    "# Exploring the Benficiary data to Understand"
   ]
  },
  {
   "cell_type": "code",
   "execution_count": 5,
   "metadata": {},
   "outputs": [],
   "source": [
    "benfidata = pd.read_csv(\"C:/Users/bkumar66/Desktop/ML/Ph_D_DATA/Train_Beneficiarydata-1542865627584.csv\")"
   ]
  },
  {
   "cell_type": "code",
   "execution_count": 6,
   "metadata": {},
   "outputs": [
    {
     "name": "stdout",
     "output_type": "stream",
     "text": [
      "<class 'pandas.core.frame.DataFrame'>\n",
      "RangeIndex: 138556 entries, 0 to 138555\n",
      "Data columns (total 25 columns):\n",
      "BeneID                             138556 non-null object\n",
      "DOB                                138556 non-null object\n",
      "DOD                                1421 non-null object\n",
      "Gender                             138556 non-null int64\n",
      "Race                               138556 non-null int64\n",
      "RenalDiseaseIndicator              138556 non-null object\n",
      "State                              138556 non-null int64\n",
      "County                             138556 non-null int64\n",
      "NoOfMonths_PartACov                138556 non-null int64\n",
      "NoOfMonths_PartBCov                138556 non-null int64\n",
      "ChronicCond_Alzheimer              138556 non-null int64\n",
      "ChronicCond_Heartfailure           138556 non-null int64\n",
      "ChronicCond_KidneyDisease          138556 non-null int64\n",
      "ChronicCond_Cancer                 138556 non-null int64\n",
      "ChronicCond_ObstrPulmonary         138556 non-null int64\n",
      "ChronicCond_Depression             138556 non-null int64\n",
      "ChronicCond_Diabetes               138556 non-null int64\n",
      "ChronicCond_IschemicHeart          138556 non-null int64\n",
      "ChronicCond_Osteoporasis           138556 non-null int64\n",
      "ChronicCond_rheumatoidarthritis    138556 non-null int64\n",
      "ChronicCond_stroke                 138556 non-null int64\n",
      "IPAnnualReimbursementAmt           138556 non-null int64\n",
      "IPAnnualDeductibleAmt              138556 non-null int64\n",
      "OPAnnualReimbursementAmt           138556 non-null int64\n",
      "OPAnnualDeductibleAmt              138556 non-null int64\n",
      "dtypes: int64(21), object(4)\n",
      "memory usage: 26.4+ MB\n"
     ]
    }
   ],
   "source": [
    "# Overall information about the train data\n",
    "benfidata.info()"
   ]
  },
  {
   "cell_type": "markdown",
   "metadata": {},
   "source": [
    "### From the Above information in Benficiary Data For the DOD(Date of Deth information only avilable for 1421 out of 138556 )"
   ]
  },
  {
   "cell_type": "code",
   "execution_count": 233,
   "metadata": {},
   "outputs": [
    {
     "data": {
      "text/plain": [
       "BeneID                             138556\n",
       "DOB                                   900\n",
       "DOD                                    11\n",
       "Gender                                  2\n",
       "Race                                    4\n",
       "RenalDiseaseIndicator                   2\n",
       "State                                  52\n",
       "County                                314\n",
       "NoOfMonths_PartACov                    13\n",
       "NoOfMonths_PartBCov                    13\n",
       "ChronicCond_Alzheimer                   2\n",
       "ChronicCond_Heartfailure                2\n",
       "ChronicCond_KidneyDisease               2\n",
       "ChronicCond_Cancer                      2\n",
       "ChronicCond_ObstrPulmonary              2\n",
       "ChronicCond_Depression                  2\n",
       "ChronicCond_Diabetes                    2\n",
       "ChronicCond_IschemicHeart               2\n",
       "ChronicCond_Osteoporasis                2\n",
       "ChronicCond_rheumatoidarthritis         2\n",
       "ChronicCond_stroke                      2\n",
       "IPAnnualReimbursementAmt             3004\n",
       "IPAnnualDeductibleAmt                 147\n",
       "OPAnnualReimbursementAmt             2078\n",
       "OPAnnualDeductibleAmt                 789\n",
       "dtype: int64"
      ]
     },
     "execution_count": 233,
     "metadata": {},
     "output_type": "execute_result"
    }
   ],
   "source": [
    "benfidata.nunique()"
   ]
  },
  {
   "cell_type": "code",
   "execution_count": 234,
   "metadata": {},
   "outputs": [
    {
     "data": {
      "text/plain": [
       "BeneID                             object\n",
       "DOB                                object\n",
       "DOD                                object\n",
       "Gender                              int64\n",
       "Race                                int64\n",
       "RenalDiseaseIndicator              object\n",
       "State                               int64\n",
       "County                              int64\n",
       "NoOfMonths_PartACov                 int64\n",
       "NoOfMonths_PartBCov                 int64\n",
       "ChronicCond_Alzheimer               int64\n",
       "ChronicCond_Heartfailure            int64\n",
       "ChronicCond_KidneyDisease           int64\n",
       "ChronicCond_Cancer                  int64\n",
       "ChronicCond_ObstrPulmonary          int64\n",
       "ChronicCond_Depression              int64\n",
       "ChronicCond_Diabetes                int64\n",
       "ChronicCond_IschemicHeart           int64\n",
       "ChronicCond_Osteoporasis            int64\n",
       "ChronicCond_rheumatoidarthritis     int64\n",
       "ChronicCond_stroke                  int64\n",
       "IPAnnualReimbursementAmt            int64\n",
       "IPAnnualDeductibleAmt               int64\n",
       "OPAnnualReimbursementAmt            int64\n",
       "OPAnnualDeductibleAmt               int64\n",
       "dtype: object"
      ]
     },
     "execution_count": 234,
     "metadata": {},
     "output_type": "execute_result"
    }
   ],
   "source": [
    "benfidata.dtypes"
   ]
  },
  {
   "cell_type": "code",
   "execution_count": 235,
   "metadata": {},
   "outputs": [
    {
     "data": {
      "text/html": [
       "<div>\n",
       "<style scoped>\n",
       "    .dataframe tbody tr th:only-of-type {\n",
       "        vertical-align: middle;\n",
       "    }\n",
       "\n",
       "    .dataframe tbody tr th {\n",
       "        vertical-align: top;\n",
       "    }\n",
       "\n",
       "    .dataframe thead th {\n",
       "        text-align: right;\n",
       "    }\n",
       "</style>\n",
       "<table border=\"1\" class=\"dataframe\">\n",
       "  <thead>\n",
       "    <tr style=\"text-align: right;\">\n",
       "      <th></th>\n",
       "      <th>BeneID</th>\n",
       "      <th>DOB</th>\n",
       "      <th>DOD</th>\n",
       "      <th>Gender</th>\n",
       "      <th>Race</th>\n",
       "      <th>RenalDiseaseIndicator</th>\n",
       "      <th>State</th>\n",
       "      <th>County</th>\n",
       "      <th>NoOfMonths_PartACov</th>\n",
       "      <th>NoOfMonths_PartBCov</th>\n",
       "      <th>...</th>\n",
       "      <th>ChronicCond_Depression</th>\n",
       "      <th>ChronicCond_Diabetes</th>\n",
       "      <th>ChronicCond_IschemicHeart</th>\n",
       "      <th>ChronicCond_Osteoporasis</th>\n",
       "      <th>ChronicCond_rheumatoidarthritis</th>\n",
       "      <th>ChronicCond_stroke</th>\n",
       "      <th>IPAnnualReimbursementAmt</th>\n",
       "      <th>IPAnnualDeductibleAmt</th>\n",
       "      <th>OPAnnualReimbursementAmt</th>\n",
       "      <th>OPAnnualDeductibleAmt</th>\n",
       "    </tr>\n",
       "  </thead>\n",
       "  <tbody>\n",
       "    <tr>\n",
       "      <th>0</th>\n",
       "      <td>BENE11001</td>\n",
       "      <td>1943-01-01</td>\n",
       "      <td>NaN</td>\n",
       "      <td>1</td>\n",
       "      <td>1</td>\n",
       "      <td>0</td>\n",
       "      <td>39</td>\n",
       "      <td>230</td>\n",
       "      <td>12</td>\n",
       "      <td>12</td>\n",
       "      <td>...</td>\n",
       "      <td>1</td>\n",
       "      <td>1</td>\n",
       "      <td>1</td>\n",
       "      <td>2</td>\n",
       "      <td>1</td>\n",
       "      <td>1</td>\n",
       "      <td>36000</td>\n",
       "      <td>3204</td>\n",
       "      <td>60</td>\n",
       "      <td>70</td>\n",
       "    </tr>\n",
       "    <tr>\n",
       "      <th>1</th>\n",
       "      <td>BENE11002</td>\n",
       "      <td>1936-09-01</td>\n",
       "      <td>NaN</td>\n",
       "      <td>2</td>\n",
       "      <td>1</td>\n",
       "      <td>0</td>\n",
       "      <td>39</td>\n",
       "      <td>280</td>\n",
       "      <td>12</td>\n",
       "      <td>12</td>\n",
       "      <td>...</td>\n",
       "      <td>2</td>\n",
       "      <td>2</td>\n",
       "      <td>2</td>\n",
       "      <td>2</td>\n",
       "      <td>2</td>\n",
       "      <td>2</td>\n",
       "      <td>0</td>\n",
       "      <td>0</td>\n",
       "      <td>30</td>\n",
       "      <td>50</td>\n",
       "    </tr>\n",
       "    <tr>\n",
       "      <th>2</th>\n",
       "      <td>BENE11003</td>\n",
       "      <td>1936-08-01</td>\n",
       "      <td>NaN</td>\n",
       "      <td>1</td>\n",
       "      <td>1</td>\n",
       "      <td>0</td>\n",
       "      <td>52</td>\n",
       "      <td>590</td>\n",
       "      <td>12</td>\n",
       "      <td>12</td>\n",
       "      <td>...</td>\n",
       "      <td>2</td>\n",
       "      <td>2</td>\n",
       "      <td>1</td>\n",
       "      <td>2</td>\n",
       "      <td>2</td>\n",
       "      <td>2</td>\n",
       "      <td>0</td>\n",
       "      <td>0</td>\n",
       "      <td>90</td>\n",
       "      <td>40</td>\n",
       "    </tr>\n",
       "    <tr>\n",
       "      <th>3</th>\n",
       "      <td>BENE11004</td>\n",
       "      <td>1922-07-01</td>\n",
       "      <td>NaN</td>\n",
       "      <td>1</td>\n",
       "      <td>1</td>\n",
       "      <td>0</td>\n",
       "      <td>39</td>\n",
       "      <td>270</td>\n",
       "      <td>12</td>\n",
       "      <td>12</td>\n",
       "      <td>...</td>\n",
       "      <td>2</td>\n",
       "      <td>1</td>\n",
       "      <td>1</td>\n",
       "      <td>1</td>\n",
       "      <td>1</td>\n",
       "      <td>2</td>\n",
       "      <td>0</td>\n",
       "      <td>0</td>\n",
       "      <td>1810</td>\n",
       "      <td>760</td>\n",
       "    </tr>\n",
       "    <tr>\n",
       "      <th>4</th>\n",
       "      <td>BENE11005</td>\n",
       "      <td>1935-09-01</td>\n",
       "      <td>NaN</td>\n",
       "      <td>1</td>\n",
       "      <td>1</td>\n",
       "      <td>0</td>\n",
       "      <td>24</td>\n",
       "      <td>680</td>\n",
       "      <td>12</td>\n",
       "      <td>12</td>\n",
       "      <td>...</td>\n",
       "      <td>2</td>\n",
       "      <td>1</td>\n",
       "      <td>2</td>\n",
       "      <td>2</td>\n",
       "      <td>2</td>\n",
       "      <td>2</td>\n",
       "      <td>0</td>\n",
       "      <td>0</td>\n",
       "      <td>1790</td>\n",
       "      <td>1200</td>\n",
       "    </tr>\n",
       "  </tbody>\n",
       "</table>\n",
       "<p>5 rows × 25 columns</p>\n",
       "</div>"
      ],
      "text/plain": [
       "      BeneID         DOB  DOD  Gender  Race RenalDiseaseIndicator  State  \\\n",
       "0  BENE11001  1943-01-01  NaN       1     1                     0     39   \n",
       "1  BENE11002  1936-09-01  NaN       2     1                     0     39   \n",
       "2  BENE11003  1936-08-01  NaN       1     1                     0     52   \n",
       "3  BENE11004  1922-07-01  NaN       1     1                     0     39   \n",
       "4  BENE11005  1935-09-01  NaN       1     1                     0     24   \n",
       "\n",
       "   County  NoOfMonths_PartACov  NoOfMonths_PartBCov          ...            \\\n",
       "0     230                   12                   12          ...             \n",
       "1     280                   12                   12          ...             \n",
       "2     590                   12                   12          ...             \n",
       "3     270                   12                   12          ...             \n",
       "4     680                   12                   12          ...             \n",
       "\n",
       "   ChronicCond_Depression  ChronicCond_Diabetes  ChronicCond_IschemicHeart  \\\n",
       "0                       1                     1                          1   \n",
       "1                       2                     2                          2   \n",
       "2                       2                     2                          1   \n",
       "3                       2                     1                          1   \n",
       "4                       2                     1                          2   \n",
       "\n",
       "   ChronicCond_Osteoporasis  ChronicCond_rheumatoidarthritis  \\\n",
       "0                         2                                1   \n",
       "1                         2                                2   \n",
       "2                         2                                2   \n",
       "3                         1                                1   \n",
       "4                         2                                2   \n",
       "\n",
       "   ChronicCond_stroke  IPAnnualReimbursementAmt  IPAnnualDeductibleAmt  \\\n",
       "0                   1                     36000                   3204   \n",
       "1                   2                         0                      0   \n",
       "2                   2                         0                      0   \n",
       "3                   2                         0                      0   \n",
       "4                   2                         0                      0   \n",
       "\n",
       "   OPAnnualReimbursementAmt  OPAnnualDeductibleAmt  \n",
       "0                        60                     70  \n",
       "1                        30                     50  \n",
       "2                        90                     40  \n",
       "3                      1810                    760  \n",
       "4                      1790                   1200  \n",
       "\n",
       "[5 rows x 25 columns]"
      ]
     },
     "execution_count": 235,
     "metadata": {},
     "output_type": "execute_result"
    }
   ],
   "source": [
    "benfidata.head(5)"
   ]
  },
  {
   "cell_type": "code",
   "execution_count": 8,
   "metadata": {},
   "outputs": [
    {
     "data": {
      "text/plain": [
       "138556"
      ]
     },
     "execution_count": 8,
     "metadata": {},
     "output_type": "execute_result"
    }
   ],
   "source": [
    "benids =benfidata['BeneID'].count()\n",
    "benids\n",
    "   "
   ]
  },
  {
   "cell_type": "code",
   "execution_count": 237,
   "metadata": {},
   "outputs": [
    {
     "data": {
      "text/html": [
       "<div>\n",
       "<style scoped>\n",
       "    .dataframe tbody tr th:only-of-type {\n",
       "        vertical-align: middle;\n",
       "    }\n",
       "\n",
       "    .dataframe tbody tr th {\n",
       "        vertical-align: top;\n",
       "    }\n",
       "\n",
       "    .dataframe thead th {\n",
       "        text-align: right;\n",
       "    }\n",
       "</style>\n",
       "<table border=\"1\" class=\"dataframe\">\n",
       "  <thead>\n",
       "    <tr style=\"text-align: right;\">\n",
       "      <th></th>\n",
       "      <th>BeneID</th>\n",
       "      <th>DOB</th>\n",
       "      <th>DOD</th>\n",
       "      <th>RenalDiseaseIndicator</th>\n",
       "    </tr>\n",
       "  </thead>\n",
       "  <tbody>\n",
       "    <tr>\n",
       "      <th>count</th>\n",
       "      <td>138556</td>\n",
       "      <td>138556</td>\n",
       "      <td>1421</td>\n",
       "      <td>138556</td>\n",
       "    </tr>\n",
       "    <tr>\n",
       "      <th>unique</th>\n",
       "      <td>138556</td>\n",
       "      <td>900</td>\n",
       "      <td>11</td>\n",
       "      <td>2</td>\n",
       "    </tr>\n",
       "    <tr>\n",
       "      <th>top</th>\n",
       "      <td>BENE33012</td>\n",
       "      <td>1939-10-01</td>\n",
       "      <td>2009-12-01</td>\n",
       "      <td>0</td>\n",
       "    </tr>\n",
       "    <tr>\n",
       "      <th>freq</th>\n",
       "      <td>1</td>\n",
       "      <td>540</td>\n",
       "      <td>182</td>\n",
       "      <td>118978</td>\n",
       "    </tr>\n",
       "  </tbody>\n",
       "</table>\n",
       "</div>"
      ],
      "text/plain": [
       "           BeneID         DOB         DOD RenalDiseaseIndicator\n",
       "count      138556      138556        1421                138556\n",
       "unique     138556         900          11                     2\n",
       "top     BENE33012  1939-10-01  2009-12-01                     0\n",
       "freq            1         540         182                118978"
      ]
     },
     "execution_count": 237,
     "metadata": {},
     "output_type": "execute_result"
    }
   ],
   "source": [
    "# Summarize categorical features\n",
    "benfidata.describe(include=['object'])"
   ]
  },
  {
   "cell_type": "code",
   "execution_count": 238,
   "metadata": {},
   "outputs": [
    {
     "data": {
      "text/html": [
       "<div>\n",
       "<style scoped>\n",
       "    .dataframe tbody tr th:only-of-type {\n",
       "        vertical-align: middle;\n",
       "    }\n",
       "\n",
       "    .dataframe tbody tr th {\n",
       "        vertical-align: top;\n",
       "    }\n",
       "\n",
       "    .dataframe thead th {\n",
       "        text-align: right;\n",
       "    }\n",
       "</style>\n",
       "<table border=\"1\" class=\"dataframe\">\n",
       "  <thead>\n",
       "    <tr style=\"text-align: right;\">\n",
       "      <th></th>\n",
       "      <th>Gender</th>\n",
       "      <th>Race</th>\n",
       "      <th>State</th>\n",
       "      <th>County</th>\n",
       "      <th>NoOfMonths_PartACov</th>\n",
       "      <th>NoOfMonths_PartBCov</th>\n",
       "      <th>ChronicCond_Alzheimer</th>\n",
       "      <th>ChronicCond_Heartfailure</th>\n",
       "      <th>ChronicCond_KidneyDisease</th>\n",
       "      <th>ChronicCond_Cancer</th>\n",
       "      <th>...</th>\n",
       "      <th>ChronicCond_Depression</th>\n",
       "      <th>ChronicCond_Diabetes</th>\n",
       "      <th>ChronicCond_IschemicHeart</th>\n",
       "      <th>ChronicCond_Osteoporasis</th>\n",
       "      <th>ChronicCond_rheumatoidarthritis</th>\n",
       "      <th>ChronicCond_stroke</th>\n",
       "      <th>IPAnnualReimbursementAmt</th>\n",
       "      <th>IPAnnualDeductibleAmt</th>\n",
       "      <th>OPAnnualReimbursementAmt</th>\n",
       "      <th>OPAnnualDeductibleAmt</th>\n",
       "    </tr>\n",
       "  </thead>\n",
       "  <tbody>\n",
       "    <tr>\n",
       "      <th>count</th>\n",
       "      <td>138556.000000</td>\n",
       "      <td>138556.000000</td>\n",
       "      <td>138556.000000</td>\n",
       "      <td>138556.000000</td>\n",
       "      <td>138556.000000</td>\n",
       "      <td>138556.000000</td>\n",
       "      <td>138556.000000</td>\n",
       "      <td>138556.000000</td>\n",
       "      <td>138556.000000</td>\n",
       "      <td>138556.000000</td>\n",
       "      <td>...</td>\n",
       "      <td>138556.000000</td>\n",
       "      <td>138556.000000</td>\n",
       "      <td>138556.000000</td>\n",
       "      <td>138556.000000</td>\n",
       "      <td>138556.000000</td>\n",
       "      <td>138556.000000</td>\n",
       "      <td>138556.000000</td>\n",
       "      <td>138556.000000</td>\n",
       "      <td>138556.000000</td>\n",
       "      <td>138556.000000</td>\n",
       "    </tr>\n",
       "    <tr>\n",
       "      <th>mean</th>\n",
       "      <td>1.570932</td>\n",
       "      <td>1.254511</td>\n",
       "      <td>25.666734</td>\n",
       "      <td>374.424745</td>\n",
       "      <td>11.907727</td>\n",
       "      <td>11.910145</td>\n",
       "      <td>1.667817</td>\n",
       "      <td>1.506322</td>\n",
       "      <td>1.687643</td>\n",
       "      <td>1.880041</td>\n",
       "      <td>...</td>\n",
       "      <td>1.644476</td>\n",
       "      <td>1.398142</td>\n",
       "      <td>1.324143</td>\n",
       "      <td>1.725317</td>\n",
       "      <td>1.743180</td>\n",
       "      <td>1.920942</td>\n",
       "      <td>3660.346502</td>\n",
       "      <td>399.847296</td>\n",
       "      <td>1298.219348</td>\n",
       "      <td>377.718258</td>\n",
       "    </tr>\n",
       "    <tr>\n",
       "      <th>std</th>\n",
       "      <td>0.494945</td>\n",
       "      <td>0.717007</td>\n",
       "      <td>15.223443</td>\n",
       "      <td>266.277581</td>\n",
       "      <td>1.032332</td>\n",
       "      <td>0.936893</td>\n",
       "      <td>0.470998</td>\n",
       "      <td>0.499962</td>\n",
       "      <td>0.463456</td>\n",
       "      <td>0.324914</td>\n",
       "      <td>...</td>\n",
       "      <td>0.478674</td>\n",
       "      <td>0.489517</td>\n",
       "      <td>0.468056</td>\n",
       "      <td>0.446356</td>\n",
       "      <td>0.436881</td>\n",
       "      <td>0.269831</td>\n",
       "      <td>9568.621827</td>\n",
       "      <td>956.175202</td>\n",
       "      <td>2493.901134</td>\n",
       "      <td>645.530187</td>\n",
       "    </tr>\n",
       "    <tr>\n",
       "      <th>min</th>\n",
       "      <td>1.000000</td>\n",
       "      <td>1.000000</td>\n",
       "      <td>1.000000</td>\n",
       "      <td>0.000000</td>\n",
       "      <td>0.000000</td>\n",
       "      <td>0.000000</td>\n",
       "      <td>1.000000</td>\n",
       "      <td>1.000000</td>\n",
       "      <td>1.000000</td>\n",
       "      <td>1.000000</td>\n",
       "      <td>...</td>\n",
       "      <td>1.000000</td>\n",
       "      <td>1.000000</td>\n",
       "      <td>1.000000</td>\n",
       "      <td>1.000000</td>\n",
       "      <td>1.000000</td>\n",
       "      <td>1.000000</td>\n",
       "      <td>-8000.000000</td>\n",
       "      <td>0.000000</td>\n",
       "      <td>-70.000000</td>\n",
       "      <td>0.000000</td>\n",
       "    </tr>\n",
       "    <tr>\n",
       "      <th>25%</th>\n",
       "      <td>1.000000</td>\n",
       "      <td>1.000000</td>\n",
       "      <td>11.000000</td>\n",
       "      <td>141.000000</td>\n",
       "      <td>12.000000</td>\n",
       "      <td>12.000000</td>\n",
       "      <td>1.000000</td>\n",
       "      <td>1.000000</td>\n",
       "      <td>1.000000</td>\n",
       "      <td>2.000000</td>\n",
       "      <td>...</td>\n",
       "      <td>1.000000</td>\n",
       "      <td>1.000000</td>\n",
       "      <td>1.000000</td>\n",
       "      <td>1.000000</td>\n",
       "      <td>1.000000</td>\n",
       "      <td>2.000000</td>\n",
       "      <td>0.000000</td>\n",
       "      <td>0.000000</td>\n",
       "      <td>170.000000</td>\n",
       "      <td>40.000000</td>\n",
       "    </tr>\n",
       "    <tr>\n",
       "      <th>50%</th>\n",
       "      <td>2.000000</td>\n",
       "      <td>1.000000</td>\n",
       "      <td>25.000000</td>\n",
       "      <td>340.000000</td>\n",
       "      <td>12.000000</td>\n",
       "      <td>12.000000</td>\n",
       "      <td>2.000000</td>\n",
       "      <td>2.000000</td>\n",
       "      <td>2.000000</td>\n",
       "      <td>2.000000</td>\n",
       "      <td>...</td>\n",
       "      <td>2.000000</td>\n",
       "      <td>1.000000</td>\n",
       "      <td>1.000000</td>\n",
       "      <td>2.000000</td>\n",
       "      <td>2.000000</td>\n",
       "      <td>2.000000</td>\n",
       "      <td>0.000000</td>\n",
       "      <td>0.000000</td>\n",
       "      <td>570.000000</td>\n",
       "      <td>170.000000</td>\n",
       "    </tr>\n",
       "    <tr>\n",
       "      <th>75%</th>\n",
       "      <td>2.000000</td>\n",
       "      <td>1.000000</td>\n",
       "      <td>39.000000</td>\n",
       "      <td>570.000000</td>\n",
       "      <td>12.000000</td>\n",
       "      <td>12.000000</td>\n",
       "      <td>2.000000</td>\n",
       "      <td>2.000000</td>\n",
       "      <td>2.000000</td>\n",
       "      <td>2.000000</td>\n",
       "      <td>...</td>\n",
       "      <td>2.000000</td>\n",
       "      <td>2.000000</td>\n",
       "      <td>2.000000</td>\n",
       "      <td>2.000000</td>\n",
       "      <td>2.000000</td>\n",
       "      <td>2.000000</td>\n",
       "      <td>2280.000000</td>\n",
       "      <td>1068.000000</td>\n",
       "      <td>1500.000000</td>\n",
       "      <td>460.000000</td>\n",
       "    </tr>\n",
       "    <tr>\n",
       "      <th>max</th>\n",
       "      <td>2.000000</td>\n",
       "      <td>5.000000</td>\n",
       "      <td>54.000000</td>\n",
       "      <td>999.000000</td>\n",
       "      <td>12.000000</td>\n",
       "      <td>12.000000</td>\n",
       "      <td>2.000000</td>\n",
       "      <td>2.000000</td>\n",
       "      <td>2.000000</td>\n",
       "      <td>2.000000</td>\n",
       "      <td>...</td>\n",
       "      <td>2.000000</td>\n",
       "      <td>2.000000</td>\n",
       "      <td>2.000000</td>\n",
       "      <td>2.000000</td>\n",
       "      <td>2.000000</td>\n",
       "      <td>2.000000</td>\n",
       "      <td>161470.000000</td>\n",
       "      <td>38272.000000</td>\n",
       "      <td>102960.000000</td>\n",
       "      <td>13840.000000</td>\n",
       "    </tr>\n",
       "  </tbody>\n",
       "</table>\n",
       "<p>8 rows × 21 columns</p>\n",
       "</div>"
      ],
      "text/plain": [
       "              Gender           Race          State         County  \\\n",
       "count  138556.000000  138556.000000  138556.000000  138556.000000   \n",
       "mean        1.570932       1.254511      25.666734     374.424745   \n",
       "std         0.494945       0.717007      15.223443     266.277581   \n",
       "min         1.000000       1.000000       1.000000       0.000000   \n",
       "25%         1.000000       1.000000      11.000000     141.000000   \n",
       "50%         2.000000       1.000000      25.000000     340.000000   \n",
       "75%         2.000000       1.000000      39.000000     570.000000   \n",
       "max         2.000000       5.000000      54.000000     999.000000   \n",
       "\n",
       "       NoOfMonths_PartACov  NoOfMonths_PartBCov  ChronicCond_Alzheimer  \\\n",
       "count        138556.000000        138556.000000          138556.000000   \n",
       "mean             11.907727            11.910145               1.667817   \n",
       "std               1.032332             0.936893               0.470998   \n",
       "min               0.000000             0.000000               1.000000   \n",
       "25%              12.000000            12.000000               1.000000   \n",
       "50%              12.000000            12.000000               2.000000   \n",
       "75%              12.000000            12.000000               2.000000   \n",
       "max              12.000000            12.000000               2.000000   \n",
       "\n",
       "       ChronicCond_Heartfailure  ChronicCond_KidneyDisease  \\\n",
       "count             138556.000000              138556.000000   \n",
       "mean                   1.506322                   1.687643   \n",
       "std                    0.499962                   0.463456   \n",
       "min                    1.000000                   1.000000   \n",
       "25%                    1.000000                   1.000000   \n",
       "50%                    2.000000                   2.000000   \n",
       "75%                    2.000000                   2.000000   \n",
       "max                    2.000000                   2.000000   \n",
       "\n",
       "       ChronicCond_Cancer          ...            ChronicCond_Depression  \\\n",
       "count       138556.000000          ...                     138556.000000   \n",
       "mean             1.880041          ...                          1.644476   \n",
       "std              0.324914          ...                          0.478674   \n",
       "min              1.000000          ...                          1.000000   \n",
       "25%              2.000000          ...                          1.000000   \n",
       "50%              2.000000          ...                          2.000000   \n",
       "75%              2.000000          ...                          2.000000   \n",
       "max              2.000000          ...                          2.000000   \n",
       "\n",
       "       ChronicCond_Diabetes  ChronicCond_IschemicHeart  \\\n",
       "count         138556.000000              138556.000000   \n",
       "mean               1.398142                   1.324143   \n",
       "std                0.489517                   0.468056   \n",
       "min                1.000000                   1.000000   \n",
       "25%                1.000000                   1.000000   \n",
       "50%                1.000000                   1.000000   \n",
       "75%                2.000000                   2.000000   \n",
       "max                2.000000                   2.000000   \n",
       "\n",
       "       ChronicCond_Osteoporasis  ChronicCond_rheumatoidarthritis  \\\n",
       "count             138556.000000                    138556.000000   \n",
       "mean                   1.725317                         1.743180   \n",
       "std                    0.446356                         0.436881   \n",
       "min                    1.000000                         1.000000   \n",
       "25%                    1.000000                         1.000000   \n",
       "50%                    2.000000                         2.000000   \n",
       "75%                    2.000000                         2.000000   \n",
       "max                    2.000000                         2.000000   \n",
       "\n",
       "       ChronicCond_stroke  IPAnnualReimbursementAmt  IPAnnualDeductibleAmt  \\\n",
       "count       138556.000000             138556.000000          138556.000000   \n",
       "mean             1.920942               3660.346502             399.847296   \n",
       "std              0.269831               9568.621827             956.175202   \n",
       "min              1.000000              -8000.000000               0.000000   \n",
       "25%              2.000000                  0.000000               0.000000   \n",
       "50%              2.000000                  0.000000               0.000000   \n",
       "75%              2.000000               2280.000000            1068.000000   \n",
       "max              2.000000             161470.000000           38272.000000   \n",
       "\n",
       "       OPAnnualReimbursementAmt  OPAnnualDeductibleAmt  \n",
       "count             138556.000000          138556.000000  \n",
       "mean                1298.219348             377.718258  \n",
       "std                 2493.901134             645.530187  \n",
       "min                  -70.000000               0.000000  \n",
       "25%                  170.000000              40.000000  \n",
       "50%                  570.000000             170.000000  \n",
       "75%                 1500.000000             460.000000  \n",
       "max               102960.000000           13840.000000  \n",
       "\n",
       "[8 rows x 21 columns]"
      ]
     },
     "execution_count": 238,
     "metadata": {},
     "output_type": "execute_result"
    }
   ],
   "source": [
    "# Summarize categorical features\n",
    "benfidata.describe()"
   ]
  },
  {
   "cell_type": "code",
   "execution_count": 239,
   "metadata": {},
   "outputs": [
    {
     "data": {
      "text/plain": [
       "Index(['BeneID', 'DOB', 'DOD', 'Gender', 'Race', 'RenalDiseaseIndicator',\n",
       "       'State', 'County', 'NoOfMonths_PartACov', 'NoOfMonths_PartBCov',\n",
       "       'ChronicCond_Alzheimer', 'ChronicCond_Heartfailure',\n",
       "       'ChronicCond_KidneyDisease', 'ChronicCond_Cancer',\n",
       "       'ChronicCond_ObstrPulmonary', 'ChronicCond_Depression',\n",
       "       'ChronicCond_Diabetes', 'ChronicCond_IschemicHeart',\n",
       "       'ChronicCond_Osteoporasis', 'ChronicCond_rheumatoidarthritis',\n",
       "       'ChronicCond_stroke', 'IPAnnualReimbursementAmt',\n",
       "       'IPAnnualDeductibleAmt', 'OPAnnualReimbursementAmt',\n",
       "       'OPAnnualDeductibleAmt'],\n",
       "      dtype='object')"
      ]
     },
     "execution_count": 239,
     "metadata": {},
     "output_type": "execute_result"
    }
   ],
   "source": [
    "benfidata.columns"
   ]
  },
  {
   "cell_type": "code",
   "execution_count": 9,
   "metadata": {},
   "outputs": [],
   "source": [
    "import pandas as pd\n",
    "from datetime import datetime\n",
    "from datetime import date\n",
    "\n",
    "#Converting to Datetime\n",
    "today = date.today()\n",
    "benfidata['DOB'] = pd.to_datetime(benfidata['DOB'])\n",
    "\n",
    "# Added one Extra date column to calculate age\n",
    "benfidata['today'] = datetime.today()  "
   ]
  },
  {
   "cell_type": "code",
   "execution_count": 166,
   "metadata": {},
   "outputs": [],
   "source": [
    "# befidata['age'] = benfidata['today']-benfidata['DOB']  -> It is giving days and time\n"
   ]
  },
  {
   "cell_type": "code",
   "execution_count": 13,
   "metadata": {},
   "outputs": [],
   "source": [
    "# Function for calculating and seperating years\n",
    "\n",
    "from dateutil import relativedelta\n",
    "\n",
    "def intck_month(row):\n",
    "    start, end = row['DOB'], row['today']\n",
    "    rd = relativedelta.relativedelta( pd.to_datetime( end ), pd.to_datetime( start ) )\n",
    "    return rd.years"
   ]
  },
  {
   "cell_type": "code",
   "execution_count": 14,
   "metadata": {},
   "outputs": [],
   "source": [
    "benfidata['age'] = benfidata[['DOB', 'today']].apply(intck_month, axis = 1)"
   ]
  },
  {
   "cell_type": "code",
   "execution_count": 15,
   "metadata": {},
   "outputs": [
    {
     "data": {
      "text/plain": [
       "138556"
      ]
     },
     "execution_count": 15,
     "metadata": {},
     "output_type": "execute_result"
    }
   ],
   "source": [
    "benfidata['age'].count()\n"
   ]
  },
  {
   "cell_type": "code",
   "execution_count": 16,
   "metadata": {},
   "outputs": [
    {
     "data": {
      "text/plain": [
       "0    75\n",
       "1    82\n",
       "2    82\n",
       "3    96\n",
       "4    83\n",
       "Name: age, dtype: int64"
      ]
     },
     "execution_count": 16,
     "metadata": {},
     "output_type": "execute_result"
    }
   ],
   "source": [
    "benfidata['age'].head()"
   ]
  },
  {
   "cell_type": "code",
   "execution_count": null,
   "metadata": {},
   "outputs": [],
   "source": [
    "### Age for already died people"
   ]
  },
  {
   "cell_type": "code",
   "execution_count": 202,
   "metadata": {},
   "outputs": [
    {
     "ename": "SyntaxError",
     "evalue": "invalid syntax (<ipython-input-202-dd0cc9d0d007>, line 1)",
     "output_type": "error",
     "traceback": [
      "\u001b[1;36m  File \u001b[1;32m\"<ipython-input-202-dd0cc9d0d007>\"\u001b[1;36m, line \u001b[1;32m1\u001b[0m\n\u001b[1;33m    benfidata[benfidata['DOD']!==np.NaN]\u001b[0m\n\u001b[1;37m                                ^\u001b[0m\n\u001b[1;31mSyntaxError\u001b[0m\u001b[1;31m:\u001b[0m invalid syntax\n"
     ]
    }
   ],
   "source": [
    "benfidata['"
   ]
  },
  {
   "cell_type": "code",
   "execution_count": 203,
   "metadata": {},
   "outputs": [
    {
     "data": {
      "text/plain": [
       "Index(['BeneID', 'DOB', 'DOD', 'Gender', 'Race', 'RenalDiseaseIndicator',\n",
       "       'State', 'County', 'NoOfMonths_PartACov', 'NoOfMonths_PartBCov',\n",
       "       'ChronicCond_Alzheimer', 'ChronicCond_Heartfailure',\n",
       "       'ChronicCond_KidneyDisease', 'ChronicCond_Cancer',\n",
       "       'ChronicCond_ObstrPulmonary', 'ChronicCond_Depression',\n",
       "       'ChronicCond_Diabetes', 'ChronicCond_IschemicHeart',\n",
       "       'ChronicCond_Osteoporasis', 'ChronicCond_rheumatoidarthritis',\n",
       "       'ChronicCond_stroke', 'IPAnnualReimbursementAmt',\n",
       "       'IPAnnualDeductibleAmt', 'OPAnnualReimbursementAmt',\n",
       "       'OPAnnualDeductibleAmt', 'age', 'today'],\n",
       "      dtype='object')"
      ]
     },
     "execution_count": 203,
     "metadata": {},
     "output_type": "execute_result"
    }
   ],
   "source": [
    "benfidata.columns"
   ]
  },
  {
   "cell_type": "code",
   "execution_count": 17,
   "metadata": {},
   "outputs": [
    {
     "ename": "NameError",
     "evalue": "name 'last_update_date' is not defined",
     "output_type": "error",
     "traceback": [
      "\u001b[1;31m---------------------------------------------------------------------------\u001b[0m",
      "\u001b[1;31mNameError\u001b[0m                                 Traceback (most recent call last)",
      "\u001b[1;32m<ipython-input-17-f737658fc1fa>\u001b[0m in \u001b[0;36m<module>\u001b[1;34m()\u001b[0m\n\u001b[1;32m----> 1\u001b[1;33m \u001b[0mlast_update_date\u001b[0m\u001b[1;33m\u001b[0m\u001b[0m\n\u001b[0m",
      "\u001b[1;31mNameError\u001b[0m: name 'last_update_date' is not defined"
     ]
    }
   ],
   "source": [
    "last_update_date"
   ]
  },
  {
   "cell_type": "code",
   "execution_count": 242,
   "metadata": {},
   "outputs": [],
   "source": [
    "benfidata['DOD'].fillna(last_update_date,inplace =True)"
   ]
  },
  {
   "cell_type": "code",
   "execution_count": 243,
   "metadata": {},
   "outputs": [],
   "source": [
    "from dateutil import relativedelta\n",
    "\n",
    "def intck_month(row):\n",
    "    start, end = row['DOB'], row['DOD']\n",
    "    rd = relativedelta.relativedelta( pd.to_datetime( end ), pd.to_datetime( start ) )\n",
    "    return rd.years"
   ]
  },
  {
   "cell_type": "code",
   "execution_count": 244,
   "metadata": {},
   "outputs": [],
   "source": [
    "benfidata['age'] = benfidata[['DOB', 'DOD']].apply(intck_month, axis = 1)"
   ]
  },
  {
   "cell_type": "code",
   "execution_count": 219,
   "metadata": {},
   "outputs": [],
   "source": []
  },
  {
   "cell_type": "code",
   "execution_count": 246,
   "metadata": {},
   "outputs": [
    {
     "data": {
      "text/plain": [
       "0     66\n",
       "1     73\n",
       "2     73\n",
       "3     87\n",
       "4     74\n",
       "5     33\n",
       "6     69\n",
       "7     75\n",
       "8     80\n",
       "9     73\n",
       "10    95\n",
       "11    75\n",
       "12    82\n",
       "13    71\n",
       "14    73\n",
       "15    90\n",
       "16    69\n",
       "17    70\n",
       "18    85\n",
       "19    70\n",
       "Name: age, dtype: int64"
      ]
     },
     "execution_count": 246,
     "metadata": {},
     "output_type": "execute_result"
    }
   ],
   "source": [
    "benfidata['age'].head(20)"
   ]
  },
  {
   "cell_type": "code",
   "execution_count": 247,
   "metadata": {},
   "outputs": [
    {
     "data": {
      "text/plain": [
       "BeneID                                              BENE11011\n",
       "DOB                                       1914-03-01 00:00:00\n",
       "DOD                                                2009-12-31\n",
       "Gender                                                      2\n",
       "Race                                                        2\n",
       "RenalDiseaseIndicator                                       0\n",
       "State                                                       1\n",
       "County                                                    360\n",
       "NoOfMonths_PartACov                                        12\n",
       "NoOfMonths_PartBCov                                        12\n",
       "ChronicCond_Alzheimer                                       2\n",
       "ChronicCond_Heartfailure                                    1\n",
       "ChronicCond_KidneyDisease                                   1\n",
       "ChronicCond_Cancer                                          2\n",
       "ChronicCond_ObstrPulmonary                                  2\n",
       "ChronicCond_Depression                                      1\n",
       "ChronicCond_Diabetes                                        1\n",
       "ChronicCond_IschemicHeart                                   2\n",
       "ChronicCond_Osteoporasis                                    2\n",
       "ChronicCond_rheumatoidarthritis                             1\n",
       "ChronicCond_stroke                                          1\n",
       "IPAnnualReimbursementAmt                                 5000\n",
       "IPAnnualDeductibleAmt                                    1068\n",
       "OPAnnualReimbursementAmt                                  250\n",
       "OPAnnualDeductibleAmt                                     320\n",
       "today                              2018-12-02 12:13:21.604344\n",
       "age                                                        95\n",
       "Name: 10, dtype: object"
      ]
     },
     "execution_count": 247,
     "metadata": {},
     "output_type": "execute_result"
    }
   ],
   "source": [
    "benfidata.iloc[10]"
   ]
  },
  {
   "cell_type": "code",
   "execution_count": 248,
   "metadata": {},
   "outputs": [
    {
     "data": {
      "text/plain": [
       "Index(['BeneID', 'DOB', 'DOD', 'Gender', 'Race', 'RenalDiseaseIndicator',\n",
       "       'State', 'County', 'NoOfMonths_PartACov', 'NoOfMonths_PartBCov',\n",
       "       'ChronicCond_Alzheimer', 'ChronicCond_Heartfailure',\n",
       "       'ChronicCond_KidneyDisease', 'ChronicCond_Cancer',\n",
       "       'ChronicCond_ObstrPulmonary', 'ChronicCond_Depression',\n",
       "       'ChronicCond_Diabetes', 'ChronicCond_IschemicHeart',\n",
       "       'ChronicCond_Osteoporasis', 'ChronicCond_rheumatoidarthritis',\n",
       "       'ChronicCond_stroke', 'IPAnnualReimbursementAmt',\n",
       "       'IPAnnualDeductibleAmt', 'OPAnnualReimbursementAmt',\n",
       "       'OPAnnualDeductibleAmt', 'today', 'age'],\n",
       "      dtype='object')"
      ]
     },
     "execution_count": 248,
     "metadata": {},
     "output_type": "execute_result"
    }
   ],
   "source": [
    "benfidata.columns"
   ]
  },
  {
   "cell_type": "code",
   "execution_count": 249,
   "metadata": {},
   "outputs": [],
   "source": [
    "del benfidata['DOB']\n",
    "del benfidata['DOD']\n",
    "del benfidata['today']"
   ]
  },
  {
   "cell_type": "code",
   "execution_count": 250,
   "metadata": {},
   "outputs": [
    {
     "data": {
      "text/plain": [
       "Index(['BeneID', 'Gender', 'Race', 'RenalDiseaseIndicator', 'State', 'County',\n",
       "       'NoOfMonths_PartACov', 'NoOfMonths_PartBCov', 'ChronicCond_Alzheimer',\n",
       "       'ChronicCond_Heartfailure', 'ChronicCond_KidneyDisease',\n",
       "       'ChronicCond_Cancer', 'ChronicCond_ObstrPulmonary',\n",
       "       'ChronicCond_Depression', 'ChronicCond_Diabetes',\n",
       "       'ChronicCond_IschemicHeart', 'ChronicCond_Osteoporasis',\n",
       "       'ChronicCond_rheumatoidarthritis', 'ChronicCond_stroke',\n",
       "       'IPAnnualReimbursementAmt', 'IPAnnualDeductibleAmt',\n",
       "       'OPAnnualReimbursementAmt', 'OPAnnualDeductibleAmt', 'age'],\n",
       "      dtype='object')"
      ]
     },
     "execution_count": 250,
     "metadata": {},
     "output_type": "execute_result"
    }
   ],
   "source": [
    "benfidata.columns"
   ]
  },
  {
   "cell_type": "markdown",
   "metadata": {},
   "source": [
    "# Exploring the Inpatient Data"
   ]
  },
  {
   "cell_type": "code",
   "execution_count": 18,
   "metadata": {},
   "outputs": [],
   "source": [
    "ipdata = pd.read_csv(\"C:/Users/bkumar66/Desktop/ML/Ph_D_DATA/Train_Inpatientdata-1542865627584.csv\")"
   ]
  },
  {
   "cell_type": "code",
   "execution_count": 19,
   "metadata": {},
   "outputs": [
    {
     "data": {
      "text/plain": [
       "BeneID                    40474\n",
       "ClaimID                   40474\n",
       "ClaimStartDt              40474\n",
       "ClaimEndDt                40474\n",
       "Provider                  40474\n",
       "InscClaimAmtReimbursed    40474\n",
       "AttendingPhysician        40362\n",
       "OperatingPhysician        23830\n",
       "OtherPhysician             4690\n",
       "AdmissionDt               40474\n",
       "ClmAdmitDiagnosisCode     40474\n",
       "DeductibleAmtPaid         39575\n",
       "DischargeDt               40474\n",
       "DiagnosisGroupCode        40474\n",
       "ClmDiagnosisCode_1        40474\n",
       "ClmDiagnosisCode_2        40248\n",
       "ClmDiagnosisCode_3        39798\n",
       "ClmDiagnosisCode_4        38940\n",
       "ClmDiagnosisCode_5        37580\n",
       "ClmDiagnosisCode_6        35636\n",
       "ClmDiagnosisCode_7        33216\n",
       "ClmDiagnosisCode_8        30532\n",
       "ClmDiagnosisCode_9        26977\n",
       "ClmDiagnosisCode_10        3927\n",
       "ClmProcedureCode_1        23148\n",
       "ClmProcedureCode_2         5454\n",
       "ClmProcedureCode_3          965\n",
       "ClmProcedureCode_4          116\n",
       "ClmProcedureCode_5            9\n",
       "ClmProcedureCode_6            0\n",
       "dtype: int64"
      ]
     },
     "execution_count": 19,
     "metadata": {},
     "output_type": "execute_result"
    }
   ],
   "source": [
    "ipdata.count()"
   ]
  },
  {
   "cell_type": "code",
   "execution_count": 253,
   "metadata": {},
   "outputs": [
    {
     "data": {
      "text/plain": [
       "BeneID                    31289\n",
       "ClaimID                   40474\n",
       "ClaimStartDt                398\n",
       "ClaimEndDt                  365\n",
       "Provider                   2092\n",
       "InscClaimAmtReimbursed      146\n",
       "AttendingPhysician        11604\n",
       "OperatingPhysician         8287\n",
       "OtherPhysician             2877\n",
       "AdmissionDt                 398\n",
       "ClmAdmitDiagnosisCode      1928\n",
       "DeductibleAmtPaid             1\n",
       "DischargeDt                 365\n",
       "DiagnosisGroupCode          736\n",
       "ClmDiagnosisCode_1         2254\n",
       "ClmDiagnosisCode_2         2439\n",
       "ClmDiagnosisCode_3         2427\n",
       "ClmDiagnosisCode_4         2441\n",
       "ClmDiagnosisCode_5         2374\n",
       "ClmDiagnosisCode_6         2358\n",
       "ClmDiagnosisCode_7         2310\n",
       "ClmDiagnosisCode_8         2243\n",
       "ClmDiagnosisCode_9         2094\n",
       "ClmDiagnosisCode_10         952\n",
       "ClmProcedureCode_1         1117\n",
       "ClmProcedureCode_2          297\n",
       "ClmProcedureCode_3          154\n",
       "ClmProcedureCode_4           48\n",
       "ClmProcedureCode_5            6\n",
       "ClmProcedureCode_6            0\n",
       "dtype: int64"
      ]
     },
     "execution_count": 253,
     "metadata": {},
     "output_type": "execute_result"
    }
   ],
   "source": [
    "ipdata.nunique()"
   ]
  },
  {
   "cell_type": "code",
   "execution_count": 254,
   "metadata": {},
   "outputs": [
    {
     "name": "stdout",
     "output_type": "stream",
     "text": [
      "<class 'pandas.core.frame.DataFrame'>\n",
      "RangeIndex: 40474 entries, 0 to 40473\n",
      "Data columns (total 30 columns):\n",
      "BeneID                    40474 non-null object\n",
      "ClaimID                   40474 non-null object\n",
      "ClaimStartDt              40474 non-null object\n",
      "ClaimEndDt                40474 non-null object\n",
      "Provider                  40474 non-null object\n",
      "InscClaimAmtReimbursed    40474 non-null int64\n",
      "AttendingPhysician        40362 non-null object\n",
      "OperatingPhysician        23830 non-null object\n",
      "OtherPhysician            4690 non-null object\n",
      "AdmissionDt               40474 non-null object\n",
      "ClmAdmitDiagnosisCode     40474 non-null object\n",
      "DeductibleAmtPaid         39575 non-null float64\n",
      "DischargeDt               40474 non-null object\n",
      "DiagnosisGroupCode        40474 non-null object\n",
      "ClmDiagnosisCode_1        40474 non-null object\n",
      "ClmDiagnosisCode_2        40248 non-null object\n",
      "ClmDiagnosisCode_3        39798 non-null object\n",
      "ClmDiagnosisCode_4        38940 non-null object\n",
      "ClmDiagnosisCode_5        37580 non-null object\n",
      "ClmDiagnosisCode_6        35636 non-null object\n",
      "ClmDiagnosisCode_7        33216 non-null object\n",
      "ClmDiagnosisCode_8        30532 non-null object\n",
      "ClmDiagnosisCode_9        26977 non-null object\n",
      "ClmDiagnosisCode_10       3927 non-null object\n",
      "ClmProcedureCode_1        23148 non-null float64\n",
      "ClmProcedureCode_2        5454 non-null float64\n",
      "ClmProcedureCode_3        965 non-null float64\n",
      "ClmProcedureCode_4        116 non-null float64\n",
      "ClmProcedureCode_5        9 non-null float64\n",
      "ClmProcedureCode_6        0 non-null float64\n",
      "dtypes: float64(7), int64(1), object(22)\n",
      "memory usage: 9.3+ MB\n"
     ]
    }
   ],
   "source": [
    "ipdata.info()"
   ]
  },
  {
   "cell_type": "code",
   "execution_count": 255,
   "metadata": {},
   "outputs": [
    {
     "data": {
      "text/html": [
       "<div>\n",
       "<style scoped>\n",
       "    .dataframe tbody tr th:only-of-type {\n",
       "        vertical-align: middle;\n",
       "    }\n",
       "\n",
       "    .dataframe tbody tr th {\n",
       "        vertical-align: top;\n",
       "    }\n",
       "\n",
       "    .dataframe thead th {\n",
       "        text-align: right;\n",
       "    }\n",
       "</style>\n",
       "<table border=\"1\" class=\"dataframe\">\n",
       "  <thead>\n",
       "    <tr style=\"text-align: right;\">\n",
       "      <th></th>\n",
       "      <th>BeneID</th>\n",
       "      <th>ClaimID</th>\n",
       "      <th>ClaimStartDt</th>\n",
       "      <th>ClaimEndDt</th>\n",
       "      <th>Provider</th>\n",
       "      <th>InscClaimAmtReimbursed</th>\n",
       "      <th>AttendingPhysician</th>\n",
       "      <th>OperatingPhysician</th>\n",
       "      <th>OtherPhysician</th>\n",
       "      <th>AdmissionDt</th>\n",
       "      <th>...</th>\n",
       "      <th>ClmDiagnosisCode_7</th>\n",
       "      <th>ClmDiagnosisCode_8</th>\n",
       "      <th>ClmDiagnosisCode_9</th>\n",
       "      <th>ClmDiagnosisCode_10</th>\n",
       "      <th>ClmProcedureCode_1</th>\n",
       "      <th>ClmProcedureCode_2</th>\n",
       "      <th>ClmProcedureCode_3</th>\n",
       "      <th>ClmProcedureCode_4</th>\n",
       "      <th>ClmProcedureCode_5</th>\n",
       "      <th>ClmProcedureCode_6</th>\n",
       "    </tr>\n",
       "  </thead>\n",
       "  <tbody>\n",
       "    <tr>\n",
       "      <th>0</th>\n",
       "      <td>BENE11001</td>\n",
       "      <td>CLM46614</td>\n",
       "      <td>2009-04-12</td>\n",
       "      <td>2009-04-18</td>\n",
       "      <td>PRV55912</td>\n",
       "      <td>26000</td>\n",
       "      <td>PHY390922</td>\n",
       "      <td>NaN</td>\n",
       "      <td>NaN</td>\n",
       "      <td>2009-04-12</td>\n",
       "      <td>...</td>\n",
       "      <td>2724</td>\n",
       "      <td>19889</td>\n",
       "      <td>5849</td>\n",
       "      <td>NaN</td>\n",
       "      <td>NaN</td>\n",
       "      <td>NaN</td>\n",
       "      <td>NaN</td>\n",
       "      <td>NaN</td>\n",
       "      <td>NaN</td>\n",
       "      <td>NaN</td>\n",
       "    </tr>\n",
       "    <tr>\n",
       "      <th>1</th>\n",
       "      <td>BENE11001</td>\n",
       "      <td>CLM66048</td>\n",
       "      <td>2009-08-31</td>\n",
       "      <td>2009-09-02</td>\n",
       "      <td>PRV55907</td>\n",
       "      <td>5000</td>\n",
       "      <td>PHY318495</td>\n",
       "      <td>PHY318495</td>\n",
       "      <td>NaN</td>\n",
       "      <td>2009-08-31</td>\n",
       "      <td>...</td>\n",
       "      <td>NaN</td>\n",
       "      <td>NaN</td>\n",
       "      <td>NaN</td>\n",
       "      <td>NaN</td>\n",
       "      <td>7092.0</td>\n",
       "      <td>NaN</td>\n",
       "      <td>NaN</td>\n",
       "      <td>NaN</td>\n",
       "      <td>NaN</td>\n",
       "      <td>NaN</td>\n",
       "    </tr>\n",
       "    <tr>\n",
       "      <th>2</th>\n",
       "      <td>BENE11001</td>\n",
       "      <td>CLM68358</td>\n",
       "      <td>2009-09-17</td>\n",
       "      <td>2009-09-20</td>\n",
       "      <td>PRV56046</td>\n",
       "      <td>5000</td>\n",
       "      <td>PHY372395</td>\n",
       "      <td>NaN</td>\n",
       "      <td>PHY324689</td>\n",
       "      <td>2009-09-17</td>\n",
       "      <td>...</td>\n",
       "      <td>NaN</td>\n",
       "      <td>NaN</td>\n",
       "      <td>NaN</td>\n",
       "      <td>NaN</td>\n",
       "      <td>NaN</td>\n",
       "      <td>NaN</td>\n",
       "      <td>NaN</td>\n",
       "      <td>NaN</td>\n",
       "      <td>NaN</td>\n",
       "      <td>NaN</td>\n",
       "    </tr>\n",
       "    <tr>\n",
       "      <th>3</th>\n",
       "      <td>BENE11011</td>\n",
       "      <td>CLM38412</td>\n",
       "      <td>2009-02-14</td>\n",
       "      <td>2009-02-22</td>\n",
       "      <td>PRV52405</td>\n",
       "      <td>5000</td>\n",
       "      <td>PHY369659</td>\n",
       "      <td>PHY392961</td>\n",
       "      <td>PHY349768</td>\n",
       "      <td>2009-02-14</td>\n",
       "      <td>...</td>\n",
       "      <td>25062</td>\n",
       "      <td>40390</td>\n",
       "      <td>4019</td>\n",
       "      <td>NaN</td>\n",
       "      <td>331.0</td>\n",
       "      <td>NaN</td>\n",
       "      <td>NaN</td>\n",
       "      <td>NaN</td>\n",
       "      <td>NaN</td>\n",
       "      <td>NaN</td>\n",
       "    </tr>\n",
       "    <tr>\n",
       "      <th>4</th>\n",
       "      <td>BENE11014</td>\n",
       "      <td>CLM63689</td>\n",
       "      <td>2009-08-13</td>\n",
       "      <td>2009-08-30</td>\n",
       "      <td>PRV56614</td>\n",
       "      <td>10000</td>\n",
       "      <td>PHY379376</td>\n",
       "      <td>PHY398258</td>\n",
       "      <td>NaN</td>\n",
       "      <td>2009-08-13</td>\n",
       "      <td>...</td>\n",
       "      <td>5119</td>\n",
       "      <td>29620</td>\n",
       "      <td>20300</td>\n",
       "      <td>NaN</td>\n",
       "      <td>3893.0</td>\n",
       "      <td>NaN</td>\n",
       "      <td>NaN</td>\n",
       "      <td>NaN</td>\n",
       "      <td>NaN</td>\n",
       "      <td>NaN</td>\n",
       "    </tr>\n",
       "  </tbody>\n",
       "</table>\n",
       "<p>5 rows × 30 columns</p>\n",
       "</div>"
      ],
      "text/plain": [
       "      BeneID   ClaimID ClaimStartDt  ClaimEndDt  Provider  \\\n",
       "0  BENE11001  CLM46614   2009-04-12  2009-04-18  PRV55912   \n",
       "1  BENE11001  CLM66048   2009-08-31  2009-09-02  PRV55907   \n",
       "2  BENE11001  CLM68358   2009-09-17  2009-09-20  PRV56046   \n",
       "3  BENE11011  CLM38412   2009-02-14  2009-02-22  PRV52405   \n",
       "4  BENE11014  CLM63689   2009-08-13  2009-08-30  PRV56614   \n",
       "\n",
       "   InscClaimAmtReimbursed AttendingPhysician OperatingPhysician  \\\n",
       "0                   26000          PHY390922                NaN   \n",
       "1                    5000          PHY318495          PHY318495   \n",
       "2                    5000          PHY372395                NaN   \n",
       "3                    5000          PHY369659          PHY392961   \n",
       "4                   10000          PHY379376          PHY398258   \n",
       "\n",
       "  OtherPhysician AdmissionDt        ...         ClmDiagnosisCode_7  \\\n",
       "0            NaN  2009-04-12        ...                       2724   \n",
       "1            NaN  2009-08-31        ...                        NaN   \n",
       "2      PHY324689  2009-09-17        ...                        NaN   \n",
       "3      PHY349768  2009-02-14        ...                      25062   \n",
       "4            NaN  2009-08-13        ...                       5119   \n",
       "\n",
       "   ClmDiagnosisCode_8 ClmDiagnosisCode_9 ClmDiagnosisCode_10  \\\n",
       "0               19889               5849                 NaN   \n",
       "1                 NaN                NaN                 NaN   \n",
       "2                 NaN                NaN                 NaN   \n",
       "3               40390               4019                 NaN   \n",
       "4               29620              20300                 NaN   \n",
       "\n",
       "  ClmProcedureCode_1 ClmProcedureCode_2 ClmProcedureCode_3 ClmProcedureCode_4  \\\n",
       "0                NaN                NaN                NaN                NaN   \n",
       "1             7092.0                NaN                NaN                NaN   \n",
       "2                NaN                NaN                NaN                NaN   \n",
       "3              331.0                NaN                NaN                NaN   \n",
       "4             3893.0                NaN                NaN                NaN   \n",
       "\n",
       "  ClmProcedureCode_5 ClmProcedureCode_6  \n",
       "0                NaN                NaN  \n",
       "1                NaN                NaN  \n",
       "2                NaN                NaN  \n",
       "3                NaN                NaN  \n",
       "4                NaN                NaN  \n",
       "\n",
       "[5 rows x 30 columns]"
      ]
     },
     "execution_count": 255,
     "metadata": {},
     "output_type": "execute_result"
    }
   ],
   "source": [
    "ipdata.head()"
   ]
  },
  {
   "cell_type": "code",
   "execution_count": 230,
   "metadata": {},
   "outputs": [],
   "source": [
    "last_update_date = pd.to_datetime(ipdata['ClaimEndDt']).max().strftime('%Y-%m-%d')\n"
   ]
  },
  {
   "cell_type": "code",
   "execution_count": 66,
   "metadata": {},
   "outputs": [
    {
     "data": {
      "text/plain": [
       "Index(['BeneID', 'ClaimID', 'ClaimStartDt', 'ClaimEndDt', 'Provider',\n",
       "       'InscClaimAmtReimbursed', 'AttendingPhysician', 'OperatingPhysician',\n",
       "       'OtherPhysician', 'AdmissionDt', 'ClmAdmitDiagnosisCode',\n",
       "       'DeductibleAmtPaid', 'DischargeDt', 'DiagnosisGroupCode',\n",
       "       'ClmDiagnosisCode_1', 'ClmDiagnosisCode_2', 'ClmDiagnosisCode_3',\n",
       "       'ClmDiagnosisCode_4', 'ClmDiagnosisCode_5', 'ClmDiagnosisCode_6',\n",
       "       'ClmDiagnosisCode_7', 'ClmDiagnosisCode_8', 'ClmDiagnosisCode_9',\n",
       "       'ClmDiagnosisCode_10', 'ClmProcedureCode_1', 'ClmProcedureCode_2',\n",
       "       'ClmProcedureCode_3', 'ClmProcedureCode_4', 'ClmProcedureCode_5',\n",
       "       'ClmProcedureCode_6'],\n",
       "      dtype='object')"
      ]
     },
     "execution_count": 66,
     "metadata": {},
     "output_type": "execute_result"
    }
   ],
   "source": [
    "ipdata.columns"
   ]
  },
  {
   "cell_type": "code",
   "execution_count": null,
   "metadata": {},
   "outputs": [],
   "source": [
    "ipdata"
   ]
  },
  {
   "cell_type": "code",
   "execution_count": null,
   "metadata": {},
   "outputs": [],
   "source": []
  },
  {
   "cell_type": "markdown",
   "metadata": {},
   "source": [
    "# Exploring Outpatient data to understand"
   ]
  },
  {
   "cell_type": "code",
   "execution_count": 265,
   "metadata": {},
   "outputs": [],
   "source": [
    "opdata = pd.read_csv(\"C:/Users/bkumar66/Desktop/ML/Ph_D_DATA/Train_Outpatientdata-1542865627584.csv\")"
   ]
  },
  {
   "cell_type": "code",
   "execution_count": 266,
   "metadata": {},
   "outputs": [
    {
     "name": "stdout",
     "output_type": "stream",
     "text": [
      "<class 'pandas.core.frame.DataFrame'>\n",
      "RangeIndex: 517737 entries, 0 to 517736\n",
      "Data columns (total 27 columns):\n",
      "BeneID                    517737 non-null object\n",
      "ClaimID                   517737 non-null object\n",
      "ClaimStartDt              517737 non-null object\n",
      "ClaimEndDt                517737 non-null object\n",
      "Provider                  517737 non-null object\n",
      "InscClaimAmtReimbursed    517737 non-null int64\n",
      "AttendingPhysician        516341 non-null object\n",
      "OperatingPhysician        90617 non-null object\n",
      "OtherPhysician            195046 non-null object\n",
      "ClmDiagnosisCode_1        507284 non-null object\n",
      "ClmDiagnosisCode_2        322357 non-null object\n",
      "ClmDiagnosisCode_3        203257 non-null object\n",
      "ClmDiagnosisCode_4        125596 non-null object\n",
      "ClmDiagnosisCode_5        74344 non-null object\n",
      "ClmDiagnosisCode_6        48756 non-null object\n",
      "ClmDiagnosisCode_7        32961 non-null object\n",
      "ClmDiagnosisCode_8        22912 non-null object\n",
      "ClmDiagnosisCode_9        14838 non-null object\n",
      "ClmDiagnosisCode_10       1083 non-null object\n",
      "ClmProcedureCode_1        162 non-null float64\n",
      "ClmProcedureCode_2        36 non-null float64\n",
      "ClmProcedureCode_3        4 non-null float64\n",
      "ClmProcedureCode_4        2 non-null float64\n",
      "ClmProcedureCode_5        0 non-null float64\n",
      "ClmProcedureCode_6        0 non-null float64\n",
      "DeductibleAmtPaid         517737 non-null int64\n",
      "ClmAdmitDiagnosisCode     105425 non-null object\n",
      "dtypes: float64(6), int64(2), object(19)\n",
      "memory usage: 106.7+ MB\n"
     ]
    }
   ],
   "source": [
    "opdata.info()"
   ]
  },
  {
   "cell_type": "code",
   "execution_count": 267,
   "metadata": {},
   "outputs": [
    {
     "data": {
      "text/html": [
       "<div>\n",
       "<style scoped>\n",
       "    .dataframe tbody tr th:only-of-type {\n",
       "        vertical-align: middle;\n",
       "    }\n",
       "\n",
       "    .dataframe tbody tr th {\n",
       "        vertical-align: top;\n",
       "    }\n",
       "\n",
       "    .dataframe thead th {\n",
       "        text-align: right;\n",
       "    }\n",
       "</style>\n",
       "<table border=\"1\" class=\"dataframe\">\n",
       "  <thead>\n",
       "    <tr style=\"text-align: right;\">\n",
       "      <th></th>\n",
       "      <th>BeneID</th>\n",
       "      <th>ClaimID</th>\n",
       "      <th>ClaimStartDt</th>\n",
       "      <th>ClaimEndDt</th>\n",
       "      <th>Provider</th>\n",
       "      <th>InscClaimAmtReimbursed</th>\n",
       "      <th>AttendingPhysician</th>\n",
       "      <th>OperatingPhysician</th>\n",
       "      <th>OtherPhysician</th>\n",
       "      <th>ClmDiagnosisCode_1</th>\n",
       "      <th>...</th>\n",
       "      <th>ClmDiagnosisCode_9</th>\n",
       "      <th>ClmDiagnosisCode_10</th>\n",
       "      <th>ClmProcedureCode_1</th>\n",
       "      <th>ClmProcedureCode_2</th>\n",
       "      <th>ClmProcedureCode_3</th>\n",
       "      <th>ClmProcedureCode_4</th>\n",
       "      <th>ClmProcedureCode_5</th>\n",
       "      <th>ClmProcedureCode_6</th>\n",
       "      <th>DeductibleAmtPaid</th>\n",
       "      <th>ClmAdmitDiagnosisCode</th>\n",
       "    </tr>\n",
       "  </thead>\n",
       "  <tbody>\n",
       "    <tr>\n",
       "      <th>0</th>\n",
       "      <td>BENE11002</td>\n",
       "      <td>CLM624349</td>\n",
       "      <td>2009-10-11</td>\n",
       "      <td>2009-10-11</td>\n",
       "      <td>PRV56011</td>\n",
       "      <td>30</td>\n",
       "      <td>PHY326117</td>\n",
       "      <td>NaN</td>\n",
       "      <td>NaN</td>\n",
       "      <td>78943</td>\n",
       "      <td>...</td>\n",
       "      <td>NaN</td>\n",
       "      <td>NaN</td>\n",
       "      <td>NaN</td>\n",
       "      <td>NaN</td>\n",
       "      <td>NaN</td>\n",
       "      <td>NaN</td>\n",
       "      <td>NaN</td>\n",
       "      <td>NaN</td>\n",
       "      <td>0</td>\n",
       "      <td>56409</td>\n",
       "    </tr>\n",
       "    <tr>\n",
       "      <th>1</th>\n",
       "      <td>BENE11003</td>\n",
       "      <td>CLM189947</td>\n",
       "      <td>2009-02-12</td>\n",
       "      <td>2009-02-12</td>\n",
       "      <td>PRV57610</td>\n",
       "      <td>80</td>\n",
       "      <td>PHY362868</td>\n",
       "      <td>NaN</td>\n",
       "      <td>NaN</td>\n",
       "      <td>6115</td>\n",
       "      <td>...</td>\n",
       "      <td>NaN</td>\n",
       "      <td>NaN</td>\n",
       "      <td>NaN</td>\n",
       "      <td>NaN</td>\n",
       "      <td>NaN</td>\n",
       "      <td>NaN</td>\n",
       "      <td>NaN</td>\n",
       "      <td>NaN</td>\n",
       "      <td>0</td>\n",
       "      <td>79380</td>\n",
       "    </tr>\n",
       "    <tr>\n",
       "      <th>2</th>\n",
       "      <td>BENE11003</td>\n",
       "      <td>CLM438021</td>\n",
       "      <td>2009-06-27</td>\n",
       "      <td>2009-06-27</td>\n",
       "      <td>PRV57595</td>\n",
       "      <td>10</td>\n",
       "      <td>PHY328821</td>\n",
       "      <td>NaN</td>\n",
       "      <td>NaN</td>\n",
       "      <td>2723</td>\n",
       "      <td>...</td>\n",
       "      <td>NaN</td>\n",
       "      <td>NaN</td>\n",
       "      <td>NaN</td>\n",
       "      <td>NaN</td>\n",
       "      <td>NaN</td>\n",
       "      <td>NaN</td>\n",
       "      <td>NaN</td>\n",
       "      <td>NaN</td>\n",
       "      <td>0</td>\n",
       "      <td>NaN</td>\n",
       "    </tr>\n",
       "    <tr>\n",
       "      <th>3</th>\n",
       "      <td>BENE11004</td>\n",
       "      <td>CLM121801</td>\n",
       "      <td>2009-01-06</td>\n",
       "      <td>2009-01-06</td>\n",
       "      <td>PRV56011</td>\n",
       "      <td>40</td>\n",
       "      <td>PHY334319</td>\n",
       "      <td>NaN</td>\n",
       "      <td>NaN</td>\n",
       "      <td>71988</td>\n",
       "      <td>...</td>\n",
       "      <td>NaN</td>\n",
       "      <td>NaN</td>\n",
       "      <td>NaN</td>\n",
       "      <td>NaN</td>\n",
       "      <td>NaN</td>\n",
       "      <td>NaN</td>\n",
       "      <td>NaN</td>\n",
       "      <td>NaN</td>\n",
       "      <td>0</td>\n",
       "      <td>NaN</td>\n",
       "    </tr>\n",
       "    <tr>\n",
       "      <th>4</th>\n",
       "      <td>BENE11004</td>\n",
       "      <td>CLM150998</td>\n",
       "      <td>2009-01-22</td>\n",
       "      <td>2009-01-22</td>\n",
       "      <td>PRV56011</td>\n",
       "      <td>200</td>\n",
       "      <td>PHY403831</td>\n",
       "      <td>NaN</td>\n",
       "      <td>NaN</td>\n",
       "      <td>82382</td>\n",
       "      <td>...</td>\n",
       "      <td>NaN</td>\n",
       "      <td>NaN</td>\n",
       "      <td>NaN</td>\n",
       "      <td>NaN</td>\n",
       "      <td>NaN</td>\n",
       "      <td>NaN</td>\n",
       "      <td>NaN</td>\n",
       "      <td>NaN</td>\n",
       "      <td>0</td>\n",
       "      <td>71947</td>\n",
       "    </tr>\n",
       "  </tbody>\n",
       "</table>\n",
       "<p>5 rows × 27 columns</p>\n",
       "</div>"
      ],
      "text/plain": [
       "      BeneID    ClaimID ClaimStartDt  ClaimEndDt  Provider  \\\n",
       "0  BENE11002  CLM624349   2009-10-11  2009-10-11  PRV56011   \n",
       "1  BENE11003  CLM189947   2009-02-12  2009-02-12  PRV57610   \n",
       "2  BENE11003  CLM438021   2009-06-27  2009-06-27  PRV57595   \n",
       "3  BENE11004  CLM121801   2009-01-06  2009-01-06  PRV56011   \n",
       "4  BENE11004  CLM150998   2009-01-22  2009-01-22  PRV56011   \n",
       "\n",
       "   InscClaimAmtReimbursed AttendingPhysician OperatingPhysician  \\\n",
       "0                      30          PHY326117                NaN   \n",
       "1                      80          PHY362868                NaN   \n",
       "2                      10          PHY328821                NaN   \n",
       "3                      40          PHY334319                NaN   \n",
       "4                     200          PHY403831                NaN   \n",
       "\n",
       "  OtherPhysician ClmDiagnosisCode_1          ...           ClmDiagnosisCode_9  \\\n",
       "0            NaN              78943          ...                          NaN   \n",
       "1            NaN               6115          ...                          NaN   \n",
       "2            NaN               2723          ...                          NaN   \n",
       "3            NaN              71988          ...                          NaN   \n",
       "4            NaN              82382          ...                          NaN   \n",
       "\n",
       "  ClmDiagnosisCode_10 ClmProcedureCode_1 ClmProcedureCode_2  \\\n",
       "0                 NaN                NaN                NaN   \n",
       "1                 NaN                NaN                NaN   \n",
       "2                 NaN                NaN                NaN   \n",
       "3                 NaN                NaN                NaN   \n",
       "4                 NaN                NaN                NaN   \n",
       "\n",
       "  ClmProcedureCode_3 ClmProcedureCode_4 ClmProcedureCode_5 ClmProcedureCode_6  \\\n",
       "0                NaN                NaN                NaN                NaN   \n",
       "1                NaN                NaN                NaN                NaN   \n",
       "2                NaN                NaN                NaN                NaN   \n",
       "3                NaN                NaN                NaN                NaN   \n",
       "4                NaN                NaN                NaN                NaN   \n",
       "\n",
       "  DeductibleAmtPaid  ClmAdmitDiagnosisCode  \n",
       "0                 0                  56409  \n",
       "1                 0                  79380  \n",
       "2                 0                    NaN  \n",
       "3                 0                    NaN  \n",
       "4                 0                  71947  \n",
       "\n",
       "[5 rows x 27 columns]"
      ]
     },
     "execution_count": 267,
     "metadata": {},
     "output_type": "execute_result"
    }
   ],
   "source": [
    "opdata.head()"
   ]
  },
  {
   "cell_type": "code",
   "execution_count": 268,
   "metadata": {},
   "outputs": [
    {
     "data": {
      "text/plain": [
       "Index(['BeneID', 'ClaimID', 'ClaimStartDt', 'ClaimEndDt', 'Provider',\n",
       "       'InscClaimAmtReimbursed', 'AttendingPhysician', 'OperatingPhysician',\n",
       "       'OtherPhysician', 'ClmDiagnosisCode_1', 'ClmDiagnosisCode_2',\n",
       "       'ClmDiagnosisCode_3', 'ClmDiagnosisCode_4', 'ClmDiagnosisCode_5',\n",
       "       'ClmDiagnosisCode_6', 'ClmDiagnosisCode_7', 'ClmDiagnosisCode_8',\n",
       "       'ClmDiagnosisCode_9', 'ClmDiagnosisCode_10', 'ClmProcedureCode_1',\n",
       "       'ClmProcedureCode_2', 'ClmProcedureCode_3', 'ClmProcedureCode_4',\n",
       "       'ClmProcedureCode_5', 'ClmProcedureCode_6', 'DeductibleAmtPaid',\n",
       "       'ClmAdmitDiagnosisCode'],\n",
       "      dtype='object')"
      ]
     },
     "execution_count": 268,
     "metadata": {},
     "output_type": "execute_result"
    }
   ],
   "source": [
    "opdata.columns"
   ]
  },
  {
   "cell_type": "code",
   "execution_count": null,
   "metadata": {},
   "outputs": [],
   "source": []
  },
  {
   "cell_type": "markdown",
   "metadata": {},
   "source": [
    "# Exploring Benficiary data for Understanding"
   ]
  },
  {
   "cell_type": "code",
   "execution_count": null,
   "metadata": {},
   "outputs": [],
   "source": []
  },
  {
   "cell_type": "code",
   "execution_count": null,
   "metadata": {},
   "outputs": [],
   "source": []
  },
  {
   "cell_type": "code",
   "execution_count": null,
   "metadata": {},
   "outputs": [],
   "source": []
  },
  {
   "cell_type": "code",
   "execution_count": null,
   "metadata": {},
   "outputs": [],
   "source": []
  },
  {
   "cell_type": "code",
   "execution_count": null,
   "metadata": {},
   "outputs": [],
   "source": []
  },
  {
   "cell_type": "code",
   "execution_count": null,
   "metadata": {},
   "outputs": [],
   "source": []
  },
  {
   "cell_type": "markdown",
   "metadata": {},
   "source": [
    "# Merging inpatient & opt patient data"
   ]
  },
  {
   "cell_type": "code",
   "execution_count": null,
   "metadata": {},
   "outputs": [],
   "source": []
  },
  {
   "cell_type": "code",
   "execution_count": null,
   "metadata": {},
   "outputs": [],
   "source": []
  },
  {
   "cell_type": "code",
   "execution_count": null,
   "metadata": {},
   "outputs": [],
   "source": []
  },
  {
   "cell_type": "code",
   "execution_count": 79,
   "metadata": {},
   "outputs": [
    {
     "name": "stdout",
     "output_type": "stream",
     "text": [
      "6\n"
     ]
    }
   ],
   "source": [
    "import datetime\n",
    "date1=ipdata['DischargeDt'][0]\n",
    "date2=ipdata['AdmissionDt'][0]\n",
    "mdate1 = datetime.datetime.strptime(date1, \"%Y-%m-%d\").date()\n",
    "rdate1 = datetime.datetime.strptime(date2, \"%Y-%m-%d\").date()\n",
    "delta =  (mdate1 - rdate1).days\n",
    "print(delta)"
   ]
  },
  {
   "cell_type": "markdown",
   "metadata": {},
   "source": [
    "### By using Discharge date and Admission date we make one column as \"Days in Hospital\""
   ]
  },
  {
   "cell_type": "code",
   "execution_count": 257,
   "metadata": {},
   "outputs": [],
   "source": [
    "ipdata['DischargeDt'] = pd.to_datetime(ipdata['DischargeDt'])\n",
    "ipdata['AdmissionDt'] = pd.to_datetime(ipdata['AdmissionDt'])"
   ]
  },
  {
   "cell_type": "code",
   "execution_count": 258,
   "metadata": {},
   "outputs": [],
   "source": [
    "ipdata['DaysInHospital'] = (ipdata['DischargeDt']-ipdata['AdmissionDt']).dt.days"
   ]
  },
  {
   "cell_type": "code",
   "execution_count": 259,
   "metadata": {},
   "outputs": [
    {
     "data": {
      "text/plain": [
       "40474"
      ]
     },
     "execution_count": 259,
     "metadata": {},
     "output_type": "execute_result"
    }
   ],
   "source": [
    "ipdata['DaysInHospital'].count()"
   ]
  },
  {
   "cell_type": "markdown",
   "metadata": {},
   "source": [
    "### By using Claim Start date and Claim End date we are making one column as \"ClaimTenure\""
   ]
  },
  {
   "cell_type": "code",
   "execution_count": 260,
   "metadata": {},
   "outputs": [],
   "source": [
    "ipdata['ClaimEndDt'] = pd.to_datetime(ipdata['ClaimEndDt'])\n",
    "ipdata['ClaimStartDt'] = pd.to_datetime(ipdata['ClaimStartDt'])"
   ]
  },
  {
   "cell_type": "code",
   "execution_count": 261,
   "metadata": {},
   "outputs": [],
   "source": [
    "ipdata['ClaimTenure'] = (ipdata['ClaimEndDt']-ipdata['ClaimStartDt']).dt.days"
   ]
  },
  {
   "cell_type": "code",
   "execution_count": 262,
   "metadata": {},
   "outputs": [
    {
     "data": {
      "text/plain": [
       "40474"
      ]
     },
     "execution_count": 262,
     "metadata": {},
     "output_type": "execute_result"
    }
   ],
   "source": [
    "ipdata['ClaimTenure'].count()"
   ]
  },
  {
   "cell_type": "markdown",
   "metadata": {},
   "source": [
    "### Removing the unwanted columns we already preserved those in another forms"
   ]
  },
  {
   "cell_type": "code",
   "execution_count": 263,
   "metadata": {},
   "outputs": [],
   "source": [
    "del ipdata['DischargeDt']\n",
    "del ipdata['AdmissionDt']\n",
    "del ipdata['ClaimEndDt']\n",
    "del ipdata['ClaimStartDt']"
   ]
  },
  {
   "cell_type": "code",
   "execution_count": 98,
   "metadata": {},
   "outputs": [
    {
     "data": {
      "text/plain": [
       "(40474, 28)"
      ]
     },
     "execution_count": 98,
     "metadata": {},
     "output_type": "execute_result"
    }
   ],
   "source": [
    "ipdata.shape"
   ]
  },
  {
   "cell_type": "code",
   "execution_count": null,
   "metadata": {},
   "outputs": [],
   "source": []
  },
  {
   "cell_type": "code",
   "execution_count": null,
   "metadata": {},
   "outputs": [],
   "source": []
  },
  {
   "cell_type": "code",
   "execution_count": null,
   "metadata": {},
   "outputs": [],
   "source": [
    "opdata.shape"
   ]
  },
  {
   "cell_type": "markdown",
   "metadata": {},
   "source": [
    "### By using Claim Start date and Claim End date we are making one column as \"ClaimTenure\""
   ]
  },
  {
   "cell_type": "code",
   "execution_count": 269,
   "metadata": {},
   "outputs": [],
   "source": [
    "opdata['ClaimEndDt'] = pd.to_datetime(opdata['ClaimEndDt'])\n",
    "opdata['ClaimStartDt'] = pd.to_datetime(opdata['ClaimStartDt'])\n",
    "opdata['ClaimTenure'] = (opdata['ClaimEndDt']-opdata['ClaimStartDt']).dt.days"
   ]
  },
  {
   "cell_type": "code",
   "execution_count": 270,
   "metadata": {},
   "outputs": [],
   "source": [
    "opdata['ClaimTenure'] = (opdata['ClaimEndDt']-opdata['ClaimStartDt']).dt.days"
   ]
  },
  {
   "cell_type": "code",
   "execution_count": 271,
   "metadata": {},
   "outputs": [
    {
     "data": {
      "text/plain": [
       "517737"
      ]
     },
     "execution_count": 271,
     "metadata": {},
     "output_type": "execute_result"
    }
   ],
   "source": [
    "opdata['ClaimTenure'].count()"
   ]
  },
  {
   "cell_type": "code",
   "execution_count": 272,
   "metadata": {},
   "outputs": [
    {
     "data": {
      "text/html": [
       "<div>\n",
       "<style scoped>\n",
       "    .dataframe tbody tr th:only-of-type {\n",
       "        vertical-align: middle;\n",
       "    }\n",
       "\n",
       "    .dataframe tbody tr th {\n",
       "        vertical-align: top;\n",
       "    }\n",
       "\n",
       "    .dataframe thead th {\n",
       "        text-align: right;\n",
       "    }\n",
       "</style>\n",
       "<table border=\"1\" class=\"dataframe\">\n",
       "  <thead>\n",
       "    <tr style=\"text-align: right;\">\n",
       "      <th></th>\n",
       "      <th>BeneID</th>\n",
       "      <th>ClaimID</th>\n",
       "      <th>ClaimStartDt</th>\n",
       "      <th>ClaimEndDt</th>\n",
       "      <th>Provider</th>\n",
       "      <th>InscClaimAmtReimbursed</th>\n",
       "      <th>AttendingPhysician</th>\n",
       "      <th>OperatingPhysician</th>\n",
       "      <th>OtherPhysician</th>\n",
       "      <th>ClmDiagnosisCode_1</th>\n",
       "      <th>...</th>\n",
       "      <th>ClmDiagnosisCode_10</th>\n",
       "      <th>ClmProcedureCode_1</th>\n",
       "      <th>ClmProcedureCode_2</th>\n",
       "      <th>ClmProcedureCode_3</th>\n",
       "      <th>ClmProcedureCode_4</th>\n",
       "      <th>ClmProcedureCode_5</th>\n",
       "      <th>ClmProcedureCode_6</th>\n",
       "      <th>DeductibleAmtPaid</th>\n",
       "      <th>ClmAdmitDiagnosisCode</th>\n",
       "      <th>ClaimTenure</th>\n",
       "    </tr>\n",
       "  </thead>\n",
       "  <tbody>\n",
       "    <tr>\n",
       "      <th>0</th>\n",
       "      <td>BENE11002</td>\n",
       "      <td>CLM624349</td>\n",
       "      <td>2009-10-11</td>\n",
       "      <td>2009-10-11</td>\n",
       "      <td>PRV56011</td>\n",
       "      <td>30</td>\n",
       "      <td>PHY326117</td>\n",
       "      <td>NaN</td>\n",
       "      <td>NaN</td>\n",
       "      <td>78943</td>\n",
       "      <td>...</td>\n",
       "      <td>NaN</td>\n",
       "      <td>NaN</td>\n",
       "      <td>NaN</td>\n",
       "      <td>NaN</td>\n",
       "      <td>NaN</td>\n",
       "      <td>NaN</td>\n",
       "      <td>NaN</td>\n",
       "      <td>0</td>\n",
       "      <td>56409</td>\n",
       "      <td>0</td>\n",
       "    </tr>\n",
       "    <tr>\n",
       "      <th>1</th>\n",
       "      <td>BENE11003</td>\n",
       "      <td>CLM189947</td>\n",
       "      <td>2009-02-12</td>\n",
       "      <td>2009-02-12</td>\n",
       "      <td>PRV57610</td>\n",
       "      <td>80</td>\n",
       "      <td>PHY362868</td>\n",
       "      <td>NaN</td>\n",
       "      <td>NaN</td>\n",
       "      <td>6115</td>\n",
       "      <td>...</td>\n",
       "      <td>NaN</td>\n",
       "      <td>NaN</td>\n",
       "      <td>NaN</td>\n",
       "      <td>NaN</td>\n",
       "      <td>NaN</td>\n",
       "      <td>NaN</td>\n",
       "      <td>NaN</td>\n",
       "      <td>0</td>\n",
       "      <td>79380</td>\n",
       "      <td>0</td>\n",
       "    </tr>\n",
       "    <tr>\n",
       "      <th>2</th>\n",
       "      <td>BENE11003</td>\n",
       "      <td>CLM438021</td>\n",
       "      <td>2009-06-27</td>\n",
       "      <td>2009-06-27</td>\n",
       "      <td>PRV57595</td>\n",
       "      <td>10</td>\n",
       "      <td>PHY328821</td>\n",
       "      <td>NaN</td>\n",
       "      <td>NaN</td>\n",
       "      <td>2723</td>\n",
       "      <td>...</td>\n",
       "      <td>NaN</td>\n",
       "      <td>NaN</td>\n",
       "      <td>NaN</td>\n",
       "      <td>NaN</td>\n",
       "      <td>NaN</td>\n",
       "      <td>NaN</td>\n",
       "      <td>NaN</td>\n",
       "      <td>0</td>\n",
       "      <td>NaN</td>\n",
       "      <td>0</td>\n",
       "    </tr>\n",
       "    <tr>\n",
       "      <th>3</th>\n",
       "      <td>BENE11004</td>\n",
       "      <td>CLM121801</td>\n",
       "      <td>2009-01-06</td>\n",
       "      <td>2009-01-06</td>\n",
       "      <td>PRV56011</td>\n",
       "      <td>40</td>\n",
       "      <td>PHY334319</td>\n",
       "      <td>NaN</td>\n",
       "      <td>NaN</td>\n",
       "      <td>71988</td>\n",
       "      <td>...</td>\n",
       "      <td>NaN</td>\n",
       "      <td>NaN</td>\n",
       "      <td>NaN</td>\n",
       "      <td>NaN</td>\n",
       "      <td>NaN</td>\n",
       "      <td>NaN</td>\n",
       "      <td>NaN</td>\n",
       "      <td>0</td>\n",
       "      <td>NaN</td>\n",
       "      <td>0</td>\n",
       "    </tr>\n",
       "    <tr>\n",
       "      <th>4</th>\n",
       "      <td>BENE11004</td>\n",
       "      <td>CLM150998</td>\n",
       "      <td>2009-01-22</td>\n",
       "      <td>2009-01-22</td>\n",
       "      <td>PRV56011</td>\n",
       "      <td>200</td>\n",
       "      <td>PHY403831</td>\n",
       "      <td>NaN</td>\n",
       "      <td>NaN</td>\n",
       "      <td>82382</td>\n",
       "      <td>...</td>\n",
       "      <td>NaN</td>\n",
       "      <td>NaN</td>\n",
       "      <td>NaN</td>\n",
       "      <td>NaN</td>\n",
       "      <td>NaN</td>\n",
       "      <td>NaN</td>\n",
       "      <td>NaN</td>\n",
       "      <td>0</td>\n",
       "      <td>71947</td>\n",
       "      <td>0</td>\n",
       "    </tr>\n",
       "  </tbody>\n",
       "</table>\n",
       "<p>5 rows × 28 columns</p>\n",
       "</div>"
      ],
      "text/plain": [
       "      BeneID    ClaimID ClaimStartDt ClaimEndDt  Provider  \\\n",
       "0  BENE11002  CLM624349   2009-10-11 2009-10-11  PRV56011   \n",
       "1  BENE11003  CLM189947   2009-02-12 2009-02-12  PRV57610   \n",
       "2  BENE11003  CLM438021   2009-06-27 2009-06-27  PRV57595   \n",
       "3  BENE11004  CLM121801   2009-01-06 2009-01-06  PRV56011   \n",
       "4  BENE11004  CLM150998   2009-01-22 2009-01-22  PRV56011   \n",
       "\n",
       "   InscClaimAmtReimbursed AttendingPhysician OperatingPhysician  \\\n",
       "0                      30          PHY326117                NaN   \n",
       "1                      80          PHY362868                NaN   \n",
       "2                      10          PHY328821                NaN   \n",
       "3                      40          PHY334319                NaN   \n",
       "4                     200          PHY403831                NaN   \n",
       "\n",
       "  OtherPhysician ClmDiagnosisCode_1     ...      ClmDiagnosisCode_10  \\\n",
       "0            NaN              78943     ...                      NaN   \n",
       "1            NaN               6115     ...                      NaN   \n",
       "2            NaN               2723     ...                      NaN   \n",
       "3            NaN              71988     ...                      NaN   \n",
       "4            NaN              82382     ...                      NaN   \n",
       "\n",
       "  ClmProcedureCode_1 ClmProcedureCode_2 ClmProcedureCode_3 ClmProcedureCode_4  \\\n",
       "0                NaN                NaN                NaN                NaN   \n",
       "1                NaN                NaN                NaN                NaN   \n",
       "2                NaN                NaN                NaN                NaN   \n",
       "3                NaN                NaN                NaN                NaN   \n",
       "4                NaN                NaN                NaN                NaN   \n",
       "\n",
       "  ClmProcedureCode_5 ClmProcedureCode_6 DeductibleAmtPaid  \\\n",
       "0                NaN                NaN                 0   \n",
       "1                NaN                NaN                 0   \n",
       "2                NaN                NaN                 0   \n",
       "3                NaN                NaN                 0   \n",
       "4                NaN                NaN                 0   \n",
       "\n",
       "  ClmAdmitDiagnosisCode  ClaimTenure  \n",
       "0                 56409            0  \n",
       "1                 79380            0  \n",
       "2                   NaN            0  \n",
       "3                   NaN            0  \n",
       "4                 71947            0  \n",
       "\n",
       "[5 rows x 28 columns]"
      ]
     },
     "execution_count": 272,
     "metadata": {},
     "output_type": "execute_result"
    }
   ],
   "source": [
    "opdata.head()"
   ]
  },
  {
   "cell_type": "markdown",
   "metadata": {},
   "source": [
    "### Adding 2 new extra columns because those are not in op "
   ]
  },
  {
   "cell_type": "code",
   "execution_count": 273,
   "metadata": {},
   "outputs": [],
   "source": [
    "opdata['DaysInHospital'] = 0"
   ]
  },
  {
   "cell_type": "code",
   "execution_count": 274,
   "metadata": {},
   "outputs": [],
   "source": [
    "opdata['DiagnosisGroupCode'] = 0"
   ]
  },
  {
   "cell_type": "code",
   "execution_count": null,
   "metadata": {},
   "outputs": [],
   "source": []
  },
  {
   "cell_type": "markdown",
   "metadata": {},
   "source": [
    "### Removing the unwanted columns we already preserved those in another forms"
   ]
  },
  {
   "cell_type": "code",
   "execution_count": 275,
   "metadata": {},
   "outputs": [],
   "source": [
    "del opdata['ClaimEndDt']\n",
    "del opdata['ClaimStartDt']"
   ]
  },
  {
   "cell_type": "code",
   "execution_count": null,
   "metadata": {},
   "outputs": [],
   "source": []
  },
  {
   "cell_type": "code",
   "execution_count": 276,
   "metadata": {},
   "outputs": [
    {
     "data": {
      "text/plain": [
       "(517737, 28)"
      ]
     },
     "execution_count": 276,
     "metadata": {},
     "output_type": "execute_result"
    }
   ],
   "source": [
    "opdata.shape"
   ]
  },
  {
   "cell_type": "code",
   "execution_count": 277,
   "metadata": {},
   "outputs": [
    {
     "data": {
      "text/plain": [
       "(40474, 28)"
      ]
     },
     "execution_count": 277,
     "metadata": {},
     "output_type": "execute_result"
    }
   ],
   "source": [
    "ipdata.shape"
   ]
  },
  {
   "cell_type": "code",
   "execution_count": null,
   "metadata": {},
   "outputs": [],
   "source": []
  },
  {
   "cell_type": "code",
   "execution_count": null,
   "metadata": {},
   "outputs": [],
   "source": [
    "# verifying wheather all the columns are same or not.\n",
    "ipdata[opdata.columns].head()\n",
    "opdata[ipdata.columns].head()"
   ]
  },
  {
   "cell_type": "code",
   "execution_count": 279,
   "metadata": {},
   "outputs": [
    {
     "data": {
      "text/plain": [
       "Index(['BeneID', 'ClaimID', 'Provider', 'InscClaimAmtReimbursed',\n",
       "       'AttendingPhysician', 'OperatingPhysician', 'OtherPhysician',\n",
       "       'ClmDiagnosisCode_1', 'ClmDiagnosisCode_2', 'ClmDiagnosisCode_3',\n",
       "       'ClmDiagnosisCode_4', 'ClmDiagnosisCode_5', 'ClmDiagnosisCode_6',\n",
       "       'ClmDiagnosisCode_7', 'ClmDiagnosisCode_8', 'ClmDiagnosisCode_9',\n",
       "       'ClmDiagnosisCode_10', 'ClmProcedureCode_1', 'ClmProcedureCode_2',\n",
       "       'ClmProcedureCode_3', 'ClmProcedureCode_4', 'ClmProcedureCode_5',\n",
       "       'ClmProcedureCode_6', 'DeductibleAmtPaid', 'ClmAdmitDiagnosisCode',\n",
       "       'ClaimTenure', 'DaysInHospital', 'DiagnosisGroupCode'],\n",
       "      dtype='object')"
      ]
     },
     "execution_count": 279,
     "metadata": {},
     "output_type": "execute_result"
    }
   ],
   "source": [
    "opdata.columns"
   ]
  },
  {
   "cell_type": "code",
   "execution_count": 280,
   "metadata": {},
   "outputs": [
    {
     "data": {
      "text/plain": [
       "Index(['BeneID', 'Gender', 'Race', 'RenalDiseaseIndicator', 'State', 'County',\n",
       "       'NoOfMonths_PartACov', 'NoOfMonths_PartBCov', 'ChronicCond_Alzheimer',\n",
       "       'ChronicCond_Heartfailure', 'ChronicCond_KidneyDisease',\n",
       "       'ChronicCond_Cancer', 'ChronicCond_ObstrPulmonary',\n",
       "       'ChronicCond_Depression', 'ChronicCond_Diabetes',\n",
       "       'ChronicCond_IschemicHeart', 'ChronicCond_Osteoporasis',\n",
       "       'ChronicCond_rheumatoidarthritis', 'ChronicCond_stroke',\n",
       "       'IPAnnualReimbursementAmt', 'IPAnnualDeductibleAmt',\n",
       "       'OPAnnualReimbursementAmt', 'OPAnnualDeductibleAmt', 'age'],\n",
       "      dtype='object')"
      ]
     },
     "execution_count": 280,
     "metadata": {},
     "output_type": "execute_result"
    }
   ],
   "source": [
    "benfidata.columns"
   ]
  },
  {
   "cell_type": "code",
   "execution_count": 284,
   "metadata": {},
   "outputs": [
    {
     "data": {
      "text/plain": [
       "(40474, 28)"
      ]
     },
     "execution_count": 284,
     "metadata": {},
     "output_type": "execute_result"
    }
   ],
   "source": [
    "ipdata.shape"
   ]
  },
  {
   "cell_type": "code",
   "execution_count": 285,
   "metadata": {},
   "outputs": [
    {
     "data": {
      "text/plain": [
       "(517737, 28)"
      ]
     },
     "execution_count": 285,
     "metadata": {},
     "output_type": "execute_result"
    }
   ],
   "source": [
    "opdata.shape"
   ]
  },
  {
   "cell_type": "code",
   "execution_count": 286,
   "metadata": {},
   "outputs": [
    {
     "data": {
      "text/plain": [
       "(138556, 24)"
      ]
     },
     "execution_count": 286,
     "metadata": {},
     "output_type": "execute_result"
    }
   ],
   "source": [
    "benfidata.shape"
   ]
  },
  {
   "cell_type": "code",
   "execution_count": null,
   "metadata": {},
   "outputs": [],
   "source": []
  },
  {
   "cell_type": "code",
   "execution_count": 128,
   "metadata": {},
   "outputs": [
    {
     "data": {
      "text/plain": [
       "558211"
      ]
     },
     "execution_count": 128,
     "metadata": {},
     "output_type": "execute_result"
    }
   ],
   "source": [
    "517737 + 40474"
   ]
  },
  {
   "cell_type": "code",
   "execution_count": 204,
   "metadata": {},
   "outputs": [
    {
     "data": {
      "text/plain": [
       "BeneID                    517737\n",
       "ClaimID                   517737\n",
       "Provider                  517737\n",
       "InscClaimAmtReimbursed    517737\n",
       "AttendingPhysician        516341\n",
       "OperatingPhysician         90617\n",
       "OtherPhysician            195046\n",
       "ClmDiagnosisCode_1        507284\n",
       "ClmDiagnosisCode_2        322357\n",
       "ClmDiagnosisCode_3        203257\n",
       "ClmDiagnosisCode_4        125596\n",
       "ClmDiagnosisCode_5         74344\n",
       "ClmDiagnosisCode_6         48756\n",
       "ClmDiagnosisCode_7         32961\n",
       "ClmDiagnosisCode_8         22912\n",
       "ClmDiagnosisCode_9         14838\n",
       "ClmDiagnosisCode_10         1083\n",
       "ClmProcedureCode_1           162\n",
       "ClmProcedureCode_2            36\n",
       "ClmProcedureCode_3             4\n",
       "ClmProcedureCode_4             2\n",
       "ClmProcedureCode_5             0\n",
       "ClmProcedureCode_6             0\n",
       "DeductibleAmtPaid         517737\n",
       "ClmAdmitDiagnosisCode     105425\n",
       "ClaimTenure               517737\n",
       "DaysInHospital            517737\n",
       "DiagnosisGroupCode        517737\n",
       "dtype: int64"
      ]
     },
     "execution_count": 204,
     "metadata": {},
     "output_type": "execute_result"
    }
   ],
   "source": [
    "opdata.count()"
   ]
  },
  {
   "cell_type": "markdown",
   "metadata": {},
   "source": [
    "### ipdata and opdata are in same size inthe meaning of attributes."
   ]
  },
  {
   "cell_type": "code",
   "execution_count": null,
   "metadata": {},
   "outputs": [],
   "source": []
  },
  {
   "cell_type": "code",
   "execution_count": 121,
   "metadata": {},
   "outputs": [],
   "source": [
    "\n"
   ]
  },
  {
   "cell_type": "code",
   "execution_count": null,
   "metadata": {},
   "outputs": [],
   "source": []
  },
  {
   "cell_type": "code",
   "execution_count": 288,
   "metadata": {},
   "outputs": [],
   "source": [
    "ipop_concat = pd.concat([ipdata, opdata], ignore_index=True, sort=True)"
   ]
  },
  {
   "cell_type": "code",
   "execution_count": 289,
   "metadata": {},
   "outputs": [
    {
     "data": {
      "text/plain": [
       "(558211, 28)"
      ]
     },
     "execution_count": 289,
     "metadata": {},
     "output_type": "execute_result"
    }
   ],
   "source": [
    "ipop_concat.shape"
   ]
  },
  {
   "cell_type": "code",
   "execution_count": 290,
   "metadata": {},
   "outputs": [
    {
     "data": {
      "text/html": [
       "<div>\n",
       "<style scoped>\n",
       "    .dataframe tbody tr th:only-of-type {\n",
       "        vertical-align: middle;\n",
       "    }\n",
       "\n",
       "    .dataframe tbody tr th {\n",
       "        vertical-align: top;\n",
       "    }\n",
       "\n",
       "    .dataframe thead th {\n",
       "        text-align: right;\n",
       "    }\n",
       "</style>\n",
       "<table border=\"1\" class=\"dataframe\">\n",
       "  <thead>\n",
       "    <tr style=\"text-align: right;\">\n",
       "      <th></th>\n",
       "      <th>AttendingPhysician</th>\n",
       "      <th>BeneID</th>\n",
       "      <th>ClaimID</th>\n",
       "      <th>ClaimTenure</th>\n",
       "      <th>ClmAdmitDiagnosisCode</th>\n",
       "      <th>ClmDiagnosisCode_1</th>\n",
       "      <th>ClmDiagnosisCode_10</th>\n",
       "      <th>ClmDiagnosisCode_2</th>\n",
       "      <th>ClmDiagnosisCode_3</th>\n",
       "      <th>ClmDiagnosisCode_4</th>\n",
       "      <th>...</th>\n",
       "      <th>ClmProcedureCode_4</th>\n",
       "      <th>ClmProcedureCode_5</th>\n",
       "      <th>ClmProcedureCode_6</th>\n",
       "      <th>DaysInHospital</th>\n",
       "      <th>DeductibleAmtPaid</th>\n",
       "      <th>DiagnosisGroupCode</th>\n",
       "      <th>InscClaimAmtReimbursed</th>\n",
       "      <th>OperatingPhysician</th>\n",
       "      <th>OtherPhysician</th>\n",
       "      <th>Provider</th>\n",
       "    </tr>\n",
       "  </thead>\n",
       "  <tbody>\n",
       "    <tr>\n",
       "      <th>0</th>\n",
       "      <td>PHY390922</td>\n",
       "      <td>BENE11001</td>\n",
       "      <td>CLM46614</td>\n",
       "      <td>6</td>\n",
       "      <td>7866</td>\n",
       "      <td>1970</td>\n",
       "      <td>NaN</td>\n",
       "      <td>4019</td>\n",
       "      <td>5853</td>\n",
       "      <td>7843</td>\n",
       "      <td>...</td>\n",
       "      <td>NaN</td>\n",
       "      <td>NaN</td>\n",
       "      <td>NaN</td>\n",
       "      <td>6</td>\n",
       "      <td>1068.0</td>\n",
       "      <td>201</td>\n",
       "      <td>26000</td>\n",
       "      <td>NaN</td>\n",
       "      <td>NaN</td>\n",
       "      <td>PRV55912</td>\n",
       "    </tr>\n",
       "    <tr>\n",
       "      <th>1</th>\n",
       "      <td>PHY318495</td>\n",
       "      <td>BENE11001</td>\n",
       "      <td>CLM66048</td>\n",
       "      <td>2</td>\n",
       "      <td>6186</td>\n",
       "      <td>6186</td>\n",
       "      <td>NaN</td>\n",
       "      <td>2948</td>\n",
       "      <td>56400</td>\n",
       "      <td>NaN</td>\n",
       "      <td>...</td>\n",
       "      <td>NaN</td>\n",
       "      <td>NaN</td>\n",
       "      <td>NaN</td>\n",
       "      <td>2</td>\n",
       "      <td>1068.0</td>\n",
       "      <td>750</td>\n",
       "      <td>5000</td>\n",
       "      <td>PHY318495</td>\n",
       "      <td>NaN</td>\n",
       "      <td>PRV55907</td>\n",
       "    </tr>\n",
       "    <tr>\n",
       "      <th>2</th>\n",
       "      <td>PHY372395</td>\n",
       "      <td>BENE11001</td>\n",
       "      <td>CLM68358</td>\n",
       "      <td>3</td>\n",
       "      <td>29590</td>\n",
       "      <td>29623</td>\n",
       "      <td>NaN</td>\n",
       "      <td>30390</td>\n",
       "      <td>71690</td>\n",
       "      <td>34590</td>\n",
       "      <td>...</td>\n",
       "      <td>NaN</td>\n",
       "      <td>NaN</td>\n",
       "      <td>NaN</td>\n",
       "      <td>3</td>\n",
       "      <td>1068.0</td>\n",
       "      <td>883</td>\n",
       "      <td>5000</td>\n",
       "      <td>NaN</td>\n",
       "      <td>PHY324689</td>\n",
       "      <td>PRV56046</td>\n",
       "    </tr>\n",
       "    <tr>\n",
       "      <th>3</th>\n",
       "      <td>PHY369659</td>\n",
       "      <td>BENE11011</td>\n",
       "      <td>CLM38412</td>\n",
       "      <td>8</td>\n",
       "      <td>431</td>\n",
       "      <td>43491</td>\n",
       "      <td>NaN</td>\n",
       "      <td>2762</td>\n",
       "      <td>7843</td>\n",
       "      <td>32723</td>\n",
       "      <td>...</td>\n",
       "      <td>NaN</td>\n",
       "      <td>NaN</td>\n",
       "      <td>NaN</td>\n",
       "      <td>8</td>\n",
       "      <td>1068.0</td>\n",
       "      <td>067</td>\n",
       "      <td>5000</td>\n",
       "      <td>PHY392961</td>\n",
       "      <td>PHY349768</td>\n",
       "      <td>PRV52405</td>\n",
       "    </tr>\n",
       "    <tr>\n",
       "      <th>4</th>\n",
       "      <td>PHY379376</td>\n",
       "      <td>BENE11014</td>\n",
       "      <td>CLM63689</td>\n",
       "      <td>17</td>\n",
       "      <td>78321</td>\n",
       "      <td>042</td>\n",
       "      <td>NaN</td>\n",
       "      <td>3051</td>\n",
       "      <td>34400</td>\n",
       "      <td>5856</td>\n",
       "      <td>...</td>\n",
       "      <td>NaN</td>\n",
       "      <td>NaN</td>\n",
       "      <td>NaN</td>\n",
       "      <td>17</td>\n",
       "      <td>1068.0</td>\n",
       "      <td>975</td>\n",
       "      <td>10000</td>\n",
       "      <td>PHY398258</td>\n",
       "      <td>NaN</td>\n",
       "      <td>PRV56614</td>\n",
       "    </tr>\n",
       "    <tr>\n",
       "      <th>5</th>\n",
       "      <td>PHY402711</td>\n",
       "      <td>BENE11017</td>\n",
       "      <td>CLM70950</td>\n",
       "      <td>6</td>\n",
       "      <td>1749</td>\n",
       "      <td>1745</td>\n",
       "      <td>NaN</td>\n",
       "      <td>V4571</td>\n",
       "      <td>78702</td>\n",
       "      <td>28521</td>\n",
       "      <td>...</td>\n",
       "      <td>NaN</td>\n",
       "      <td>NaN</td>\n",
       "      <td>NaN</td>\n",
       "      <td>6</td>\n",
       "      <td>1068.0</td>\n",
       "      <td>597</td>\n",
       "      <td>8000</td>\n",
       "      <td>PHY402711</td>\n",
       "      <td>PHY402711</td>\n",
       "      <td>PRV54986</td>\n",
       "    </tr>\n",
       "    <tr>\n",
       "      <th>6</th>\n",
       "      <td>PHY412314</td>\n",
       "      <td>BENE11018</td>\n",
       "      <td>CLM32075</td>\n",
       "      <td>5</td>\n",
       "      <td>5699</td>\n",
       "      <td>1536</td>\n",
       "      <td>NaN</td>\n",
       "      <td>73300</td>\n",
       "      <td>7230</td>\n",
       "      <td>3659</td>\n",
       "      <td>...</td>\n",
       "      <td>NaN</td>\n",
       "      <td>NaN</td>\n",
       "      <td>NaN</td>\n",
       "      <td>5</td>\n",
       "      <td>1068.0</td>\n",
       "      <td>390</td>\n",
       "      <td>8000</td>\n",
       "      <td>PHY347494</td>\n",
       "      <td>NaN</td>\n",
       "      <td>PRV54090</td>\n",
       "    </tr>\n",
       "    <tr>\n",
       "      <th>7</th>\n",
       "      <td>PHY346286</td>\n",
       "      <td>BENE11028</td>\n",
       "      <td>CLM62376</td>\n",
       "      <td>4</td>\n",
       "      <td>78605</td>\n",
       "      <td>56212</td>\n",
       "      <td>NaN</td>\n",
       "      <td>25000</td>\n",
       "      <td>30000</td>\n",
       "      <td>73300</td>\n",
       "      <td>...</td>\n",
       "      <td>NaN</td>\n",
       "      <td>NaN</td>\n",
       "      <td>NaN</td>\n",
       "      <td>4</td>\n",
       "      <td>1068.0</td>\n",
       "      <td>379</td>\n",
       "      <td>6000</td>\n",
       "      <td>PHY405514</td>\n",
       "      <td>NaN</td>\n",
       "      <td>PRV51148</td>\n",
       "    </tr>\n",
       "    <tr>\n",
       "      <th>8</th>\n",
       "      <td>PHY385030</td>\n",
       "      <td>BENE11031</td>\n",
       "      <td>CLM62784</td>\n",
       "      <td>3</td>\n",
       "      <td>2859</td>\n",
       "      <td>42823</td>\n",
       "      <td>NaN</td>\n",
       "      <td>4280</td>\n",
       "      <td>6822</td>\n",
       "      <td>40390</td>\n",
       "      <td>...</td>\n",
       "      <td>NaN</td>\n",
       "      <td>NaN</td>\n",
       "      <td>NaN</td>\n",
       "      <td>3</td>\n",
       "      <td>1068.0</td>\n",
       "      <td>294</td>\n",
       "      <td>7000</td>\n",
       "      <td>NaN</td>\n",
       "      <td>NaN</td>\n",
       "      <td>PRV55839</td>\n",
       "    </tr>\n",
       "    <tr>\n",
       "      <th>9</th>\n",
       "      <td>PHY355604</td>\n",
       "      <td>BENE11034</td>\n",
       "      <td>CLM31519</td>\n",
       "      <td>7</td>\n",
       "      <td>41401</td>\n",
       "      <td>41041</td>\n",
       "      <td>NaN</td>\n",
       "      <td>3669</td>\n",
       "      <td>V851</td>\n",
       "      <td>25062</td>\n",
       "      <td>...</td>\n",
       "      <td>NaN</td>\n",
       "      <td>NaN</td>\n",
       "      <td>NaN</td>\n",
       "      <td>7</td>\n",
       "      <td>1068.0</td>\n",
       "      <td>262</td>\n",
       "      <td>29000</td>\n",
       "      <td>PHY415867</td>\n",
       "      <td>NaN</td>\n",
       "      <td>PRV55215</td>\n",
       "    </tr>\n",
       "  </tbody>\n",
       "</table>\n",
       "<p>10 rows × 28 columns</p>\n",
       "</div>"
      ],
      "text/plain": [
       "  AttendingPhysician     BeneID   ClaimID  ClaimTenure ClmAdmitDiagnosisCode  \\\n",
       "0          PHY390922  BENE11001  CLM46614            6                  7866   \n",
       "1          PHY318495  BENE11001  CLM66048            2                  6186   \n",
       "2          PHY372395  BENE11001  CLM68358            3                 29590   \n",
       "3          PHY369659  BENE11011  CLM38412            8                   431   \n",
       "4          PHY379376  BENE11014  CLM63689           17                 78321   \n",
       "5          PHY402711  BENE11017  CLM70950            6                  1749   \n",
       "6          PHY412314  BENE11018  CLM32075            5                  5699   \n",
       "7          PHY346286  BENE11028  CLM62376            4                 78605   \n",
       "8          PHY385030  BENE11031  CLM62784            3                  2859   \n",
       "9          PHY355604  BENE11034  CLM31519            7                 41401   \n",
       "\n",
       "  ClmDiagnosisCode_1 ClmDiagnosisCode_10 ClmDiagnosisCode_2  \\\n",
       "0               1970                 NaN               4019   \n",
       "1               6186                 NaN               2948   \n",
       "2              29623                 NaN              30390   \n",
       "3              43491                 NaN               2762   \n",
       "4                042                 NaN               3051   \n",
       "5               1745                 NaN              V4571   \n",
       "6               1536                 NaN              73300   \n",
       "7              56212                 NaN              25000   \n",
       "8              42823                 NaN               4280   \n",
       "9              41041                 NaN               3669   \n",
       "\n",
       "  ClmDiagnosisCode_3 ClmDiagnosisCode_4    ...    ClmProcedureCode_4  \\\n",
       "0               5853               7843    ...                   NaN   \n",
       "1              56400                NaN    ...                   NaN   \n",
       "2              71690              34590    ...                   NaN   \n",
       "3               7843              32723    ...                   NaN   \n",
       "4              34400               5856    ...                   NaN   \n",
       "5              78702              28521    ...                   NaN   \n",
       "6               7230               3659    ...                   NaN   \n",
       "7              30000              73300    ...                   NaN   \n",
       "8               6822              40390    ...                   NaN   \n",
       "9               V851              25062    ...                   NaN   \n",
       "\n",
       "  ClmProcedureCode_5 ClmProcedureCode_6 DaysInHospital DeductibleAmtPaid  \\\n",
       "0                NaN                NaN              6            1068.0   \n",
       "1                NaN                NaN              2            1068.0   \n",
       "2                NaN                NaN              3            1068.0   \n",
       "3                NaN                NaN              8            1068.0   \n",
       "4                NaN                NaN             17            1068.0   \n",
       "5                NaN                NaN              6            1068.0   \n",
       "6                NaN                NaN              5            1068.0   \n",
       "7                NaN                NaN              4            1068.0   \n",
       "8                NaN                NaN              3            1068.0   \n",
       "9                NaN                NaN              7            1068.0   \n",
       "\n",
       "   DiagnosisGroupCode  InscClaimAmtReimbursed  OperatingPhysician  \\\n",
       "0                 201                   26000                 NaN   \n",
       "1                 750                    5000           PHY318495   \n",
       "2                 883                    5000                 NaN   \n",
       "3                 067                    5000           PHY392961   \n",
       "4                 975                   10000           PHY398258   \n",
       "5                 597                    8000           PHY402711   \n",
       "6                 390                    8000           PHY347494   \n",
       "7                 379                    6000           PHY405514   \n",
       "8                 294                    7000                 NaN   \n",
       "9                 262                   29000           PHY415867   \n",
       "\n",
       "   OtherPhysician  Provider  \n",
       "0             NaN  PRV55912  \n",
       "1             NaN  PRV55907  \n",
       "2       PHY324689  PRV56046  \n",
       "3       PHY349768  PRV52405  \n",
       "4             NaN  PRV56614  \n",
       "5       PHY402711  PRV54986  \n",
       "6             NaN  PRV54090  \n",
       "7             NaN  PRV51148  \n",
       "8             NaN  PRV55839  \n",
       "9             NaN  PRV55215  \n",
       "\n",
       "[10 rows x 28 columns]"
      ]
     },
     "execution_count": 290,
     "metadata": {},
     "output_type": "execute_result"
    }
   ],
   "source": [
    "ipop_concat.head(10)"
   ]
  },
  {
   "cell_type": "code",
   "execution_count": 292,
   "metadata": {},
   "outputs": [
    {
     "data": {
      "text/plain": [
       "(138556, 24)"
      ]
     },
     "execution_count": 292,
     "metadata": {},
     "output_type": "execute_result"
    }
   ],
   "source": [
    "benfidata.shape"
   ]
  },
  {
   "cell_type": "code",
   "execution_count": 293,
   "metadata": {},
   "outputs": [
    {
     "data": {
      "text/plain": [
       "Index(['BeneID', 'Gender', 'Race', 'RenalDiseaseIndicator', 'State', 'County',\n",
       "       'NoOfMonths_PartACov', 'NoOfMonths_PartBCov', 'ChronicCond_Alzheimer',\n",
       "       'ChronicCond_Heartfailure', 'ChronicCond_KidneyDisease',\n",
       "       'ChronicCond_Cancer', 'ChronicCond_ObstrPulmonary',\n",
       "       'ChronicCond_Depression', 'ChronicCond_Diabetes',\n",
       "       'ChronicCond_IschemicHeart', 'ChronicCond_Osteoporasis',\n",
       "       'ChronicCond_rheumatoidarthritis', 'ChronicCond_stroke',\n",
       "       'IPAnnualReimbursementAmt', 'IPAnnualDeductibleAmt',\n",
       "       'OPAnnualReimbursementAmt', 'OPAnnualDeductibleAmt', 'age'],\n",
       "      dtype='object')"
      ]
     },
     "execution_count": 293,
     "metadata": {},
     "output_type": "execute_result"
    }
   ],
   "source": [
    "benfidata.columns"
   ]
  },
  {
   "cell_type": "code",
   "execution_count": 294,
   "metadata": {},
   "outputs": [
    {
     "data": {
      "text/plain": [
       "Index(['AttendingPhysician', 'BeneID', 'ClaimID', 'ClaimTenure',\n",
       "       'ClmAdmitDiagnosisCode', 'ClmDiagnosisCode_1', 'ClmDiagnosisCode_10',\n",
       "       'ClmDiagnosisCode_2', 'ClmDiagnosisCode_3', 'ClmDiagnosisCode_4',\n",
       "       'ClmDiagnosisCode_5', 'ClmDiagnosisCode_6', 'ClmDiagnosisCode_7',\n",
       "       'ClmDiagnosisCode_8', 'ClmDiagnosisCode_9', 'ClmProcedureCode_1',\n",
       "       'ClmProcedureCode_2', 'ClmProcedureCode_3', 'ClmProcedureCode_4',\n",
       "       'ClmProcedureCode_5', 'ClmProcedureCode_6', 'DaysInHospital',\n",
       "       'DeductibleAmtPaid', 'DiagnosisGroupCode', 'InscClaimAmtReimbursed',\n",
       "       'OperatingPhysician', 'OtherPhysician', 'Provider'],\n",
       "      dtype='object')"
      ]
     },
     "execution_count": 294,
     "metadata": {},
     "output_type": "execute_result"
    }
   ],
   "source": [
    "ipop_concat.columns"
   ]
  },
  {
   "cell_type": "code",
   "execution_count": 301,
   "metadata": {},
   "outputs": [
    {
     "data": {
      "text/plain": [
       "138556"
      ]
     },
     "execution_count": 301,
     "metadata": {},
     "output_type": "execute_result"
    }
   ],
   "source": [
    "len(ipop_concat['BeneID'].unique())"
   ]
  },
  {
   "cell_type": "code",
   "execution_count": 302,
   "metadata": {},
   "outputs": [
    {
     "data": {
      "text/plain": [
       "138556"
      ]
     },
     "execution_count": 302,
     "metadata": {},
     "output_type": "execute_result"
    }
   ],
   "source": [
    "len(benfidata['BeneID'].unique())"
   ]
  },
  {
   "cell_type": "code",
   "execution_count": 303,
   "metadata": {},
   "outputs": [],
   "source": [
    "ipop_benfi = pd.merge(left = ipop_concat, right = benfidata, on ='BeneID', how = 'inner')"
   ]
  },
  {
   "cell_type": "code",
   "execution_count": 304,
   "metadata": {},
   "outputs": [
    {
     "data": {
      "text/html": [
       "<div>\n",
       "<style scoped>\n",
       "    .dataframe tbody tr th:only-of-type {\n",
       "        vertical-align: middle;\n",
       "    }\n",
       "\n",
       "    .dataframe tbody tr th {\n",
       "        vertical-align: top;\n",
       "    }\n",
       "\n",
       "    .dataframe thead th {\n",
       "        text-align: right;\n",
       "    }\n",
       "</style>\n",
       "<table border=\"1\" class=\"dataframe\">\n",
       "  <thead>\n",
       "    <tr style=\"text-align: right;\">\n",
       "      <th></th>\n",
       "      <th>AttendingPhysician</th>\n",
       "      <th>BeneID</th>\n",
       "      <th>ClaimID</th>\n",
       "      <th>ClaimTenure</th>\n",
       "      <th>ClmAdmitDiagnosisCode</th>\n",
       "      <th>ClmDiagnosisCode_1</th>\n",
       "      <th>ClmDiagnosisCode_10</th>\n",
       "      <th>ClmDiagnosisCode_2</th>\n",
       "      <th>ClmDiagnosisCode_3</th>\n",
       "      <th>ClmDiagnosisCode_4</th>\n",
       "      <th>...</th>\n",
       "      <th>ChronicCond_Diabetes</th>\n",
       "      <th>ChronicCond_IschemicHeart</th>\n",
       "      <th>ChronicCond_Osteoporasis</th>\n",
       "      <th>ChronicCond_rheumatoidarthritis</th>\n",
       "      <th>ChronicCond_stroke</th>\n",
       "      <th>IPAnnualReimbursementAmt</th>\n",
       "      <th>IPAnnualDeductibleAmt</th>\n",
       "      <th>OPAnnualReimbursementAmt</th>\n",
       "      <th>OPAnnualDeductibleAmt</th>\n",
       "      <th>age</th>\n",
       "    </tr>\n",
       "  </thead>\n",
       "  <tbody>\n",
       "    <tr>\n",
       "      <th>0</th>\n",
       "      <td>PHY390922</td>\n",
       "      <td>BENE11001</td>\n",
       "      <td>CLM46614</td>\n",
       "      <td>6</td>\n",
       "      <td>7866</td>\n",
       "      <td>1970</td>\n",
       "      <td>NaN</td>\n",
       "      <td>4019</td>\n",
       "      <td>5853</td>\n",
       "      <td>7843</td>\n",
       "      <td>...</td>\n",
       "      <td>1</td>\n",
       "      <td>1</td>\n",
       "      <td>2</td>\n",
       "      <td>1</td>\n",
       "      <td>1</td>\n",
       "      <td>36000</td>\n",
       "      <td>3204</td>\n",
       "      <td>60</td>\n",
       "      <td>70</td>\n",
       "      <td>66</td>\n",
       "    </tr>\n",
       "    <tr>\n",
       "      <th>1</th>\n",
       "      <td>PHY318495</td>\n",
       "      <td>BENE11001</td>\n",
       "      <td>CLM66048</td>\n",
       "      <td>2</td>\n",
       "      <td>6186</td>\n",
       "      <td>6186</td>\n",
       "      <td>NaN</td>\n",
       "      <td>2948</td>\n",
       "      <td>56400</td>\n",
       "      <td>NaN</td>\n",
       "      <td>...</td>\n",
       "      <td>1</td>\n",
       "      <td>1</td>\n",
       "      <td>2</td>\n",
       "      <td>1</td>\n",
       "      <td>1</td>\n",
       "      <td>36000</td>\n",
       "      <td>3204</td>\n",
       "      <td>60</td>\n",
       "      <td>70</td>\n",
       "      <td>66</td>\n",
       "    </tr>\n",
       "    <tr>\n",
       "      <th>2</th>\n",
       "      <td>PHY372395</td>\n",
       "      <td>BENE11001</td>\n",
       "      <td>CLM68358</td>\n",
       "      <td>3</td>\n",
       "      <td>29590</td>\n",
       "      <td>29623</td>\n",
       "      <td>NaN</td>\n",
       "      <td>30390</td>\n",
       "      <td>71690</td>\n",
       "      <td>34590</td>\n",
       "      <td>...</td>\n",
       "      <td>1</td>\n",
       "      <td>1</td>\n",
       "      <td>2</td>\n",
       "      <td>1</td>\n",
       "      <td>1</td>\n",
       "      <td>36000</td>\n",
       "      <td>3204</td>\n",
       "      <td>60</td>\n",
       "      <td>70</td>\n",
       "      <td>66</td>\n",
       "    </tr>\n",
       "    <tr>\n",
       "      <th>3</th>\n",
       "      <td>PHY369659</td>\n",
       "      <td>BENE11011</td>\n",
       "      <td>CLM38412</td>\n",
       "      <td>8</td>\n",
       "      <td>431</td>\n",
       "      <td>43491</td>\n",
       "      <td>NaN</td>\n",
       "      <td>2762</td>\n",
       "      <td>7843</td>\n",
       "      <td>32723</td>\n",
       "      <td>...</td>\n",
       "      <td>1</td>\n",
       "      <td>2</td>\n",
       "      <td>2</td>\n",
       "      <td>1</td>\n",
       "      <td>1</td>\n",
       "      <td>5000</td>\n",
       "      <td>1068</td>\n",
       "      <td>250</td>\n",
       "      <td>320</td>\n",
       "      <td>95</td>\n",
       "    </tr>\n",
       "    <tr>\n",
       "      <th>4</th>\n",
       "      <td>PHY379398</td>\n",
       "      <td>BENE11011</td>\n",
       "      <td>CLM144521</td>\n",
       "      <td>0</td>\n",
       "      <td>78900</td>\n",
       "      <td>78969</td>\n",
       "      <td>NaN</td>\n",
       "      <td>78701</td>\n",
       "      <td>V5866</td>\n",
       "      <td>59389</td>\n",
       "      <td>...</td>\n",
       "      <td>1</td>\n",
       "      <td>2</td>\n",
       "      <td>2</td>\n",
       "      <td>1</td>\n",
       "      <td>1</td>\n",
       "      <td>5000</td>\n",
       "      <td>1068</td>\n",
       "      <td>250</td>\n",
       "      <td>320</td>\n",
       "      <td>95</td>\n",
       "    </tr>\n",
       "  </tbody>\n",
       "</table>\n",
       "<p>5 rows × 51 columns</p>\n",
       "</div>"
      ],
      "text/plain": [
       "  AttendingPhysician     BeneID    ClaimID  ClaimTenure ClmAdmitDiagnosisCode  \\\n",
       "0          PHY390922  BENE11001   CLM46614            6                  7866   \n",
       "1          PHY318495  BENE11001   CLM66048            2                  6186   \n",
       "2          PHY372395  BENE11001   CLM68358            3                 29590   \n",
       "3          PHY369659  BENE11011   CLM38412            8                   431   \n",
       "4          PHY379398  BENE11011  CLM144521            0                 78900   \n",
       "\n",
       "  ClmDiagnosisCode_1 ClmDiagnosisCode_10 ClmDiagnosisCode_2  \\\n",
       "0               1970                 NaN               4019   \n",
       "1               6186                 NaN               2948   \n",
       "2              29623                 NaN              30390   \n",
       "3              43491                 NaN               2762   \n",
       "4              78969                 NaN              78701   \n",
       "\n",
       "  ClmDiagnosisCode_3 ClmDiagnosisCode_4 ...  ChronicCond_Diabetes  \\\n",
       "0               5853               7843 ...                     1   \n",
       "1              56400                NaN ...                     1   \n",
       "2              71690              34590 ...                     1   \n",
       "3               7843              32723 ...                     1   \n",
       "4              V5866              59389 ...                     1   \n",
       "\n",
       "  ChronicCond_IschemicHeart ChronicCond_Osteoporasis  \\\n",
       "0                         1                        2   \n",
       "1                         1                        2   \n",
       "2                         1                        2   \n",
       "3                         2                        2   \n",
       "4                         2                        2   \n",
       "\n",
       "  ChronicCond_rheumatoidarthritis ChronicCond_stroke  \\\n",
       "0                               1                  1   \n",
       "1                               1                  1   \n",
       "2                               1                  1   \n",
       "3                               1                  1   \n",
       "4                               1                  1   \n",
       "\n",
       "   IPAnnualReimbursementAmt  IPAnnualDeductibleAmt  OPAnnualReimbursementAmt  \\\n",
       "0                     36000                   3204                        60   \n",
       "1                     36000                   3204                        60   \n",
       "2                     36000                   3204                        60   \n",
       "3                      5000                   1068                       250   \n",
       "4                      5000                   1068                       250   \n",
       "\n",
       "   OPAnnualDeductibleAmt  age  \n",
       "0                     70   66  \n",
       "1                     70   66  \n",
       "2                     70   66  \n",
       "3                    320   95  \n",
       "4                    320   95  \n",
       "\n",
       "[5 rows x 51 columns]"
      ]
     },
     "execution_count": 304,
     "metadata": {},
     "output_type": "execute_result"
    }
   ],
   "source": [
    "ipop_benfi.head()"
   ]
  },
  {
   "cell_type": "code",
   "execution_count": 305,
   "metadata": {},
   "outputs": [
    {
     "data": {
      "text/plain": [
       "(558211, 51)"
      ]
     },
     "execution_count": 305,
     "metadata": {},
     "output_type": "execute_result"
    }
   ],
   "source": [
    "ipop_benfi.shape"
   ]
  },
  {
   "cell_type": "code",
   "execution_count": 307,
   "metadata": {},
   "outputs": [
    {
     "data": {
      "text/plain": [
       "(5410, 2)"
      ]
     },
     "execution_count": 307,
     "metadata": {},
     "output_type": "execute_result"
    }
   ],
   "source": [
    "traindata.shape"
   ]
  },
  {
   "cell_type": "code",
   "execution_count": 310,
   "metadata": {},
   "outputs": [
    {
     "data": {
      "text/plain": [
       "0    PRV55912\n",
       "1    PRV55907\n",
       "2    PRV56046\n",
       "3    PRV52405\n",
       "4    PRV52314\n",
       "Name: Provider, dtype: object"
      ]
     },
     "execution_count": 310,
     "metadata": {},
     "output_type": "execute_result"
    }
   ],
   "source": [
    "ipop_benfi['Provider'].head()"
   ]
  },
  {
   "cell_type": "code",
   "execution_count": 308,
   "metadata": {},
   "outputs": [
    {
     "data": {
      "text/html": [
       "<div>\n",
       "<style scoped>\n",
       "    .dataframe tbody tr th:only-of-type {\n",
       "        vertical-align: middle;\n",
       "    }\n",
       "\n",
       "    .dataframe tbody tr th {\n",
       "        vertical-align: top;\n",
       "    }\n",
       "\n",
       "    .dataframe thead th {\n",
       "        text-align: right;\n",
       "    }\n",
       "</style>\n",
       "<table border=\"1\" class=\"dataframe\">\n",
       "  <thead>\n",
       "    <tr style=\"text-align: right;\">\n",
       "      <th></th>\n",
       "      <th>Provider</th>\n",
       "      <th>PotentialFraud</th>\n",
       "    </tr>\n",
       "  </thead>\n",
       "  <tbody>\n",
       "    <tr>\n",
       "      <th>0</th>\n",
       "      <td>PRV51001</td>\n",
       "      <td>No</td>\n",
       "    </tr>\n",
       "    <tr>\n",
       "      <th>1</th>\n",
       "      <td>PRV51003</td>\n",
       "      <td>Yes</td>\n",
       "    </tr>\n",
       "    <tr>\n",
       "      <th>2</th>\n",
       "      <td>PRV51004</td>\n",
       "      <td>No</td>\n",
       "    </tr>\n",
       "    <tr>\n",
       "      <th>3</th>\n",
       "      <td>PRV51005</td>\n",
       "      <td>Yes</td>\n",
       "    </tr>\n",
       "    <tr>\n",
       "      <th>4</th>\n",
       "      <td>PRV51007</td>\n",
       "      <td>No</td>\n",
       "    </tr>\n",
       "  </tbody>\n",
       "</table>\n",
       "</div>"
      ],
      "text/plain": [
       "   Provider PotentialFraud\n",
       "0  PRV51001             No\n",
       "1  PRV51003            Yes\n",
       "2  PRV51004             No\n",
       "3  PRV51005            Yes\n",
       "4  PRV51007             No"
      ]
     },
     "execution_count": 308,
     "metadata": {},
     "output_type": "execute_result"
    }
   ],
   "source": [
    "traindata.head()"
   ]
  },
  {
   "cell_type": "code",
   "execution_count": 311,
   "metadata": {},
   "outputs": [
    {
     "data": {
      "text/plain": [
       "5410"
      ]
     },
     "execution_count": 311,
     "metadata": {},
     "output_type": "execute_result"
    }
   ],
   "source": [
    "len(ipop_benfi['Provider'].unique())"
   ]
  },
  {
   "cell_type": "code",
   "execution_count": 312,
   "metadata": {},
   "outputs": [],
   "source": [
    "final_data = pd.merge(left = ipop_benfi, right = traindata, on ='Provider', how = 'inner')"
   ]
  },
  {
   "cell_type": "code",
   "execution_count": 313,
   "metadata": {},
   "outputs": [
    {
     "data": {
      "text/plain": [
       "(558211, 52)"
      ]
     },
     "execution_count": 313,
     "metadata": {},
     "output_type": "execute_result"
    }
   ],
   "source": [
    "final_data.shape"
   ]
  },
  {
   "cell_type": "code",
   "execution_count": 314,
   "metadata": {},
   "outputs": [
    {
     "data": {
      "text/html": [
       "<div>\n",
       "<style scoped>\n",
       "    .dataframe tbody tr th:only-of-type {\n",
       "        vertical-align: middle;\n",
       "    }\n",
       "\n",
       "    .dataframe tbody tr th {\n",
       "        vertical-align: top;\n",
       "    }\n",
       "\n",
       "    .dataframe thead th {\n",
       "        text-align: right;\n",
       "    }\n",
       "</style>\n",
       "<table border=\"1\" class=\"dataframe\">\n",
       "  <thead>\n",
       "    <tr style=\"text-align: right;\">\n",
       "      <th></th>\n",
       "      <th>ClaimTenure</th>\n",
       "      <th>ClmProcedureCode_1</th>\n",
       "      <th>ClmProcedureCode_2</th>\n",
       "      <th>ClmProcedureCode_3</th>\n",
       "      <th>ClmProcedureCode_4</th>\n",
       "      <th>ClmProcedureCode_5</th>\n",
       "      <th>ClmProcedureCode_6</th>\n",
       "      <th>DaysInHospital</th>\n",
       "      <th>DeductibleAmtPaid</th>\n",
       "      <th>InscClaimAmtReimbursed</th>\n",
       "      <th>...</th>\n",
       "      <th>ChronicCond_Diabetes</th>\n",
       "      <th>ChronicCond_IschemicHeart</th>\n",
       "      <th>ChronicCond_Osteoporasis</th>\n",
       "      <th>ChronicCond_rheumatoidarthritis</th>\n",
       "      <th>ChronicCond_stroke</th>\n",
       "      <th>IPAnnualReimbursementAmt</th>\n",
       "      <th>IPAnnualDeductibleAmt</th>\n",
       "      <th>OPAnnualReimbursementAmt</th>\n",
       "      <th>OPAnnualDeductibleAmt</th>\n",
       "      <th>age</th>\n",
       "    </tr>\n",
       "  </thead>\n",
       "  <tbody>\n",
       "    <tr>\n",
       "      <th>count</th>\n",
       "      <td>558211.000000</td>\n",
       "      <td>23310.000000</td>\n",
       "      <td>5490.000000</td>\n",
       "      <td>969.000000</td>\n",
       "      <td>118.000000</td>\n",
       "      <td>9.000000</td>\n",
       "      <td>0.0</td>\n",
       "      <td>558211.000000</td>\n",
       "      <td>557312.000000</td>\n",
       "      <td>558211.000000</td>\n",
       "      <td>...</td>\n",
       "      <td>558211.000000</td>\n",
       "      <td>558211.000000</td>\n",
       "      <td>558211.000000</td>\n",
       "      <td>558211.000000</td>\n",
       "      <td>558211.000000</td>\n",
       "      <td>558211.000000</td>\n",
       "      <td>558211.000000</td>\n",
       "      <td>558211.000000</td>\n",
       "      <td>558211.000000</td>\n",
       "      <td>558211.000000</td>\n",
       "    </tr>\n",
       "    <tr>\n",
       "      <th>mean</th>\n",
       "      <td>1.727940</td>\n",
       "      <td>5896.154612</td>\n",
       "      <td>4106.358106</td>\n",
       "      <td>4221.123839</td>\n",
       "      <td>4070.262712</td>\n",
       "      <td>5269.444444</td>\n",
       "      <td>NaN</td>\n",
       "      <td>0.410762</td>\n",
       "      <td>78.421085</td>\n",
       "      <td>997.012133</td>\n",
       "      <td>...</td>\n",
       "      <td>1.294605</td>\n",
       "      <td>1.240735</td>\n",
       "      <td>1.682353</td>\n",
       "      <td>1.688829</td>\n",
       "      <td>1.898280</td>\n",
       "      <td>5227.971466</td>\n",
       "      <td>568.756807</td>\n",
       "      <td>2278.225348</td>\n",
       "      <td>649.698745</td>\n",
       "      <td>73.274758</td>\n",
       "    </tr>\n",
       "    <tr>\n",
       "      <th>std</th>\n",
       "      <td>4.904984</td>\n",
       "      <td>3050.489933</td>\n",
       "      <td>2031.640878</td>\n",
       "      <td>2281.849885</td>\n",
       "      <td>2037.626990</td>\n",
       "      <td>2780.071632</td>\n",
       "      <td>NaN</td>\n",
       "      <td>2.112693</td>\n",
       "      <td>274.016812</td>\n",
       "      <td>3821.534891</td>\n",
       "      <td>...</td>\n",
       "      <td>0.455866</td>\n",
       "      <td>0.427530</td>\n",
       "      <td>0.465562</td>\n",
       "      <td>0.462973</td>\n",
       "      <td>0.302279</td>\n",
       "      <td>11786.274732</td>\n",
       "      <td>1179.172616</td>\n",
       "      <td>3881.846386</td>\n",
       "      <td>1002.020811</td>\n",
       "      <td>13.011533</td>\n",
       "    </tr>\n",
       "    <tr>\n",
       "      <th>min</th>\n",
       "      <td>0.000000</td>\n",
       "      <td>11.000000</td>\n",
       "      <td>42.000000</td>\n",
       "      <td>42.000000</td>\n",
       "      <td>42.000000</td>\n",
       "      <td>2724.000000</td>\n",
       "      <td>NaN</td>\n",
       "      <td>0.000000</td>\n",
       "      <td>0.000000</td>\n",
       "      <td>0.000000</td>\n",
       "      <td>...</td>\n",
       "      <td>1.000000</td>\n",
       "      <td>1.000000</td>\n",
       "      <td>1.000000</td>\n",
       "      <td>1.000000</td>\n",
       "      <td>1.000000</td>\n",
       "      <td>-8000.000000</td>\n",
       "      <td>0.000000</td>\n",
       "      <td>-70.000000</td>\n",
       "      <td>0.000000</td>\n",
       "      <td>26.000000</td>\n",
       "    </tr>\n",
       "    <tr>\n",
       "      <th>25%</th>\n",
       "      <td>0.000000</td>\n",
       "      <td>3848.000000</td>\n",
       "      <td>2724.000000</td>\n",
       "      <td>2724.000000</td>\n",
       "      <td>2754.250000</td>\n",
       "      <td>4139.000000</td>\n",
       "      <td>NaN</td>\n",
       "      <td>0.000000</td>\n",
       "      <td>0.000000</td>\n",
       "      <td>40.000000</td>\n",
       "      <td>...</td>\n",
       "      <td>1.000000</td>\n",
       "      <td>1.000000</td>\n",
       "      <td>1.000000</td>\n",
       "      <td>1.000000</td>\n",
       "      <td>2.000000</td>\n",
       "      <td>0.000000</td>\n",
       "      <td>0.000000</td>\n",
       "      <td>460.000000</td>\n",
       "      <td>120.000000</td>\n",
       "      <td>68.000000</td>\n",
       "    </tr>\n",
       "    <tr>\n",
       "      <th>50%</th>\n",
       "      <td>0.000000</td>\n",
       "      <td>5363.000000</td>\n",
       "      <td>4019.000000</td>\n",
       "      <td>4019.000000</td>\n",
       "      <td>4019.000000</td>\n",
       "      <td>4139.000000</td>\n",
       "      <td>NaN</td>\n",
       "      <td>0.000000</td>\n",
       "      <td>0.000000</td>\n",
       "      <td>80.000000</td>\n",
       "      <td>...</td>\n",
       "      <td>1.000000</td>\n",
       "      <td>1.000000</td>\n",
       "      <td>2.000000</td>\n",
       "      <td>2.000000</td>\n",
       "      <td>2.000000</td>\n",
       "      <td>0.000000</td>\n",
       "      <td>0.000000</td>\n",
       "      <td>1170.000000</td>\n",
       "      <td>340.000000</td>\n",
       "      <td>74.000000</td>\n",
       "    </tr>\n",
       "    <tr>\n",
       "      <th>75%</th>\n",
       "      <td>0.000000</td>\n",
       "      <td>8669.000000</td>\n",
       "      <td>4439.000000</td>\n",
       "      <td>5185.000000</td>\n",
       "      <td>4439.000000</td>\n",
       "      <td>5185.000000</td>\n",
       "      <td>NaN</td>\n",
       "      <td>0.000000</td>\n",
       "      <td>0.000000</td>\n",
       "      <td>300.000000</td>\n",
       "      <td>...</td>\n",
       "      <td>2.000000</td>\n",
       "      <td>1.000000</td>\n",
       "      <td>2.000000</td>\n",
       "      <td>2.000000</td>\n",
       "      <td>2.000000</td>\n",
       "      <td>6000.000000</td>\n",
       "      <td>1068.000000</td>\n",
       "      <td>2590.000000</td>\n",
       "      <td>790.000000</td>\n",
       "      <td>82.000000</td>\n",
       "    </tr>\n",
       "    <tr>\n",
       "      <th>max</th>\n",
       "      <td>36.000000</td>\n",
       "      <td>9999.000000</td>\n",
       "      <td>9999.000000</td>\n",
       "      <td>9999.000000</td>\n",
       "      <td>9986.000000</td>\n",
       "      <td>9982.000000</td>\n",
       "      <td>NaN</td>\n",
       "      <td>35.000000</td>\n",
       "      <td>1068.000000</td>\n",
       "      <td>125000.000000</td>\n",
       "      <td>...</td>\n",
       "      <td>2.000000</td>\n",
       "      <td>2.000000</td>\n",
       "      <td>2.000000</td>\n",
       "      <td>2.000000</td>\n",
       "      <td>2.000000</td>\n",
       "      <td>161470.000000</td>\n",
       "      <td>38272.000000</td>\n",
       "      <td>102960.000000</td>\n",
       "      <td>13840.000000</td>\n",
       "      <td>100.000000</td>\n",
       "    </tr>\n",
       "  </tbody>\n",
       "</table>\n",
       "<p>8 rows × 32 columns</p>\n",
       "</div>"
      ],
      "text/plain": [
       "         ClaimTenure  ClmProcedureCode_1  ClmProcedureCode_2  \\\n",
       "count  558211.000000        23310.000000         5490.000000   \n",
       "mean        1.727940         5896.154612         4106.358106   \n",
       "std         4.904984         3050.489933         2031.640878   \n",
       "min         0.000000           11.000000           42.000000   \n",
       "25%         0.000000         3848.000000         2724.000000   \n",
       "50%         0.000000         5363.000000         4019.000000   \n",
       "75%         0.000000         8669.000000         4439.000000   \n",
       "max        36.000000         9999.000000         9999.000000   \n",
       "\n",
       "       ClmProcedureCode_3  ClmProcedureCode_4  ClmProcedureCode_5  \\\n",
       "count          969.000000          118.000000            9.000000   \n",
       "mean          4221.123839         4070.262712         5269.444444   \n",
       "std           2281.849885         2037.626990         2780.071632   \n",
       "min             42.000000           42.000000         2724.000000   \n",
       "25%           2724.000000         2754.250000         4139.000000   \n",
       "50%           4019.000000         4019.000000         4139.000000   \n",
       "75%           5185.000000         4439.000000         5185.000000   \n",
       "max           9999.000000         9986.000000         9982.000000   \n",
       "\n",
       "       ClmProcedureCode_6  DaysInHospital  DeductibleAmtPaid  \\\n",
       "count                 0.0   558211.000000      557312.000000   \n",
       "mean                  NaN        0.410762          78.421085   \n",
       "std                   NaN        2.112693         274.016812   \n",
       "min                   NaN        0.000000           0.000000   \n",
       "25%                   NaN        0.000000           0.000000   \n",
       "50%                   NaN        0.000000           0.000000   \n",
       "75%                   NaN        0.000000           0.000000   \n",
       "max                   NaN       35.000000        1068.000000   \n",
       "\n",
       "       InscClaimAmtReimbursed      ...        ChronicCond_Diabetes  \\\n",
       "count           558211.000000      ...               558211.000000   \n",
       "mean               997.012133      ...                    1.294605   \n",
       "std               3821.534891      ...                    0.455866   \n",
       "min                  0.000000      ...                    1.000000   \n",
       "25%                 40.000000      ...                    1.000000   \n",
       "50%                 80.000000      ...                    1.000000   \n",
       "75%                300.000000      ...                    2.000000   \n",
       "max             125000.000000      ...                    2.000000   \n",
       "\n",
       "       ChronicCond_IschemicHeart  ChronicCond_Osteoporasis  \\\n",
       "count              558211.000000             558211.000000   \n",
       "mean                    1.240735                  1.682353   \n",
       "std                     0.427530                  0.465562   \n",
       "min                     1.000000                  1.000000   \n",
       "25%                     1.000000                  1.000000   \n",
       "50%                     1.000000                  2.000000   \n",
       "75%                     1.000000                  2.000000   \n",
       "max                     2.000000                  2.000000   \n",
       "\n",
       "       ChronicCond_rheumatoidarthritis  ChronicCond_stroke  \\\n",
       "count                    558211.000000       558211.000000   \n",
       "mean                          1.688829            1.898280   \n",
       "std                           0.462973            0.302279   \n",
       "min                           1.000000            1.000000   \n",
       "25%                           1.000000            2.000000   \n",
       "50%                           2.000000            2.000000   \n",
       "75%                           2.000000            2.000000   \n",
       "max                           2.000000            2.000000   \n",
       "\n",
       "       IPAnnualReimbursementAmt  IPAnnualDeductibleAmt  \\\n",
       "count             558211.000000          558211.000000   \n",
       "mean                5227.971466             568.756807   \n",
       "std                11786.274732            1179.172616   \n",
       "min                -8000.000000               0.000000   \n",
       "25%                    0.000000               0.000000   \n",
       "50%                    0.000000               0.000000   \n",
       "75%                 6000.000000            1068.000000   \n",
       "max               161470.000000           38272.000000   \n",
       "\n",
       "       OPAnnualReimbursementAmt  OPAnnualDeductibleAmt            age  \n",
       "count             558211.000000          558211.000000  558211.000000  \n",
       "mean                2278.225348             649.698745      73.274758  \n",
       "std                 3881.846386            1002.020811      13.011533  \n",
       "min                  -70.000000               0.000000      26.000000  \n",
       "25%                  460.000000             120.000000      68.000000  \n",
       "50%                 1170.000000             340.000000      74.000000  \n",
       "75%                 2590.000000             790.000000      82.000000  \n",
       "max               102960.000000           13840.000000     100.000000  \n",
       "\n",
       "[8 rows x 32 columns]"
      ]
     },
     "execution_count": 314,
     "metadata": {},
     "output_type": "execute_result"
    }
   ],
   "source": [
    "final_data.describe()"
   ]
  },
  {
   "cell_type": "code",
   "execution_count": 315,
   "metadata": {},
   "outputs": [
    {
     "name": "stdout",
     "output_type": "stream",
     "text": [
      "<class 'pandas.core.frame.DataFrame'>\n",
      "Int64Index: 558211 entries, 0 to 558210\n",
      "Data columns (total 52 columns):\n",
      "AttendingPhysician                 556703 non-null object\n",
      "BeneID                             558211 non-null object\n",
      "ClaimID                            558211 non-null object\n",
      "ClaimTenure                        558211 non-null int64\n",
      "ClmAdmitDiagnosisCode              145899 non-null object\n",
      "ClmDiagnosisCode_1                 547758 non-null object\n",
      "ClmDiagnosisCode_10                5010 non-null object\n",
      "ClmDiagnosisCode_2                 362605 non-null object\n",
      "ClmDiagnosisCode_3                 243055 non-null object\n",
      "ClmDiagnosisCode_4                 164536 non-null object\n",
      "ClmDiagnosisCode_5                 111924 non-null object\n",
      "ClmDiagnosisCode_6                 84392 non-null object\n",
      "ClmDiagnosisCode_7                 66177 non-null object\n",
      "ClmDiagnosisCode_8                 53444 non-null object\n",
      "ClmDiagnosisCode_9                 41815 non-null object\n",
      "ClmProcedureCode_1                 23310 non-null float64\n",
      "ClmProcedureCode_2                 5490 non-null float64\n",
      "ClmProcedureCode_3                 969 non-null float64\n",
      "ClmProcedureCode_4                 118 non-null float64\n",
      "ClmProcedureCode_5                 9 non-null float64\n",
      "ClmProcedureCode_6                 0 non-null float64\n",
      "DaysInHospital                     558211 non-null int64\n",
      "DeductibleAmtPaid                  557312 non-null float64\n",
      "DiagnosisGroupCode                 558211 non-null object\n",
      "InscClaimAmtReimbursed             558211 non-null int64\n",
      "OperatingPhysician                 114447 non-null object\n",
      "OtherPhysician                     199736 non-null object\n",
      "Provider                           558211 non-null object\n",
      "Gender                             558211 non-null int64\n",
      "Race                               558211 non-null int64\n",
      "RenalDiseaseIndicator              558211 non-null object\n",
      "State                              558211 non-null int64\n",
      "County                             558211 non-null int64\n",
      "NoOfMonths_PartACov                558211 non-null int64\n",
      "NoOfMonths_PartBCov                558211 non-null int64\n",
      "ChronicCond_Alzheimer              558211 non-null int64\n",
      "ChronicCond_Heartfailure           558211 non-null int64\n",
      "ChronicCond_KidneyDisease          558211 non-null int64\n",
      "ChronicCond_Cancer                 558211 non-null int64\n",
      "ChronicCond_ObstrPulmonary         558211 non-null int64\n",
      "ChronicCond_Depression             558211 non-null int64\n",
      "ChronicCond_Diabetes               558211 non-null int64\n",
      "ChronicCond_IschemicHeart          558211 non-null int64\n",
      "ChronicCond_Osteoporasis           558211 non-null int64\n",
      "ChronicCond_rheumatoidarthritis    558211 non-null int64\n",
      "ChronicCond_stroke                 558211 non-null int64\n",
      "IPAnnualReimbursementAmt           558211 non-null int64\n",
      "IPAnnualDeductibleAmt              558211 non-null int64\n",
      "OPAnnualReimbursementAmt           558211 non-null int64\n",
      "OPAnnualDeductibleAmt              558211 non-null int64\n",
      "age                                558211 non-null int64\n",
      "PotentialFraud                     558211 non-null object\n",
      "dtypes: float64(7), int64(25), object(20)\n",
      "memory usage: 225.7+ MB\n"
     ]
    }
   ],
   "source": [
    "final_data.info()"
   ]
  },
  {
   "cell_type": "code",
   "execution_count": 316,
   "metadata": {},
   "outputs": [
    {
     "data": {
      "text/plain": [
       "array([nan])"
      ]
     },
     "execution_count": 316,
     "metadata": {},
     "output_type": "execute_result"
    }
   ],
   "source": [
    "final_data['ClmProcedureCode_6'].unique()"
   ]
  },
  {
   "cell_type": "code",
   "execution_count": 317,
   "metadata": {},
   "outputs": [
    {
     "data": {
      "text/plain": [
       "array([  nan, 4422., 5185., 4139., 9971., 2724., 9982.])"
      ]
     },
     "execution_count": 317,
     "metadata": {},
     "output_type": "execute_result"
    }
   ],
   "source": [
    "final_data['ClmProcedureCode_5'].unique()"
   ]
  },
  {
   "cell_type": "code",
   "execution_count": null,
   "metadata": {},
   "outputs": [],
   "source": []
  },
  {
   "cell_type": "code",
   "execution_count": 320,
   "metadata": {},
   "outputs": [],
   "source": [
    "final_data.drop(columns=['ClmProcedureCode_6','ClmProcedureCode_5'],inplace = True)"
   ]
  },
  {
   "cell_type": "code",
   "execution_count": 321,
   "metadata": {},
   "outputs": [
    {
     "data": {
      "text/plain": [
       "Index(['AttendingPhysician', 'BeneID', 'ClaimID', 'ClaimTenure',\n",
       "       'ClmAdmitDiagnosisCode', 'ClmDiagnosisCode_1', 'ClmDiagnosisCode_10',\n",
       "       'ClmDiagnosisCode_2', 'ClmDiagnosisCode_3', 'ClmDiagnosisCode_4',\n",
       "       'ClmDiagnosisCode_5', 'ClmDiagnosisCode_6', 'ClmDiagnosisCode_7',\n",
       "       'ClmDiagnosisCode_8', 'ClmDiagnosisCode_9', 'ClmProcedureCode_1',\n",
       "       'ClmProcedureCode_2', 'ClmProcedureCode_3', 'ClmProcedureCode_4',\n",
       "       'DaysInHospital', 'DeductibleAmtPaid', 'DiagnosisGroupCode',\n",
       "       'InscClaimAmtReimbursed', 'OperatingPhysician', 'OtherPhysician',\n",
       "       'Provider', 'Gender', 'Race', 'RenalDiseaseIndicator', 'State',\n",
       "       'County', 'NoOfMonths_PartACov', 'NoOfMonths_PartBCov',\n",
       "       'ChronicCond_Alzheimer', 'ChronicCond_Heartfailure',\n",
       "       'ChronicCond_KidneyDisease', 'ChronicCond_Cancer',\n",
       "       'ChronicCond_ObstrPulmonary', 'ChronicCond_Depression',\n",
       "       'ChronicCond_Diabetes', 'ChronicCond_IschemicHeart',\n",
       "       'ChronicCond_Osteoporasis', 'ChronicCond_rheumatoidarthritis',\n",
       "       'ChronicCond_stroke', 'IPAnnualReimbursementAmt',\n",
       "       'IPAnnualDeductibleAmt', 'OPAnnualReimbursementAmt',\n",
       "       'OPAnnualDeductibleAmt', 'age', 'PotentialFraud'],\n",
       "      dtype='object')"
      ]
     },
     "execution_count": 321,
     "metadata": {},
     "output_type": "execute_result"
    }
   ],
   "source": [
    "final_data.columns"
   ]
  },
  {
   "cell_type": "code",
   "execution_count": 322,
   "metadata": {},
   "outputs": [
    {
     "data": {
      "text/plain": [
       "(558211, 50)"
      ]
     },
     "execution_count": 322,
     "metadata": {},
     "output_type": "execute_result"
    }
   ],
   "source": [
    "final_data.shape"
   ]
  },
  {
   "cell_type": "code",
   "execution_count": 323,
   "metadata": {},
   "outputs": [
    {
     "name": "stdout",
     "output_type": "stream",
     "text": [
      "<class 'pandas.core.frame.DataFrame'>\n",
      "Int64Index: 558211 entries, 0 to 558210\n",
      "Data columns (total 50 columns):\n",
      "AttendingPhysician                 556703 non-null object\n",
      "BeneID                             558211 non-null object\n",
      "ClaimID                            558211 non-null object\n",
      "ClaimTenure                        558211 non-null int64\n",
      "ClmAdmitDiagnosisCode              145899 non-null object\n",
      "ClmDiagnosisCode_1                 547758 non-null object\n",
      "ClmDiagnosisCode_10                5010 non-null object\n",
      "ClmDiagnosisCode_2                 362605 non-null object\n",
      "ClmDiagnosisCode_3                 243055 non-null object\n",
      "ClmDiagnosisCode_4                 164536 non-null object\n",
      "ClmDiagnosisCode_5                 111924 non-null object\n",
      "ClmDiagnosisCode_6                 84392 non-null object\n",
      "ClmDiagnosisCode_7                 66177 non-null object\n",
      "ClmDiagnosisCode_8                 53444 non-null object\n",
      "ClmDiagnosisCode_9                 41815 non-null object\n",
      "ClmProcedureCode_1                 23310 non-null float64\n",
      "ClmProcedureCode_2                 5490 non-null float64\n",
      "ClmProcedureCode_3                 969 non-null float64\n",
      "ClmProcedureCode_4                 118 non-null float64\n",
      "DaysInHospital                     558211 non-null int64\n",
      "DeductibleAmtPaid                  557312 non-null float64\n",
      "DiagnosisGroupCode                 558211 non-null object\n",
      "InscClaimAmtReimbursed             558211 non-null int64\n",
      "OperatingPhysician                 114447 non-null object\n",
      "OtherPhysician                     199736 non-null object\n",
      "Provider                           558211 non-null object\n",
      "Gender                             558211 non-null int64\n",
      "Race                               558211 non-null int64\n",
      "RenalDiseaseIndicator              558211 non-null object\n",
      "State                              558211 non-null int64\n",
      "County                             558211 non-null int64\n",
      "NoOfMonths_PartACov                558211 non-null int64\n",
      "NoOfMonths_PartBCov                558211 non-null int64\n",
      "ChronicCond_Alzheimer              558211 non-null int64\n",
      "ChronicCond_Heartfailure           558211 non-null int64\n",
      "ChronicCond_KidneyDisease          558211 non-null int64\n",
      "ChronicCond_Cancer                 558211 non-null int64\n",
      "ChronicCond_ObstrPulmonary         558211 non-null int64\n",
      "ChronicCond_Depression             558211 non-null int64\n",
      "ChronicCond_Diabetes               558211 non-null int64\n",
      "ChronicCond_IschemicHeart          558211 non-null int64\n",
      "ChronicCond_Osteoporasis           558211 non-null int64\n",
      "ChronicCond_rheumatoidarthritis    558211 non-null int64\n",
      "ChronicCond_stroke                 558211 non-null int64\n",
      "IPAnnualReimbursementAmt           558211 non-null int64\n",
      "IPAnnualDeductibleAmt              558211 non-null int64\n",
      "OPAnnualReimbursementAmt           558211 non-null int64\n",
      "OPAnnualDeductibleAmt              558211 non-null int64\n",
      "age                                558211 non-null int64\n",
      "PotentialFraud                     558211 non-null object\n",
      "dtypes: float64(5), int64(25), object(20)\n",
      "memory usage: 217.2+ MB\n"
     ]
    }
   ],
   "source": [
    "final_data.info()"
   ]
  },
  {
   "cell_type": "code",
   "execution_count": 326,
   "metadata": {},
   "outputs": [],
   "source": [
    "#preserving the data\n",
    "final_2 = final_data.copy()"
   ]
  },
  {
   "cell_type": "code",
   "execution_count": 327,
   "metadata": {},
   "outputs": [
    {
     "name": "stdout",
     "output_type": "stream",
     "text": [
      "AttendingPhysician 99.72985125696198\n",
      "BeneID 100.0\n",
      "ClaimID 100.0\n",
      "ClaimTenure 100.0\n",
      "ClmAdmitDiagnosisCode 26.1368908889291\n",
      "ClmDiagnosisCode_1 98.12741060280074\n",
      "ClmDiagnosisCode_10 0.8975100813133385\n",
      "ClmDiagnosisCode_10 is < 10 % deleting it\n",
      "ClmDiagnosisCode_2 64.9584117833579\n",
      "ClmDiagnosisCode_3 43.54177900471327\n",
      "ClmDiagnosisCode_4 29.475592562668957\n",
      "ClmDiagnosisCode_5 20.050482702777263\n",
      "ClmDiagnosisCode_6 15.118297561316421\n",
      "ClmDiagnosisCode_7 11.855194541132295\n",
      "ClmDiagnosisCode_8 9.574157442257498\n",
      "ClmDiagnosisCode_8 is < 10 % deleting it\n",
      "ClmDiagnosisCode_9 7.490895019983483\n",
      "ClmDiagnosisCode_9 is < 10 % deleting it\n",
      "ClmProcedureCode_1 4.175840318445892\n",
      "ClmProcedureCode_1 is < 10 % deleting it\n",
      "ClmProcedureCode_2 0.9834990711397661\n",
      "ClmProcedureCode_2 is < 10 % deleting it\n",
      "ClmProcedureCode_3 0.1735902732121008\n",
      "ClmProcedureCode_3 is < 10 % deleting it\n",
      "ClmProcedureCode_4 0.021138959998996794\n",
      "ClmProcedureCode_4 is < 10 % deleting it\n",
      "DaysInHospital 100.0\n",
      "DeductibleAmtPaid 99.83894978780425\n",
      "DiagnosisGroupCode 100.0\n",
      "InscClaimAmtReimbursed 100.0\n",
      "OperatingPhysician 20.502462330552426\n",
      "OtherPhysician 35.78145181660698\n",
      "Provider 100.0\n",
      "Gender 100.0\n",
      "Race 100.0\n",
      "RenalDiseaseIndicator 100.0\n",
      "State 100.0\n",
      "County 100.0\n",
      "NoOfMonths_PartACov 100.0\n",
      "NoOfMonths_PartBCov 100.0\n",
      "ChronicCond_Alzheimer 100.0\n",
      "ChronicCond_Heartfailure 100.0\n",
      "ChronicCond_KidneyDisease 100.0\n",
      "ChronicCond_Cancer 100.0\n",
      "ChronicCond_ObstrPulmonary 100.0\n",
      "ChronicCond_Depression 100.0\n",
      "ChronicCond_Diabetes 100.0\n",
      "ChronicCond_IschemicHeart 100.0\n",
      "ChronicCond_Osteoporasis 100.0\n",
      "ChronicCond_rheumatoidarthritis 100.0\n",
      "ChronicCond_stroke 100.0\n",
      "IPAnnualReimbursementAmt 100.0\n",
      "IPAnnualDeductibleAmt 100.0\n",
      "OPAnnualReimbursementAmt 100.0\n",
      "OPAnnualDeductibleAmt 100.0\n",
      "age 100.0\n",
      "PotentialFraud 100.0\n"
     ]
    }
   ],
   "source": [
    "for colum in final_data.columns:\n",
    "    per = final_data[colum].count()/len(final_data)*100\n",
    "    print(colum,per)\n",
    "    \n",
    "    if per<10:\n",
    "        print(f'{colum} is < 10 % deleting it')\n",
    "        final_data.drop(columns = [colum],inplace = True)\n",
    "    "
   ]
  },
  {
   "cell_type": "code",
   "execution_count": 328,
   "metadata": {},
   "outputs": [
    {
     "data": {
      "text/plain": [
       "(558211, 43)"
      ]
     },
     "execution_count": 328,
     "metadata": {},
     "output_type": "execute_result"
    }
   ],
   "source": [
    "final_data.shape"
   ]
  },
  {
   "cell_type": "code",
   "execution_count": 331,
   "metadata": {},
   "outputs": [],
   "source": [
    "## Preserving the data to dataframe\n",
    "final_2.to_csv('final_2.csv', sep=',')"
   ]
  },
  {
   "cell_type": "code",
   "execution_count": 332,
   "metadata": {},
   "outputs": [],
   "source": [
    "final_data.to_csv(\"final_data\",sep=',')"
   ]
  },
  {
   "cell_type": "code",
   "execution_count": null,
   "metadata": {},
   "outputs": [],
   "source": []
  },
  {
   "cell_type": "markdown",
   "metadata": {},
   "source": [
    "# Test data Preparation"
   ]
  },
  {
   "cell_type": "markdown",
   "metadata": {},
   "source": [
    "## Inpatient data preperation"
   ]
  },
  {
   "cell_type": "code",
   "execution_count": 333,
   "metadata": {},
   "outputs": [],
   "source": [
    "test_ip = pd.read_csv(\"F:\\\\PHD_Python/Test_Inpatientdata-1542969243754.csv\")"
   ]
  },
  {
   "cell_type": "code",
   "execution_count": 334,
   "metadata": {},
   "outputs": [
    {
     "data": {
      "text/html": [
       "<div>\n",
       "<style scoped>\n",
       "    .dataframe tbody tr th:only-of-type {\n",
       "        vertical-align: middle;\n",
       "    }\n",
       "\n",
       "    .dataframe tbody tr th {\n",
       "        vertical-align: top;\n",
       "    }\n",
       "\n",
       "    .dataframe thead th {\n",
       "        text-align: right;\n",
       "    }\n",
       "</style>\n",
       "<table border=\"1\" class=\"dataframe\">\n",
       "  <thead>\n",
       "    <tr style=\"text-align: right;\">\n",
       "      <th></th>\n",
       "      <th>BeneID</th>\n",
       "      <th>ClaimID</th>\n",
       "      <th>ClaimStartDt</th>\n",
       "      <th>ClaimEndDt</th>\n",
       "      <th>Provider</th>\n",
       "      <th>InscClaimAmtReimbursed</th>\n",
       "      <th>AttendingPhysician</th>\n",
       "      <th>OperatingPhysician</th>\n",
       "      <th>OtherPhysician</th>\n",
       "      <th>AdmissionDt</th>\n",
       "      <th>...</th>\n",
       "      <th>ClmDiagnosisCode_7</th>\n",
       "      <th>ClmDiagnosisCode_8</th>\n",
       "      <th>ClmDiagnosisCode_9</th>\n",
       "      <th>ClmDiagnosisCode_10</th>\n",
       "      <th>ClmProcedureCode_1</th>\n",
       "      <th>ClmProcedureCode_2</th>\n",
       "      <th>ClmProcedureCode_3</th>\n",
       "      <th>ClmProcedureCode_4</th>\n",
       "      <th>ClmProcedureCode_5</th>\n",
       "      <th>ClmProcedureCode_6</th>\n",
       "    </tr>\n",
       "  </thead>\n",
       "  <tbody>\n",
       "    <tr>\n",
       "      <th>0</th>\n",
       "      <td>BENE11014</td>\n",
       "      <td>CLM67387</td>\n",
       "      <td>2009-09-09</td>\n",
       "      <td>2009-09-16</td>\n",
       "      <td>PRV57070</td>\n",
       "      <td>9000</td>\n",
       "      <td>PHY317786</td>\n",
       "      <td>PHY427017</td>\n",
       "      <td>NaN</td>\n",
       "      <td>2009-09-09</td>\n",
       "      <td>...</td>\n",
       "      <td>5990</td>\n",
       "      <td>570</td>\n",
       "      <td>41071</td>\n",
       "      <td>4280</td>\n",
       "      <td>4443.0</td>\n",
       "      <td>5849.0</td>\n",
       "      <td>NaN</td>\n",
       "      <td>NaN</td>\n",
       "      <td>NaN</td>\n",
       "      <td>NaN</td>\n",
       "    </tr>\n",
       "    <tr>\n",
       "      <th>1</th>\n",
       "      <td>BENE11017</td>\n",
       "      <td>CLM31237</td>\n",
       "      <td>2008-12-25</td>\n",
       "      <td>2009-01-08</td>\n",
       "      <td>PRV54750</td>\n",
       "      <td>14000</td>\n",
       "      <td>PHY314656</td>\n",
       "      <td>PHY426644</td>\n",
       "      <td>NaN</td>\n",
       "      <td>2008-12-25</td>\n",
       "      <td>...</td>\n",
       "      <td>4549</td>\n",
       "      <td>29570</td>\n",
       "      <td>34831</td>\n",
       "      <td>NaN</td>\n",
       "      <td>5551.0</td>\n",
       "      <td>NaN</td>\n",
       "      <td>NaN</td>\n",
       "      <td>NaN</td>\n",
       "      <td>NaN</td>\n",
       "      <td>NaN</td>\n",
       "    </tr>\n",
       "    <tr>\n",
       "      <th>2</th>\n",
       "      <td>BENE11026</td>\n",
       "      <td>CLM78930</td>\n",
       "      <td>2009-12-09</td>\n",
       "      <td>2009-12-13</td>\n",
       "      <td>PRV53758</td>\n",
       "      <td>2000</td>\n",
       "      <td>PHY349495</td>\n",
       "      <td>NaN</td>\n",
       "      <td>NaN</td>\n",
       "      <td>2009-12-09</td>\n",
       "      <td>...</td>\n",
       "      <td>78650</td>\n",
       "      <td>7813</td>\n",
       "      <td>4254</td>\n",
       "      <td>NaN</td>\n",
       "      <td>NaN</td>\n",
       "      <td>NaN</td>\n",
       "      <td>NaN</td>\n",
       "      <td>NaN</td>\n",
       "      <td>NaN</td>\n",
       "      <td>NaN</td>\n",
       "    </tr>\n",
       "    <tr>\n",
       "      <th>3</th>\n",
       "      <td>BENE11031</td>\n",
       "      <td>CLM56810</td>\n",
       "      <td>2009-06-23</td>\n",
       "      <td>2009-07-06</td>\n",
       "      <td>PRV55825</td>\n",
       "      <td>16000</td>\n",
       "      <td>PHY429538</td>\n",
       "      <td>PHY371893</td>\n",
       "      <td>NaN</td>\n",
       "      <td>2009-06-23</td>\n",
       "      <td>...</td>\n",
       "      <td>4254</td>\n",
       "      <td>41400</td>\n",
       "      <td>5849</td>\n",
       "      <td>41401</td>\n",
       "      <td>8152.0</td>\n",
       "      <td>3320.0</td>\n",
       "      <td>NaN</td>\n",
       "      <td>NaN</td>\n",
       "      <td>NaN</td>\n",
       "      <td>NaN</td>\n",
       "    </tr>\n",
       "    <tr>\n",
       "      <th>4</th>\n",
       "      <td>BENE11085</td>\n",
       "      <td>CLM34625</td>\n",
       "      <td>2009-01-20</td>\n",
       "      <td>2009-01-31</td>\n",
       "      <td>PRV52338</td>\n",
       "      <td>19000</td>\n",
       "      <td>PHY397161</td>\n",
       "      <td>NaN</td>\n",
       "      <td>NaN</td>\n",
       "      <td>2009-01-20</td>\n",
       "      <td>...</td>\n",
       "      <td>V6109</td>\n",
       "      <td>7242</td>\n",
       "      <td>NaN</td>\n",
       "      <td>NaN</td>\n",
       "      <td>NaN</td>\n",
       "      <td>NaN</td>\n",
       "      <td>NaN</td>\n",
       "      <td>NaN</td>\n",
       "      <td>NaN</td>\n",
       "      <td>NaN</td>\n",
       "    </tr>\n",
       "  </tbody>\n",
       "</table>\n",
       "<p>5 rows × 30 columns</p>\n",
       "</div>"
      ],
      "text/plain": [
       "      BeneID   ClaimID ClaimStartDt  ClaimEndDt  Provider  \\\n",
       "0  BENE11014  CLM67387   2009-09-09  2009-09-16  PRV57070   \n",
       "1  BENE11017  CLM31237   2008-12-25  2009-01-08  PRV54750   \n",
       "2  BENE11026  CLM78930   2009-12-09  2009-12-13  PRV53758   \n",
       "3  BENE11031  CLM56810   2009-06-23  2009-07-06  PRV55825   \n",
       "4  BENE11085  CLM34625   2009-01-20  2009-01-31  PRV52338   \n",
       "\n",
       "   InscClaimAmtReimbursed AttendingPhysician OperatingPhysician  \\\n",
       "0                    9000          PHY317786          PHY427017   \n",
       "1                   14000          PHY314656          PHY426644   \n",
       "2                    2000          PHY349495                NaN   \n",
       "3                   16000          PHY429538          PHY371893   \n",
       "4                   19000          PHY397161                NaN   \n",
       "\n",
       "  OtherPhysician AdmissionDt        ...         ClmDiagnosisCode_7  \\\n",
       "0            NaN  2009-09-09        ...                       5990   \n",
       "1            NaN  2008-12-25        ...                       4549   \n",
       "2            NaN  2009-12-09        ...                      78650   \n",
       "3            NaN  2009-06-23        ...                       4254   \n",
       "4            NaN  2009-01-20        ...                      V6109   \n",
       "\n",
       "   ClmDiagnosisCode_8 ClmDiagnosisCode_9 ClmDiagnosisCode_10  \\\n",
       "0                 570              41071                4280   \n",
       "1               29570              34831                 NaN   \n",
       "2                7813               4254                 NaN   \n",
       "3               41400               5849               41401   \n",
       "4                7242                NaN                 NaN   \n",
       "\n",
       "  ClmProcedureCode_1 ClmProcedureCode_2 ClmProcedureCode_3 ClmProcedureCode_4  \\\n",
       "0             4443.0             5849.0                NaN                NaN   \n",
       "1             5551.0                NaN                NaN                NaN   \n",
       "2                NaN                NaN                NaN                NaN   \n",
       "3             8152.0             3320.0                NaN                NaN   \n",
       "4                NaN                NaN                NaN                NaN   \n",
       "\n",
       "  ClmProcedureCode_5 ClmProcedureCode_6  \n",
       "0                NaN                NaN  \n",
       "1                NaN                NaN  \n",
       "2                NaN                NaN  \n",
       "3                NaN                NaN  \n",
       "4                NaN                NaN  \n",
       "\n",
       "[5 rows x 30 columns]"
      ]
     },
     "execution_count": 334,
     "metadata": {},
     "output_type": "execute_result"
    }
   ],
   "source": [
    "test_ip.head()"
   ]
  },
  {
   "cell_type": "code",
   "execution_count": 335,
   "metadata": {},
   "outputs": [
    {
     "data": {
      "text/plain": [
       "Index(['BeneID', 'ClaimID', 'Provider', 'InscClaimAmtReimbursed',\n",
       "       'AttendingPhysician', 'OperatingPhysician', 'OtherPhysician',\n",
       "       'ClmAdmitDiagnosisCode', 'DeductibleAmtPaid', 'DiagnosisGroupCode',\n",
       "       'ClmDiagnosisCode_1', 'ClmDiagnosisCode_2', 'ClmDiagnosisCode_3',\n",
       "       'ClmDiagnosisCode_4', 'ClmDiagnosisCode_5', 'ClmDiagnosisCode_6',\n",
       "       'ClmDiagnosisCode_7', 'ClmDiagnosisCode_8', 'ClmDiagnosisCode_9',\n",
       "       'ClmDiagnosisCode_10', 'ClmProcedureCode_1', 'ClmProcedureCode_2',\n",
       "       'ClmProcedureCode_3', 'ClmProcedureCode_4', 'ClmProcedureCode_5',\n",
       "       'ClmProcedureCode_6', 'DaysInHospital', 'ClaimTenure'],\n",
       "      dtype='object')"
      ]
     },
     "execution_count": 335,
     "metadata": {},
     "output_type": "execute_result"
    }
   ],
   "source": [
    "ipdata.columns"
   ]
  },
  {
   "cell_type": "code",
   "execution_count": 336,
   "metadata": {},
   "outputs": [
    {
     "data": {
      "text/plain": [
       "Index(['BeneID', 'ClaimID', 'ClaimStartDt', 'ClaimEndDt', 'Provider',\n",
       "       'InscClaimAmtReimbursed', 'AttendingPhysician', 'OperatingPhysician',\n",
       "       'OtherPhysician', 'AdmissionDt', 'ClmAdmitDiagnosisCode',\n",
       "       'DeductibleAmtPaid', 'DischargeDt', 'DiagnosisGroupCode',\n",
       "       'ClmDiagnosisCode_1', 'ClmDiagnosisCode_2', 'ClmDiagnosisCode_3',\n",
       "       'ClmDiagnosisCode_4', 'ClmDiagnosisCode_5', 'ClmDiagnosisCode_6',\n",
       "       'ClmDiagnosisCode_7', 'ClmDiagnosisCode_8', 'ClmDiagnosisCode_9',\n",
       "       'ClmDiagnosisCode_10', 'ClmProcedureCode_1', 'ClmProcedureCode_2',\n",
       "       'ClmProcedureCode_3', 'ClmProcedureCode_4', 'ClmProcedureCode_5',\n",
       "       'ClmProcedureCode_6'],\n",
       "      dtype='object')"
      ]
     },
     "execution_count": 336,
     "metadata": {},
     "output_type": "execute_result"
    }
   ],
   "source": [
    "test_ip.columns"
   ]
  },
  {
   "cell_type": "code",
   "execution_count": 337,
   "metadata": {},
   "outputs": [],
   "source": [
    "# converting objects to date\n",
    "test_ip['ClaimEndDt'] = pd.to_datetime(test_ip['ClaimEndDt'])\n",
    "test_ip['ClaimStartDt'] = pd.to_datetime(test_ip['ClaimStartDt'])"
   ]
  },
  {
   "cell_type": "code",
   "execution_count": 339,
   "metadata": {},
   "outputs": [
    {
     "data": {
      "text/plain": [
       "'2009-12-31'"
      ]
     },
     "execution_count": 339,
     "metadata": {},
     "output_type": "execute_result"
    }
   ],
   "source": [
    "# Last updated data in the test data also same as train data\n",
    "last_update_date_test = pd.to_datetime(test_ip['ClaimEndDt']).max().strftime('%Y-%m-%d')\n",
    "last_update_date_test"
   ]
  },
  {
   "cell_type": "code",
   "execution_count": null,
   "metadata": {},
   "outputs": [],
   "source": [
    "### By using claim start date and end date we are creating new column "
   ]
  },
  {
   "cell_type": "code",
   "execution_count": 342,
   "metadata": {},
   "outputs": [],
   "source": [
    "test_ip['ClaimTenure'] = (test_ip['ClaimEndDt']-test_ip['ClaimStartDt']).dt.days"
   ]
  },
  {
   "cell_type": "code",
   "execution_count": 343,
   "metadata": {},
   "outputs": [],
   "source": [
    "### By using Admission and discharege data Days in hospital column is additg to the data"
   ]
  },
  {
   "cell_type": "code",
   "execution_count": 344,
   "metadata": {},
   "outputs": [],
   "source": [
    "# converting into date from object\n",
    "test_ip['DischargeDt'] = pd.to_datetime(test_ip['DischargeDt'])\n",
    "test_ip['AdmissionDt'] = pd.to_datetime(test_ip['AdmissionDt'])"
   ]
  },
  {
   "cell_type": "code",
   "execution_count": 346,
   "metadata": {},
   "outputs": [],
   "source": [
    "\n",
    "test_ip['DaysInHospital'] = (test_ip['DischargeDt']-test_ip['AdmissionDt']).dt.days"
   ]
  },
  {
   "cell_type": "code",
   "execution_count": 347,
   "metadata": {},
   "outputs": [
    {
     "data": {
      "text/plain": [
       "Index(['BeneID', 'ClaimID', 'ClaimStartDt', 'ClaimEndDt', 'Provider',\n",
       "       'InscClaimAmtReimbursed', 'AttendingPhysician', 'OperatingPhysician',\n",
       "       'OtherPhysician', 'AdmissionDt', 'ClmAdmitDiagnosisCode',\n",
       "       'DeductibleAmtPaid', 'DischargeDt', 'DiagnosisGroupCode',\n",
       "       'ClmDiagnosisCode_1', 'ClmDiagnosisCode_2', 'ClmDiagnosisCode_3',\n",
       "       'ClmDiagnosisCode_4', 'ClmDiagnosisCode_5', 'ClmDiagnosisCode_6',\n",
       "       'ClmDiagnosisCode_7', 'ClmDiagnosisCode_8', 'ClmDiagnosisCode_9',\n",
       "       'ClmDiagnosisCode_10', 'ClmProcedureCode_1', 'ClmProcedureCode_2',\n",
       "       'ClmProcedureCode_3', 'ClmProcedureCode_4', 'ClmProcedureCode_5',\n",
       "       'ClmProcedureCode_6', 'ClaimTenure', 'DaysInHospital'],\n",
       "      dtype='object')"
      ]
     },
     "execution_count": 347,
     "metadata": {},
     "output_type": "execute_result"
    }
   ],
   "source": [
    "test_ip.columns"
   ]
  },
  {
   "cell_type": "markdown",
   "metadata": {},
   "source": [
    "### Need to remove the  'ClaimStartDt', 'ClaimEndDt' ,'DischargeDt' and 'AdmissionDt' because those are already preserved"
   ]
  },
  {
   "cell_type": "code",
   "execution_count": 348,
   "metadata": {},
   "outputs": [],
   "source": [
    "test_ip.drop(columns = [ 'ClaimStartDt', 'ClaimEndDt' ,'DischargeDt','AdmissionDt'],inplace = True)"
   ]
  },
  {
   "cell_type": "code",
   "execution_count": 349,
   "metadata": {},
   "outputs": [
    {
     "data": {
      "text/plain": [
       "(9551, 28)"
      ]
     },
     "execution_count": 349,
     "metadata": {},
     "output_type": "execute_result"
    }
   ],
   "source": [
    "test_ip.shape"
   ]
  },
  {
   "cell_type": "code",
   "execution_count": null,
   "metadata": {},
   "outputs": [],
   "source": []
  },
  {
   "cell_type": "markdown",
   "metadata": {},
   "source": [
    "## Test Outpatient data Preparation"
   ]
  },
  {
   "cell_type": "code",
   "execution_count": 352,
   "metadata": {},
   "outputs": [],
   "source": [
    "test_op = pd.read_csv(\"C:/Users/bkumar66/Desktop/ML/Ph_D_DATA/Test_Outpatientdata-1542969243754.csv\")"
   ]
  },
  {
   "cell_type": "code",
   "execution_count": 353,
   "metadata": {},
   "outputs": [
    {
     "data": {
      "text/html": [
       "<div>\n",
       "<style scoped>\n",
       "    .dataframe tbody tr th:only-of-type {\n",
       "        vertical-align: middle;\n",
       "    }\n",
       "\n",
       "    .dataframe tbody tr th {\n",
       "        vertical-align: top;\n",
       "    }\n",
       "\n",
       "    .dataframe thead th {\n",
       "        text-align: right;\n",
       "    }\n",
       "</style>\n",
       "<table border=\"1\" class=\"dataframe\">\n",
       "  <thead>\n",
       "    <tr style=\"text-align: right;\">\n",
       "      <th></th>\n",
       "      <th>BeneID</th>\n",
       "      <th>ClaimID</th>\n",
       "      <th>ClaimStartDt</th>\n",
       "      <th>ClaimEndDt</th>\n",
       "      <th>Provider</th>\n",
       "      <th>InscClaimAmtReimbursed</th>\n",
       "      <th>AttendingPhysician</th>\n",
       "      <th>OperatingPhysician</th>\n",
       "      <th>OtherPhysician</th>\n",
       "      <th>ClmDiagnosisCode_1</th>\n",
       "      <th>...</th>\n",
       "      <th>ClmDiagnosisCode_9</th>\n",
       "      <th>ClmDiagnosisCode_10</th>\n",
       "      <th>ClmProcedureCode_1</th>\n",
       "      <th>ClmProcedureCode_2</th>\n",
       "      <th>ClmProcedureCode_3</th>\n",
       "      <th>ClmProcedureCode_4</th>\n",
       "      <th>ClmProcedureCode_5</th>\n",
       "      <th>ClmProcedureCode_6</th>\n",
       "      <th>DeductibleAmtPaid</th>\n",
       "      <th>ClmAdmitDiagnosisCode</th>\n",
       "    </tr>\n",
       "  </thead>\n",
       "  <tbody>\n",
       "    <tr>\n",
       "      <th>0</th>\n",
       "      <td>BENE11001</td>\n",
       "      <td>CLM392397</td>\n",
       "      <td>2009-06-02</td>\n",
       "      <td>2009-06-02</td>\n",
       "      <td>PRV55962</td>\n",
       "      <td>30</td>\n",
       "      <td>PHY347633</td>\n",
       "      <td>NaN</td>\n",
       "      <td>PHY347633</td>\n",
       "      <td>V5832</td>\n",
       "      <td>...</td>\n",
       "      <td>NaN</td>\n",
       "      <td>NaN</td>\n",
       "      <td>NaN</td>\n",
       "      <td>NaN</td>\n",
       "      <td>NaN</td>\n",
       "      <td>NaN</td>\n",
       "      <td>NaN</td>\n",
       "      <td>NaN</td>\n",
       "      <td>0</td>\n",
       "      <td>NaN</td>\n",
       "    </tr>\n",
       "    <tr>\n",
       "      <th>1</th>\n",
       "      <td>BENE11001</td>\n",
       "      <td>CLM430760</td>\n",
       "      <td>2009-06-23</td>\n",
       "      <td>2009-06-23</td>\n",
       "      <td>PRV56112</td>\n",
       "      <td>30</td>\n",
       "      <td>PHY381777</td>\n",
       "      <td>NaN</td>\n",
       "      <td>PHY381777</td>\n",
       "      <td>9594</td>\n",
       "      <td>...</td>\n",
       "      <td>NaN</td>\n",
       "      <td>NaN</td>\n",
       "      <td>NaN</td>\n",
       "      <td>NaN</td>\n",
       "      <td>NaN</td>\n",
       "      <td>NaN</td>\n",
       "      <td>NaN</td>\n",
       "      <td>NaN</td>\n",
       "      <td>0</td>\n",
       "      <td>NaN</td>\n",
       "    </tr>\n",
       "    <tr>\n",
       "      <th>2</th>\n",
       "      <td>BENE11007</td>\n",
       "      <td>CLM233081</td>\n",
       "      <td>2009-03-07</td>\n",
       "      <td>2009-03-07</td>\n",
       "      <td>PRV56979</td>\n",
       "      <td>200</td>\n",
       "      <td>PHY425311</td>\n",
       "      <td>NaN</td>\n",
       "      <td>PHY425311</td>\n",
       "      <td>7248</td>\n",
       "      <td>...</td>\n",
       "      <td>NaN</td>\n",
       "      <td>NaN</td>\n",
       "      <td>NaN</td>\n",
       "      <td>NaN</td>\n",
       "      <td>NaN</td>\n",
       "      <td>NaN</td>\n",
       "      <td>NaN</td>\n",
       "      <td>NaN</td>\n",
       "      <td>0</td>\n",
       "      <td>NaN</td>\n",
       "    </tr>\n",
       "    <tr>\n",
       "      <th>3</th>\n",
       "      <td>BENE11007</td>\n",
       "      <td>CLM496381</td>\n",
       "      <td>2009-07-29</td>\n",
       "      <td>2009-07-29</td>\n",
       "      <td>PRV56573</td>\n",
       "      <td>10</td>\n",
       "      <td>PHY393253</td>\n",
       "      <td>PHY347995</td>\n",
       "      <td>NaN</td>\n",
       "      <td>58889</td>\n",
       "      <td>...</td>\n",
       "      <td>NaN</td>\n",
       "      <td>NaN</td>\n",
       "      <td>NaN</td>\n",
       "      <td>NaN</td>\n",
       "      <td>NaN</td>\n",
       "      <td>NaN</td>\n",
       "      <td>NaN</td>\n",
       "      <td>NaN</td>\n",
       "      <td>0</td>\n",
       "      <td>5939</td>\n",
       "    </tr>\n",
       "    <tr>\n",
       "      <th>4</th>\n",
       "      <td>BENE11007</td>\n",
       "      <td>CLM521391</td>\n",
       "      <td>2009-08-12</td>\n",
       "      <td>2009-08-12</td>\n",
       "      <td>PRV56573</td>\n",
       "      <td>10</td>\n",
       "      <td>PHY417685</td>\n",
       "      <td>NaN</td>\n",
       "      <td>PHY382041</td>\n",
       "      <td>V666</td>\n",
       "      <td>...</td>\n",
       "      <td>NaN</td>\n",
       "      <td>NaN</td>\n",
       "      <td>NaN</td>\n",
       "      <td>NaN</td>\n",
       "      <td>NaN</td>\n",
       "      <td>NaN</td>\n",
       "      <td>NaN</td>\n",
       "      <td>NaN</td>\n",
       "      <td>0</td>\n",
       "      <td>NaN</td>\n",
       "    </tr>\n",
       "  </tbody>\n",
       "</table>\n",
       "<p>5 rows × 27 columns</p>\n",
       "</div>"
      ],
      "text/plain": [
       "      BeneID    ClaimID ClaimStartDt  ClaimEndDt  Provider  \\\n",
       "0  BENE11001  CLM392397   2009-06-02  2009-06-02  PRV55962   \n",
       "1  BENE11001  CLM430760   2009-06-23  2009-06-23  PRV56112   \n",
       "2  BENE11007  CLM233081   2009-03-07  2009-03-07  PRV56979   \n",
       "3  BENE11007  CLM496381   2009-07-29  2009-07-29  PRV56573   \n",
       "4  BENE11007  CLM521391   2009-08-12  2009-08-12  PRV56573   \n",
       "\n",
       "   InscClaimAmtReimbursed AttendingPhysician OperatingPhysician  \\\n",
       "0                      30          PHY347633                NaN   \n",
       "1                      30          PHY381777                NaN   \n",
       "2                     200          PHY425311                NaN   \n",
       "3                      10          PHY393253          PHY347995   \n",
       "4                      10          PHY417685                NaN   \n",
       "\n",
       "  OtherPhysician ClmDiagnosisCode_1          ...           ClmDiagnosisCode_9  \\\n",
       "0      PHY347633              V5832          ...                          NaN   \n",
       "1      PHY381777               9594          ...                          NaN   \n",
       "2      PHY425311               7248          ...                          NaN   \n",
       "3            NaN              58889          ...                          NaN   \n",
       "4      PHY382041               V666          ...                          NaN   \n",
       "\n",
       "  ClmDiagnosisCode_10 ClmProcedureCode_1 ClmProcedureCode_2  \\\n",
       "0                 NaN                NaN                NaN   \n",
       "1                 NaN                NaN                NaN   \n",
       "2                 NaN                NaN                NaN   \n",
       "3                 NaN                NaN                NaN   \n",
       "4                 NaN                NaN                NaN   \n",
       "\n",
       "  ClmProcedureCode_3 ClmProcedureCode_4 ClmProcedureCode_5 ClmProcedureCode_6  \\\n",
       "0                NaN                NaN                NaN                NaN   \n",
       "1                NaN                NaN                NaN                NaN   \n",
       "2                NaN                NaN                NaN                NaN   \n",
       "3                NaN                NaN                NaN                NaN   \n",
       "4                NaN                NaN                NaN                NaN   \n",
       "\n",
       "  DeductibleAmtPaid  ClmAdmitDiagnosisCode  \n",
       "0                 0                    NaN  \n",
       "1                 0                    NaN  \n",
       "2                 0                    NaN  \n",
       "3                 0                   5939  \n",
       "4                 0                    NaN  \n",
       "\n",
       "[5 rows x 27 columns]"
      ]
     },
     "execution_count": 353,
     "metadata": {},
     "output_type": "execute_result"
    }
   ],
   "source": [
    "test_op.head()\n"
   ]
  },
  {
   "cell_type": "code",
   "execution_count": 354,
   "metadata": {},
   "outputs": [
    {
     "data": {
      "text/plain": [
       "(125841, 27)"
      ]
     },
     "execution_count": 354,
     "metadata": {},
     "output_type": "execute_result"
    }
   ],
   "source": [
    "test_op.shape"
   ]
  },
  {
   "cell_type": "code",
   "execution_count": 355,
   "metadata": {},
   "outputs": [
    {
     "data": {
      "text/plain": [
       "Index(['BeneID', 'ClaimID', 'ClaimStartDt', 'ClaimEndDt', 'Provider',\n",
       "       'InscClaimAmtReimbursed', 'AttendingPhysician', 'OperatingPhysician',\n",
       "       'OtherPhysician', 'ClmDiagnosisCode_1', 'ClmDiagnosisCode_2',\n",
       "       'ClmDiagnosisCode_3', 'ClmDiagnosisCode_4', 'ClmDiagnosisCode_5',\n",
       "       'ClmDiagnosisCode_6', 'ClmDiagnosisCode_7', 'ClmDiagnosisCode_8',\n",
       "       'ClmDiagnosisCode_9', 'ClmDiagnosisCode_10', 'ClmProcedureCode_1',\n",
       "       'ClmProcedureCode_2', 'ClmProcedureCode_3', 'ClmProcedureCode_4',\n",
       "       'ClmProcedureCode_5', 'ClmProcedureCode_6', 'DeductibleAmtPaid',\n",
       "       'ClmAdmitDiagnosisCode'],\n",
       "      dtype='object')"
      ]
     },
     "execution_count": 355,
     "metadata": {},
     "output_type": "execute_result"
    }
   ],
   "source": [
    "test_op.columns"
   ]
  },
  {
   "cell_type": "code",
   "execution_count": 358,
   "metadata": {},
   "outputs": [],
   "source": [
    "# converting objects to date\n",
    "test_op['ClaimEndDt'] = pd.to_datetime(test_op['ClaimEndDt'])\n",
    "test_op['ClaimStartDt'] = pd.to_datetime(test_op['ClaimStartDt'])"
   ]
  },
  {
   "cell_type": "markdown",
   "metadata": {},
   "source": [
    "### By using claim start date and end date we are creating new column "
   ]
  },
  {
   "cell_type": "code",
   "execution_count": 359,
   "metadata": {},
   "outputs": [],
   "source": [
    "test_op['ClaimTenure'] = (test_op['ClaimEndDt']-test_op['ClaimStartDt']).dt.days"
   ]
  },
  {
   "cell_type": "markdown",
   "metadata": {},
   "source": [
    "### Adding two new columns those are \"DaysInHospital\" and DiagnosisGroupCode"
   ]
  },
  {
   "cell_type": "code",
   "execution_count": 360,
   "metadata": {},
   "outputs": [],
   "source": [
    "test_op['DaysInHospital'] = 0\n",
    "test_op['DiagnosisGroupCode'] = 0"
   ]
  },
  {
   "cell_type": "markdown",
   "metadata": {},
   "source": [
    "## Removing two columns ClaimEndDt and ClaimStartDt"
   ]
  },
  {
   "cell_type": "code",
   "execution_count": 361,
   "metadata": {},
   "outputs": [],
   "source": [
    "del test_op['ClaimStartDt']\n",
    "del test_op['ClaimEndDt']"
   ]
  },
  {
   "cell_type": "code",
   "execution_count": null,
   "metadata": {},
   "outputs": [],
   "source": []
  },
  {
   "cell_type": "code",
   "execution_count": 362,
   "metadata": {},
   "outputs": [
    {
     "data": {
      "text/plain": [
       "(125841, 28)"
      ]
     },
     "execution_count": 362,
     "metadata": {},
     "output_type": "execute_result"
    }
   ],
   "source": [
    "test_op.shape"
   ]
  },
  {
   "cell_type": "code",
   "execution_count": 363,
   "metadata": {},
   "outputs": [
    {
     "data": {
      "text/plain": [
       "(9551, 28)"
      ]
     },
     "execution_count": 363,
     "metadata": {},
     "output_type": "execute_result"
    }
   ],
   "source": [
    "test_ip.shape"
   ]
  },
  {
   "cell_type": "markdown",
   "metadata": {},
   "source": [
    "## Benficiary data preparation"
   ]
  },
  {
   "cell_type": "code",
   "execution_count": 364,
   "metadata": {},
   "outputs": [],
   "source": [
    "test_benfi = pd.read_csv(\"F:\\\\PHD_Python/Test_Beneficiarydata-1542969243754.csv\")"
   ]
  },
  {
   "cell_type": "code",
   "execution_count": 365,
   "metadata": {},
   "outputs": [
    {
     "data": {
      "text/plain": [
       "(63968, 25)"
      ]
     },
     "execution_count": 365,
     "metadata": {},
     "output_type": "execute_result"
    }
   ],
   "source": [
    "test_benfi.shape"
   ]
  },
  {
   "cell_type": "code",
   "execution_count": 366,
   "metadata": {},
   "outputs": [
    {
     "data": {
      "text/plain": [
       "Index(['BeneID', 'DOB', 'DOD', 'Gender', 'Race', 'RenalDiseaseIndicator',\n",
       "       'State', 'County', 'NoOfMonths_PartACov', 'NoOfMonths_PartBCov',\n",
       "       'ChronicCond_Alzheimer', 'ChronicCond_Heartfailure',\n",
       "       'ChronicCond_KidneyDisease', 'ChronicCond_Cancer',\n",
       "       'ChronicCond_ObstrPulmonary', 'ChronicCond_Depression',\n",
       "       'ChronicCond_Diabetes', 'ChronicCond_IschemicHeart',\n",
       "       'ChronicCond_Osteoporasis', 'ChronicCond_rheumatoidarthritis',\n",
       "       'ChronicCond_stroke', 'IPAnnualReimbursementAmt',\n",
       "       'IPAnnualDeductibleAmt', 'OPAnnualReimbursementAmt',\n",
       "       'OPAnnualDeductibleAmt'],\n",
       "      dtype='object')"
      ]
     },
     "execution_count": 366,
     "metadata": {},
     "output_type": "execute_result"
    }
   ],
   "source": [
    "test_benfi.columns"
   ]
  },
  {
   "cell_type": "code",
   "execution_count": null,
   "metadata": {},
   "outputs": [],
   "source": [
    "### With help of DOB, DOD and the time lines we are finding the age and removing the DOB and DOD"
   ]
  },
  {
   "cell_type": "code",
   "execution_count": 367,
   "metadata": {},
   "outputs": [
    {
     "data": {
      "text/plain": [
       "'2009-12-31'"
      ]
     },
     "execution_count": 367,
     "metadata": {},
     "output_type": "execute_result"
    }
   ],
   "source": [
    "last_update_date_test"
   ]
  },
  {
   "cell_type": "code",
   "execution_count": 368,
   "metadata": {},
   "outputs": [],
   "source": [
    "test_benfi['DOB'] = pd.to_datetime(test_benfi['DOB'])"
   ]
  },
  {
   "cell_type": "code",
   "execution_count": 369,
   "metadata": {},
   "outputs": [],
   "source": [
    "# replacing all the null values with the most recent date in the data for calculating the age.\n",
    "test_benfi['DOD'].fillna(last_update_date,inplace =True)"
   ]
  },
  {
   "cell_type": "code",
   "execution_count": 371,
   "metadata": {},
   "outputs": [],
   "source": [
    "test_benfi['DOD'] = pd.to_datetime(test_benfi['DOD'])"
   ]
  },
  {
   "cell_type": "code",
   "execution_count": 372,
   "metadata": {},
   "outputs": [],
   "source": [
    "from dateutil import relativedelta\n",
    "\n",
    "def intck_month(row):\n",
    "    start, end = row['DOB'], row['DOD']\n",
    "    rd = relativedelta.relativedelta( pd.to_datetime( end ), pd.to_datetime( start ) )\n",
    "    return rd.years"
   ]
  },
  {
   "cell_type": "code",
   "execution_count": 373,
   "metadata": {},
   "outputs": [],
   "source": [
    "test_benfi['age'] = test_benfi[['DOB', 'DOD']].apply(intck_month, axis = 1)"
   ]
  },
  {
   "cell_type": "code",
   "execution_count": 374,
   "metadata": {},
   "outputs": [
    {
     "data": {
      "text/plain": [
       "0    66\n",
       "1    69\n",
       "2    73\n",
       "3    95\n",
       "4    71\n",
       "Name: age, dtype: int64"
      ]
     },
     "execution_count": 374,
     "metadata": {},
     "output_type": "execute_result"
    }
   ],
   "source": [
    "test_benfi['age'].head()"
   ]
  },
  {
   "cell_type": "code",
   "execution_count": 375,
   "metadata": {},
   "outputs": [],
   "source": [
    "# removing the DOb and DOD columns\n",
    "del test_benfi['DOD']\n",
    "del test_benfi['DOB']"
   ]
  },
  {
   "cell_type": "code",
   "execution_count": 376,
   "metadata": {},
   "outputs": [
    {
     "data": {
      "text/plain": [
       "(63968, 24)"
      ]
     },
     "execution_count": 376,
     "metadata": {},
     "output_type": "execute_result"
    }
   ],
   "source": [
    "test_benfi.shape"
   ]
  },
  {
   "cell_type": "markdown",
   "metadata": {},
   "source": [
    "## Concatinating Process ip and OP"
   ]
  },
  {
   "cell_type": "code",
   "execution_count": 377,
   "metadata": {},
   "outputs": [],
   "source": [
    "test_ipop_concat = pd.concat([test_ip, test_op], ignore_index=True, sort=True)"
   ]
  },
  {
   "cell_type": "code",
   "execution_count": 378,
   "metadata": {},
   "outputs": [
    {
     "data": {
      "text/plain": [
       "(135392, 28)"
      ]
     },
     "execution_count": 378,
     "metadata": {},
     "output_type": "execute_result"
    }
   ],
   "source": [
    "test_ipop_concat.shape"
   ]
  },
  {
   "cell_type": "code",
   "execution_count": 381,
   "metadata": {},
   "outputs": [
    {
     "data": {
      "text/plain": [
       "8351"
      ]
     },
     "execution_count": 381,
     "metadata": {},
     "output_type": "execute_result"
    }
   ],
   "source": [
    "len(test_ip['BeneID'].unique())"
   ]
  },
  {
   "cell_type": "code",
   "execution_count": 382,
   "metadata": {},
   "outputs": [
    {
     "data": {
      "text/plain": [
       "59608"
      ]
     },
     "execution_count": 382,
     "metadata": {},
     "output_type": "execute_result"
    }
   ],
   "source": [
    "len(test_op['BeneID'].unique())"
   ]
  },
  {
   "cell_type": "code",
   "execution_count": 383,
   "metadata": {},
   "outputs": [
    {
     "data": {
      "text/plain": [
       "63968"
      ]
     },
     "execution_count": 383,
     "metadata": {},
     "output_type": "execute_result"
    }
   ],
   "source": [
    "len(test_benfi['BeneID'].unique())   # unique benfi id 's '"
   ]
  },
  {
   "cell_type": "code",
   "execution_count": 385,
   "metadata": {},
   "outputs": [
    {
     "data": {
      "text/plain": [
       "63968"
      ]
     },
     "execution_count": 385,
     "metadata": {},
     "output_type": "execute_result"
    }
   ],
   "source": [
    "len(test_ipop_concat['BeneID'].unique())  # in the concatenated test file all the unique Benfi id's"
   ]
  },
  {
   "cell_type": "markdown",
   "metadata": {},
   "source": [
    "## Merging ipop with benfi data"
   ]
  },
  {
   "cell_type": "code",
   "execution_count": 386,
   "metadata": {},
   "outputs": [],
   "source": [
    "test_ipop_benfi = pd.merge(left = test_ipop_concat, right = test_benfi, on ='BeneID', how = 'inner')"
   ]
  },
  {
   "cell_type": "code",
   "execution_count": 387,
   "metadata": {},
   "outputs": [
    {
     "data": {
      "text/plain": [
       "(135392, 51)"
      ]
     },
     "execution_count": 387,
     "metadata": {},
     "output_type": "execute_result"
    }
   ],
   "source": [
    "test_ipop_benfi.shape"
   ]
  },
  {
   "cell_type": "code",
   "execution_count": 388,
   "metadata": {},
   "outputs": [],
   "source": [
    "#preserving the data\n",
    "final_test1 = test_ipop_benfi.copy()"
   ]
  },
  {
   "cell_type": "code",
   "execution_count": 389,
   "metadata": {},
   "outputs": [],
   "source": [
    "## Preserving the data to dataframe\n",
    "test_ipop_benfi.to_csv('final_test2.csv', sep=',')"
   ]
  },
  {
   "cell_type": "markdown",
   "metadata": {},
   "source": [
    "### Identifyinh the columns with less than 90 % values"
   ]
  },
  {
   "cell_type": "code",
   "execution_count": 390,
   "metadata": {},
   "outputs": [
    {
     "name": "stdout",
     "output_type": "stream",
     "text": [
      "AttendingPhysician 99.74370716142757\n",
      "BeneID 100.0\n",
      "ClaimID 100.0\n",
      "ClaimTenure 100.0\n",
      "ClmAdmitDiagnosisCode 26.11380288347908\n",
      "ClmDiagnosisCode_1 98.09589931458285\n",
      "ClmDiagnosisCode_10 0.8493854880642873\n",
      "ClmDiagnosisCode_10 is < 10 % deleting it\n",
      "ClmDiagnosisCode_2 64.70618648073741\n",
      "ClmDiagnosisCode_3 43.3171826991255\n",
      "ClmDiagnosisCode_4 29.26096076577641\n",
      "ClmDiagnosisCode_5 19.79289766012763\n",
      "ClmDiagnosisCode_6 14.890096903805247\n",
      "ClmDiagnosisCode_7 11.658739068778067\n",
      "ClmDiagnosisCode_8 9.396419286220752\n",
      "ClmDiagnosisCode_8 is < 10 % deleting it\n",
      "ClmDiagnosisCode_9 7.294374852280784\n",
      "ClmDiagnosisCode_9 is < 10 % deleting it\n",
      "ClmProcedureCode_1 4.037904750649965\n",
      "ClmProcedureCode_1 is < 10 % deleting it\n",
      "ClmProcedureCode_2 0.9328468447175609\n",
      "ClmProcedureCode_2 is < 10 % deleting it\n",
      "ClmProcedureCode_3 0.16618411722996929\n",
      "ClmProcedureCode_3 is < 10 % deleting it\n",
      "ClmProcedureCode_4 0.021419286220751597\n",
      "ClmProcedureCode_4 is < 10 % deleting it\n",
      "ClmProcedureCode_5 0.0014771921531552825\n",
      "ClmProcedureCode_5 is < 10 % deleting it\n",
      "ClmProcedureCode_6 0.0\n",
      "ClmProcedureCode_6 is < 10 % deleting it\n",
      "DaysInHospital 100.0\n",
      "DeductibleAmtPaid 99.85523516899079\n",
      "DiagnosisGroupCode 100.0\n",
      "InscClaimAmtReimbursed 100.0\n",
      "OperatingPhysician 20.084643110375797\n",
      "OtherPhysician 35.91940439612385\n",
      "Provider 100.0\n",
      "Gender 100.0\n",
      "Race 100.0\n",
      "RenalDiseaseIndicator 100.0\n",
      "State 100.0\n",
      "County 100.0\n",
      "NoOfMonths_PartACov 100.0\n",
      "NoOfMonths_PartBCov 100.0\n",
      "ChronicCond_Alzheimer 100.0\n",
      "ChronicCond_Heartfailure 100.0\n",
      "ChronicCond_KidneyDisease 100.0\n",
      "ChronicCond_Cancer 100.0\n",
      "ChronicCond_ObstrPulmonary 100.0\n",
      "ChronicCond_Depression 100.0\n",
      "ChronicCond_Diabetes 100.0\n",
      "ChronicCond_IschemicHeart 100.0\n",
      "ChronicCond_Osteoporasis 100.0\n",
      "ChronicCond_rheumatoidarthritis 100.0\n",
      "ChronicCond_stroke 100.0\n",
      "IPAnnualReimbursementAmt 100.0\n",
      "IPAnnualDeductibleAmt 100.0\n",
      "OPAnnualReimbursementAmt 100.0\n",
      "OPAnnualDeductibleAmt 100.0\n",
      "age 100.0\n"
     ]
    }
   ],
   "source": [
    "for colum in test_ipop_benfi.columns:\n",
    "    per = test_ipop_benfi[colum].count()/len(test_ipop_benfi)*100\n",
    "    print(colum,per)\n",
    "    \n",
    "    if per<10:\n",
    "        print(f'{colum} is < 10 % deleting it')\n",
    "        test_ipop_benfi.drop(columns = [colum],inplace = True)"
   ]
  },
  {
   "cell_type": "code",
   "execution_count": 392,
   "metadata": {},
   "outputs": [
    {
     "data": {
      "text/plain": [
       "(135392, 42)"
      ]
     },
     "execution_count": 392,
     "metadata": {},
     "output_type": "execute_result"
    }
   ],
   "source": [
    "test_ipop_benfi.shape  # after removal less than 10% final shape for the test data"
   ]
  },
  {
   "cell_type": "code",
   "execution_count": 394,
   "metadata": {},
   "outputs": [
    {
     "data": {
      "text/plain": [
       "(558211, 43)"
      ]
     },
     "execution_count": 394,
     "metadata": {},
     "output_type": "execute_result"
    }
   ],
   "source": [
    "final_data.shape        # after removal less than 10% final shape for the train data, because it has target variable."
   ]
  },
  {
   "cell_type": "code",
   "execution_count": 422,
   "metadata": {},
   "outputs": [
    {
     "data": {
      "text/plain": [
       "Index(['AttendingPhysician', 'BeneID', 'ClaimID', 'ClaimTenure',\n",
       "       'ClmAdmitDiagnosisCode', 'ClmDiagnosisCode_1', 'ClmDiagnosisCode_2',\n",
       "       'ClmDiagnosisCode_3', 'ClmDiagnosisCode_4', 'ClmDiagnosisCode_5',\n",
       "       'ClmDiagnosisCode_6', 'ClmDiagnosisCode_7', 'DaysInHospital',\n",
       "       'DeductibleAmtPaid', 'DiagnosisGroupCode', 'InscClaimAmtReimbursed',\n",
       "       'OperatingPhysician', 'OtherPhysician', 'Provider', 'Gender', 'Race',\n",
       "       'RenalDiseaseIndicator', 'State', 'County', 'NoOfMonths_PartACov',\n",
       "       'NoOfMonths_PartBCov', 'ChronicCond_Alzheimer',\n",
       "       'ChronicCond_Heartfailure', 'ChronicCond_KidneyDisease',\n",
       "       'ChronicCond_Cancer', 'ChronicCond_ObstrPulmonary',\n",
       "       'ChronicCond_Depression', 'ChronicCond_Diabetes',\n",
       "       'ChronicCond_IschemicHeart', 'ChronicCond_Osteoporasis',\n",
       "       'ChronicCond_rheumatoidarthritis', 'ChronicCond_stroke',\n",
       "       'IPAnnualReimbursementAmt', 'IPAnnualDeductibleAmt',\n",
       "       'OPAnnualReimbursementAmt', 'OPAnnualDeductibleAmt', 'age',\n",
       "       'PotentialFraud'],\n",
       "      dtype='object')"
      ]
     },
     "execution_count": 422,
     "metadata": {},
     "output_type": "execute_result"
    }
   ],
   "source": [
    "final_data.columns"
   ]
  },
  {
   "cell_type": "code",
   "execution_count": 421,
   "metadata": {},
   "outputs": [
    {
     "data": {
      "text/plain": [
       "Index(['AttendingPhysician', 'BeneID', 'ClaimID', 'ClaimTenure',\n",
       "       'ClmAdmitDiagnosisCode', 'ClmDiagnosisCode_1', 'ClmDiagnosisCode_2',\n",
       "       'ClmDiagnosisCode_3', 'ClmDiagnosisCode_4', 'ClmDiagnosisCode_5',\n",
       "       'ClmDiagnosisCode_6', 'ClmDiagnosisCode_7', 'DaysInHospital',\n",
       "       'DeductibleAmtPaid', 'DiagnosisGroupCode', 'InscClaimAmtReimbursed',\n",
       "       'OperatingPhysician', 'OtherPhysician', 'Provider', 'Gender', 'Race',\n",
       "       'RenalDiseaseIndicator', 'State', 'County', 'NoOfMonths_PartACov',\n",
       "       'NoOfMonths_PartBCov', 'ChronicCond_Alzheimer',\n",
       "       'ChronicCond_Heartfailure', 'ChronicCond_KidneyDisease',\n",
       "       'ChronicCond_Cancer', 'ChronicCond_ObstrPulmonary',\n",
       "       'ChronicCond_Depression', 'ChronicCond_Diabetes',\n",
       "       'ChronicCond_IschemicHeart', 'ChronicCond_Osteoporasis',\n",
       "       'ChronicCond_rheumatoidarthritis', 'ChronicCond_stroke',\n",
       "       'IPAnnualReimbursementAmt', 'IPAnnualDeductibleAmt',\n",
       "       'OPAnnualReimbursementAmt', 'OPAnnualDeductibleAmt', 'age'],\n",
       "      dtype='object')"
      ]
     },
     "execution_count": 421,
     "metadata": {},
     "output_type": "execute_result"
    }
   ],
   "source": [
    "test_ipop_benfi.columns"
   ]
  },
  {
   "cell_type": "code",
   "execution_count": 428,
   "metadata": {},
   "outputs": [],
   "source": [
    "compar ={}\n",
    "for colum in test_ipop_benfi.columns:\n",
    "    per1 = final_data[colum].count()/len(final_data)*100\n",
    "    per2 = test_ipop_benfi[colum].count()/len(test_ipop_benfi)*100\n",
    "    \n",
    "    compar[colum] =[per1,per2] \n",
    "\n",
    "data_comparison = pd.DataFrame(compar).T\n",
    "data_comparison.rename(columns = {0:'Training_data',1:'Testing_data'},inplace =True)\n"
   ]
  },
  {
   "cell_type": "code",
   "execution_count": 430,
   "metadata": {},
   "outputs": [
    {
     "data": {
      "text/plain": [
       "(42, 2)"
      ]
     },
     "execution_count": 430,
     "metadata": {},
     "output_type": "execute_result"
    }
   ],
   "source": [
    "data_comparison.shape"
   ]
  },
  {
   "cell_type": "code",
   "execution_count": null,
   "metadata": {},
   "outputs": [],
   "source": []
  },
  {
   "cell_type": "code",
   "execution_count": null,
   "metadata": {},
   "outputs": [],
   "source": []
  },
  {
   "cell_type": "code",
   "execution_count": null,
   "metadata": {},
   "outputs": [],
   "source": []
  },
  {
   "cell_type": "code",
   "execution_count": null,
   "metadata": {},
   "outputs": [],
   "source": []
  },
  {
   "cell_type": "code",
   "execution_count": null,
   "metadata": {},
   "outputs": [],
   "source": []
  },
  {
   "cell_type": "code",
   "execution_count": null,
   "metadata": {},
   "outputs": [],
   "source": []
  },
  {
   "cell_type": "code",
   "execution_count": null,
   "metadata": {},
   "outputs": [],
   "source": []
  },
  {
   "cell_type": "markdown",
   "metadata": {},
   "source": [
    "# BUilding KNN"
   ]
  },
  {
   "cell_type": "code",
   "execution_count": 395,
   "metadata": {},
   "outputs": [
    {
     "data": {
      "text/html": [
       "<div>\n",
       "<style scoped>\n",
       "    .dataframe tbody tr th:only-of-type {\n",
       "        vertical-align: middle;\n",
       "    }\n",
       "\n",
       "    .dataframe tbody tr th {\n",
       "        vertical-align: top;\n",
       "    }\n",
       "\n",
       "    .dataframe thead th {\n",
       "        text-align: right;\n",
       "    }\n",
       "</style>\n",
       "<table border=\"1\" class=\"dataframe\">\n",
       "  <thead>\n",
       "    <tr style=\"text-align: right;\">\n",
       "      <th></th>\n",
       "      <th>AttendingPhysician</th>\n",
       "      <th>BeneID</th>\n",
       "      <th>ClaimID</th>\n",
       "      <th>ClaimTenure</th>\n",
       "      <th>ClmAdmitDiagnosisCode</th>\n",
       "      <th>ClmDiagnosisCode_1</th>\n",
       "      <th>ClmDiagnosisCode_2</th>\n",
       "      <th>ClmDiagnosisCode_3</th>\n",
       "      <th>ClmDiagnosisCode_4</th>\n",
       "      <th>ClmDiagnosisCode_5</th>\n",
       "      <th>...</th>\n",
       "      <th>ChronicCond_IschemicHeart</th>\n",
       "      <th>ChronicCond_Osteoporasis</th>\n",
       "      <th>ChronicCond_rheumatoidarthritis</th>\n",
       "      <th>ChronicCond_stroke</th>\n",
       "      <th>IPAnnualReimbursementAmt</th>\n",
       "      <th>IPAnnualDeductibleAmt</th>\n",
       "      <th>OPAnnualReimbursementAmt</th>\n",
       "      <th>OPAnnualDeductibleAmt</th>\n",
       "      <th>age</th>\n",
       "      <th>PotentialFraud</th>\n",
       "    </tr>\n",
       "  </thead>\n",
       "  <tbody>\n",
       "    <tr>\n",
       "      <th>0</th>\n",
       "      <td>PHY390922</td>\n",
       "      <td>BENE11001</td>\n",
       "      <td>CLM46614</td>\n",
       "      <td>6</td>\n",
       "      <td>7866</td>\n",
       "      <td>1970</td>\n",
       "      <td>4019</td>\n",
       "      <td>5853</td>\n",
       "      <td>7843</td>\n",
       "      <td>2768</td>\n",
       "      <td>...</td>\n",
       "      <td>1</td>\n",
       "      <td>2</td>\n",
       "      <td>1</td>\n",
       "      <td>1</td>\n",
       "      <td>36000</td>\n",
       "      <td>3204</td>\n",
       "      <td>60</td>\n",
       "      <td>70</td>\n",
       "      <td>66</td>\n",
       "      <td>Yes</td>\n",
       "    </tr>\n",
       "    <tr>\n",
       "      <th>1</th>\n",
       "      <td>PHY365867</td>\n",
       "      <td>BENE16973</td>\n",
       "      <td>CLM565430</td>\n",
       "      <td>0</td>\n",
       "      <td>NaN</td>\n",
       "      <td>V7183</td>\n",
       "      <td>53081</td>\n",
       "      <td>78959</td>\n",
       "      <td>4280</td>\n",
       "      <td>E8788</td>\n",
       "      <td>...</td>\n",
       "      <td>1</td>\n",
       "      <td>2</td>\n",
       "      <td>2</td>\n",
       "      <td>2</td>\n",
       "      <td>24000</td>\n",
       "      <td>2136</td>\n",
       "      <td>450</td>\n",
       "      <td>200</td>\n",
       "      <td>77</td>\n",
       "      <td>Yes</td>\n",
       "    </tr>\n",
       "    <tr>\n",
       "      <th>2</th>\n",
       "      <td>PHY349293</td>\n",
       "      <td>BENE17521</td>\n",
       "      <td>CLM34721</td>\n",
       "      <td>12</td>\n",
       "      <td>45340</td>\n",
       "      <td>4240</td>\n",
       "      <td>2639</td>\n",
       "      <td>2948</td>\n",
       "      <td>40390</td>\n",
       "      <td>45821</td>\n",
       "      <td>...</td>\n",
       "      <td>1</td>\n",
       "      <td>2</td>\n",
       "      <td>2</td>\n",
       "      <td>2</td>\n",
       "      <td>19000</td>\n",
       "      <td>1068</td>\n",
       "      <td>100</td>\n",
       "      <td>20</td>\n",
       "      <td>96</td>\n",
       "      <td>Yes</td>\n",
       "    </tr>\n",
       "    <tr>\n",
       "      <th>3</th>\n",
       "      <td>PHY334706</td>\n",
       "      <td>BENE21718</td>\n",
       "      <td>CLM72336</td>\n",
       "      <td>18</td>\n",
       "      <td>V5789</td>\n",
       "      <td>V5789</td>\n",
       "      <td>4168</td>\n",
       "      <td>73313</td>\n",
       "      <td>7812</td>\n",
       "      <td>7993</td>\n",
       "      <td>...</td>\n",
       "      <td>1</td>\n",
       "      <td>1</td>\n",
       "      <td>2</td>\n",
       "      <td>2</td>\n",
       "      <td>17000</td>\n",
       "      <td>1068</td>\n",
       "      <td>1050</td>\n",
       "      <td>540</td>\n",
       "      <td>87</td>\n",
       "      <td>Yes</td>\n",
       "    </tr>\n",
       "    <tr>\n",
       "      <th>4</th>\n",
       "      <td>PHY390614</td>\n",
       "      <td>BENE22934</td>\n",
       "      <td>CLM73394</td>\n",
       "      <td>4</td>\n",
       "      <td>71946</td>\n",
       "      <td>71535</td>\n",
       "      <td>71960</td>\n",
       "      <td>4019</td>\n",
       "      <td>V1202</td>\n",
       "      <td>4240</td>\n",
       "      <td>...</td>\n",
       "      <td>1</td>\n",
       "      <td>1</td>\n",
       "      <td>1</td>\n",
       "      <td>2</td>\n",
       "      <td>27000</td>\n",
       "      <td>2136</td>\n",
       "      <td>450</td>\n",
       "      <td>160</td>\n",
       "      <td>79</td>\n",
       "      <td>Yes</td>\n",
       "    </tr>\n",
       "  </tbody>\n",
       "</table>\n",
       "<p>5 rows × 43 columns</p>\n",
       "</div>"
      ],
      "text/plain": [
       "  AttendingPhysician     BeneID    ClaimID  ClaimTenure ClmAdmitDiagnosisCode  \\\n",
       "0          PHY390922  BENE11001   CLM46614            6                  7866   \n",
       "1          PHY365867  BENE16973  CLM565430            0                   NaN   \n",
       "2          PHY349293  BENE17521   CLM34721           12                 45340   \n",
       "3          PHY334706  BENE21718   CLM72336           18                 V5789   \n",
       "4          PHY390614  BENE22934   CLM73394            4                 71946   \n",
       "\n",
       "  ClmDiagnosisCode_1 ClmDiagnosisCode_2 ClmDiagnosisCode_3 ClmDiagnosisCode_4  \\\n",
       "0               1970               4019               5853               7843   \n",
       "1              V7183              53081              78959               4280   \n",
       "2               4240               2639               2948              40390   \n",
       "3              V5789               4168              73313               7812   \n",
       "4              71535              71960               4019              V1202   \n",
       "\n",
       "  ClmDiagnosisCode_5       ...       ChronicCond_IschemicHeart  \\\n",
       "0               2768       ...                               1   \n",
       "1              E8788       ...                               1   \n",
       "2              45821       ...                               1   \n",
       "3               7993       ...                               1   \n",
       "4               4240       ...                               1   \n",
       "\n",
       "  ChronicCond_Osteoporasis  ChronicCond_rheumatoidarthritis  \\\n",
       "0                        2                                1   \n",
       "1                        2                                2   \n",
       "2                        2                                2   \n",
       "3                        1                                2   \n",
       "4                        1                                1   \n",
       "\n",
       "   ChronicCond_stroke IPAnnualReimbursementAmt  IPAnnualDeductibleAmt  \\\n",
       "0                   1                    36000                   3204   \n",
       "1                   2                    24000                   2136   \n",
       "2                   2                    19000                   1068   \n",
       "3                   2                    17000                   1068   \n",
       "4                   2                    27000                   2136   \n",
       "\n",
       "  OPAnnualReimbursementAmt OPAnnualDeductibleAmt age  PotentialFraud  \n",
       "0                       60                    70  66             Yes  \n",
       "1                      450                   200  77             Yes  \n",
       "2                      100                    20  96             Yes  \n",
       "3                     1050                   540  87             Yes  \n",
       "4                      450                   160  79             Yes  \n",
       "\n",
       "[5 rows x 43 columns]"
      ]
     },
     "execution_count": 395,
     "metadata": {},
     "output_type": "execute_result"
    }
   ],
   "source": [
    "final_data.head()"
   ]
  },
  {
   "cell_type": "code",
   "execution_count": 407,
   "metadata": {},
   "outputs": [],
   "source": [
    "a = final_data.columns\n",
    "b = final_data.dtypes"
   ]
  },
  {
   "cell_type": "code",
   "execution_count": null,
   "metadata": {},
   "outputs": [],
   "source": []
  },
  {
   "cell_type": "code",
   "execution_count": 411,
   "metadata": {},
   "outputs": [
    {
     "data": {
      "text/plain": [
       "AttendingPhysician                  object\n",
       "BeneID                              object\n",
       "ClaimID                             object\n",
       "ClaimTenure                          int64\n",
       "ClmAdmitDiagnosisCode               object\n",
       "ClmDiagnosisCode_1                  object\n",
       "ClmDiagnosisCode_2                  object\n",
       "ClmDiagnosisCode_3                  object\n",
       "ClmDiagnosisCode_4                  object\n",
       "ClmDiagnosisCode_5                  object\n",
       "ClmDiagnosisCode_6                  object\n",
       "ClmDiagnosisCode_7                  object\n",
       "DaysInHospital                       int64\n",
       "DeductibleAmtPaid                  float64\n",
       "DiagnosisGroupCode                  object\n",
       "InscClaimAmtReimbursed               int64\n",
       "OperatingPhysician                  object\n",
       "OtherPhysician                      object\n",
       "Provider                            object\n",
       "Gender                               int64\n",
       "Race                                 int64\n",
       "RenalDiseaseIndicator               object\n",
       "State                                int64\n",
       "County                               int64\n",
       "NoOfMonths_PartACov                  int64\n",
       "NoOfMonths_PartBCov                  int64\n",
       "ChronicCond_Alzheimer                int64\n",
       "ChronicCond_Heartfailure             int64\n",
       "ChronicCond_KidneyDisease            int64\n",
       "ChronicCond_Cancer                   int64\n",
       "ChronicCond_ObstrPulmonary           int64\n",
       "ChronicCond_Depression               int64\n",
       "ChronicCond_Diabetes                 int64\n",
       "ChronicCond_IschemicHeart            int64\n",
       "ChronicCond_Osteoporasis             int64\n",
       "ChronicCond_rheumatoidarthritis      int64\n",
       "ChronicCond_stroke                   int64\n",
       "IPAnnualReimbursementAmt             int64\n",
       "IPAnnualDeductibleAmt                int64\n",
       "OPAnnualReimbursementAmt             int64\n",
       "OPAnnualDeductibleAmt                int64\n",
       "age                                  int64\n",
       "PotentialFraud                      object\n",
       "dtype: object"
      ]
     },
     "execution_count": 411,
     "metadata": {},
     "output_type": "execute_result"
    }
   ],
   "source": [
    "final_data.dtypes"
   ]
  },
  {
   "cell_type": "code",
   "execution_count": null,
   "metadata": {},
   "outputs": [],
   "source": [
    "RenalDiseaseIndicator               object\n",
    "Provider                            object\n",
    "OtherPhysician                      object\n",
    "OperatingPhysician                  object"
   ]
  },
  {
   "cell_type": "code",
   "execution_count": null,
   "metadata": {},
   "outputs": [],
   "source": []
  },
  {
   "cell_type": "code",
   "execution_count": 412,
   "metadata": {},
   "outputs": [
    {
     "data": {
      "text/plain": [
       "AttendingPhysician         1508\n",
       "BeneID                        0\n",
       "ClaimID                       0\n",
       "ClmAdmitDiagnosisCode    412312\n",
       "ClmDiagnosisCode_1        10453\n",
       "ClmDiagnosisCode_2       195606\n",
       "ClmDiagnosisCode_3       315156\n",
       "ClmDiagnosisCode_4       393675\n",
       "ClmDiagnosisCode_5       446287\n",
       "ClmDiagnosisCode_6       473819\n",
       "ClmDiagnosisCode_7       492034\n",
       "DiagnosisGroupCode            0\n",
       "OperatingPhysician       443764\n",
       "OtherPhysician           358475\n",
       "Provider                      0\n",
       "RenalDiseaseIndicator         0\n",
       "PotentialFraud                0\n",
       "dtype: int64"
      ]
     },
     "execution_count": 412,
     "metadata": {},
     "output_type": "execute_result"
    }
   ],
   "source": [
    "final_data.select_dtypes(include=['object']).isnull().sum()"
   ]
  },
  {
   "cell_type": "code",
   "execution_count": 413,
   "metadata": {},
   "outputs": [
    {
     "data": {
      "text/plain": [
       "AttendingPhysician          347\n",
       "BeneID                        0\n",
       "ClaimID                       0\n",
       "ClmAdmitDiagnosisCode    100036\n",
       "ClmDiagnosisCode_1         2578\n",
       "ClmDiagnosisCode_2        47785\n",
       "ClmDiagnosisCode_3        76744\n",
       "ClmDiagnosisCode_4        95775\n",
       "ClmDiagnosisCode_5       108594\n",
       "ClmDiagnosisCode_6       115232\n",
       "ClmDiagnosisCode_7       119607\n",
       "DiagnosisGroupCode            0\n",
       "OperatingPhysician       108199\n",
       "OtherPhysician            86760\n",
       "Provider                      0\n",
       "RenalDiseaseIndicator         0\n",
       "dtype: int64"
      ]
     },
     "execution_count": 413,
     "metadata": {},
     "output_type": "execute_result"
    }
   ],
   "source": [
    "test_ipop_benfi.select_dtypes(include = ['object']).isnull().sum()"
   ]
  },
  {
   "cell_type": "code",
   "execution_count": null,
   "metadata": {},
   "outputs": [],
   "source": []
  },
  {
   "cell_type": "code",
   "execution_count": null,
   "metadata": {},
   "outputs": [],
   "source": []
  },
  {
   "cell_type": "code",
   "execution_count": null,
   "metadata": {},
   "outputs": [],
   "source": []
  },
  {
   "cell_type": "code",
   "execution_count": null,
   "metadata": {},
   "outputs": [],
   "source": []
  },
  {
   "cell_type": "code",
   "execution_count": null,
   "metadata": {},
   "outputs": [],
   "source": []
  },
  {
   "cell_type": "code",
   "execution_count": null,
   "metadata": {},
   "outputs": [],
   "source": []
  },
  {
   "cell_type": "code",
   "execution_count": null,
   "metadata": {},
   "outputs": [],
   "source": []
  },
  {
   "cell_type": "code",
   "execution_count": null,
   "metadata": {},
   "outputs": [],
   "source": []
  },
  {
   "cell_type": "markdown",
   "metadata": {},
   "source": [
    "# EDA"
   ]
  },
  {
   "cell_type": "code",
   "execution_count": 414,
   "metadata": {},
   "outputs": [
    {
     "data": {
      "text/plain": [
       "AttendingPhysician       object\n",
       "BeneID                   object\n",
       "ClaimID                  object\n",
       "ClmAdmitDiagnosisCode    object\n",
       "ClmDiagnosisCode_1       object\n",
       "ClmDiagnosisCode_2       object\n",
       "ClmDiagnosisCode_3       object\n",
       "ClmDiagnosisCode_4       object\n",
       "ClmDiagnosisCode_5       object\n",
       "ClmDiagnosisCode_6       object\n",
       "ClmDiagnosisCode_7       object\n",
       "DiagnosisGroupCode       object\n",
       "OperatingPhysician       object\n",
       "OtherPhysician           object\n",
       "Provider                 object\n",
       "RenalDiseaseIndicator    object\n",
       "PotentialFraud           object\n",
       "dtype: object"
      ]
     },
     "execution_count": 414,
     "metadata": {},
     "output_type": "execute_result"
    }
   ],
   "source": [
    "# Filter and display only final_data .dtypes that are 'object'\n",
    "final_data.dtypes[final_data.dtypes == 'object']"
   ]
  },
  {
   "cell_type": "code",
   "execution_count": 415,
   "metadata": {},
   "outputs": [
    {
     "name": "stdout",
     "output_type": "stream",
     "text": [
      "AttendingPhysician\n",
      "BeneID\n",
      "ClaimID\n",
      "ClmAdmitDiagnosisCode\n",
      "ClmDiagnosisCode_1\n",
      "ClmDiagnosisCode_2\n",
      "ClmDiagnosisCode_3\n",
      "ClmDiagnosisCode_4\n",
      "ClmDiagnosisCode_5\n",
      "ClmDiagnosisCode_6\n",
      "ClmDiagnosisCode_7\n",
      "DiagnosisGroupCode\n",
      "OperatingPhysician\n",
      "OtherPhysician\n",
      "Provider\n",
      "RenalDiseaseIndicator\n",
      "PotentialFraud\n"
     ]
    }
   ],
   "source": [
    "# Loop through categorical feature names and print each one\n",
    "for feature in final_data.dtypes[final_data.dtypes == 'object'].index:\n",
    "    print(feature)"
   ]
  },
  {
   "cell_type": "code",
   "execution_count": 416,
   "metadata": {},
   "outputs": [
    {
     "data": {
      "text/html": [
       "<div>\n",
       "<style scoped>\n",
       "    .dataframe tbody tr th:only-of-type {\n",
       "        vertical-align: middle;\n",
       "    }\n",
       "\n",
       "    .dataframe tbody tr th {\n",
       "        vertical-align: top;\n",
       "    }\n",
       "\n",
       "    .dataframe thead th {\n",
       "        text-align: right;\n",
       "    }\n",
       "</style>\n",
       "<table border=\"1\" class=\"dataframe\">\n",
       "  <thead>\n",
       "    <tr style=\"text-align: right;\">\n",
       "      <th></th>\n",
       "      <th>AttendingPhysician</th>\n",
       "      <th>BeneID</th>\n",
       "      <th>ClaimID</th>\n",
       "      <th>ClmAdmitDiagnosisCode</th>\n",
       "      <th>ClmDiagnosisCode_1</th>\n",
       "      <th>ClmDiagnosisCode_2</th>\n",
       "      <th>ClmDiagnosisCode_3</th>\n",
       "      <th>ClmDiagnosisCode_4</th>\n",
       "      <th>ClmDiagnosisCode_5</th>\n",
       "      <th>ClmDiagnosisCode_6</th>\n",
       "      <th>ClmDiagnosisCode_7</th>\n",
       "      <th>DiagnosisGroupCode</th>\n",
       "      <th>OperatingPhysician</th>\n",
       "      <th>OtherPhysician</th>\n",
       "      <th>Provider</th>\n",
       "      <th>RenalDiseaseIndicator</th>\n",
       "      <th>PotentialFraud</th>\n",
       "    </tr>\n",
       "  </thead>\n",
       "  <tbody>\n",
       "    <tr>\n",
       "      <th>count</th>\n",
       "      <td>556703</td>\n",
       "      <td>558211</td>\n",
       "      <td>558211</td>\n",
       "      <td>145899</td>\n",
       "      <td>547758</td>\n",
       "      <td>362605</td>\n",
       "      <td>243055</td>\n",
       "      <td>164536</td>\n",
       "      <td>111924</td>\n",
       "      <td>84392</td>\n",
       "      <td>66177</td>\n",
       "      <td>558211</td>\n",
       "      <td>114447</td>\n",
       "      <td>199736</td>\n",
       "      <td>558211</td>\n",
       "      <td>558211</td>\n",
       "      <td>558211</td>\n",
       "    </tr>\n",
       "    <tr>\n",
       "      <th>unique</th>\n",
       "      <td>82063</td>\n",
       "      <td>138556</td>\n",
       "      <td>558211</td>\n",
       "      <td>4098</td>\n",
       "      <td>10450</td>\n",
       "      <td>5300</td>\n",
       "      <td>4756</td>\n",
       "      <td>4359</td>\n",
       "      <td>3970</td>\n",
       "      <td>3607</td>\n",
       "      <td>3388</td>\n",
       "      <td>737</td>\n",
       "      <td>35315</td>\n",
       "      <td>46457</td>\n",
       "      <td>5410</td>\n",
       "      <td>2</td>\n",
       "      <td>2</td>\n",
       "    </tr>\n",
       "    <tr>\n",
       "      <th>top</th>\n",
       "      <td>PHY330576</td>\n",
       "      <td>BENE118316</td>\n",
       "      <td>CLM178666</td>\n",
       "      <td>V7612</td>\n",
       "      <td>4019</td>\n",
       "      <td>4019</td>\n",
       "      <td>4019</td>\n",
       "      <td>4019</td>\n",
       "      <td>4019</td>\n",
       "      <td>4019</td>\n",
       "      <td>4019</td>\n",
       "      <td>0</td>\n",
       "      <td>PHY330576</td>\n",
       "      <td>PHY412132</td>\n",
       "      <td>PRV51459</td>\n",
       "      <td>0</td>\n",
       "      <td>No</td>\n",
       "    </tr>\n",
       "    <tr>\n",
       "      <th>freq</th>\n",
       "      <td>2534</td>\n",
       "      <td>29</td>\n",
       "      <td>1</td>\n",
       "      <td>4074</td>\n",
       "      <td>13886</td>\n",
       "      <td>22378</td>\n",
       "      <td>14408</td>\n",
       "      <td>9188</td>\n",
       "      <td>6005</td>\n",
       "      <td>4170</td>\n",
       "      <td>3014</td>\n",
       "      <td>517737</td>\n",
       "      <td>424</td>\n",
       "      <td>1247</td>\n",
       "      <td>8240</td>\n",
       "      <td>448363</td>\n",
       "      <td>345415</td>\n",
       "    </tr>\n",
       "  </tbody>\n",
       "</table>\n",
       "</div>"
      ],
      "text/plain": [
       "       AttendingPhysician      BeneID    ClaimID ClmAdmitDiagnosisCode  \\\n",
       "count              556703      558211     558211                145899   \n",
       "unique              82063      138556     558211                  4098   \n",
       "top             PHY330576  BENE118316  CLM178666                 V7612   \n",
       "freq                 2534          29          1                  4074   \n",
       "\n",
       "       ClmDiagnosisCode_1 ClmDiagnosisCode_2 ClmDiagnosisCode_3  \\\n",
       "count              547758             362605             243055   \n",
       "unique              10450               5300               4756   \n",
       "top                  4019               4019               4019   \n",
       "freq                13886              22378              14408   \n",
       "\n",
       "       ClmDiagnosisCode_4 ClmDiagnosisCode_5 ClmDiagnosisCode_6  \\\n",
       "count              164536             111924              84392   \n",
       "unique               4359               3970               3607   \n",
       "top                  4019               4019               4019   \n",
       "freq                 9188               6005               4170   \n",
       "\n",
       "       ClmDiagnosisCode_7  DiagnosisGroupCode OperatingPhysician  \\\n",
       "count               66177              558211             114447   \n",
       "unique               3388                 737              35315   \n",
       "top                  4019                   0          PHY330576   \n",
       "freq                 3014              517737                424   \n",
       "\n",
       "       OtherPhysician  Provider RenalDiseaseIndicator PotentialFraud  \n",
       "count          199736    558211                558211         558211  \n",
       "unique          46457      5410                     2              2  \n",
       "top         PHY412132  PRV51459                     0             No  \n",
       "freq             1247      8240                448363         345415  "
      ]
     },
     "execution_count": 416,
     "metadata": {},
     "output_type": "execute_result"
    }
   ],
   "source": [
    "# Summarize categorical features\n",
    "final_data.describe(include=['object'])"
   ]
  },
  {
   "cell_type": "code",
   "execution_count": 418,
   "metadata": {},
   "outputs": [
    {
     "data": {
      "text/plain": [
       "<matplotlib.axes._subplots.AxesSubplot at 0x210d6143fd0>"
      ]
     },
     "execution_count": 418,
     "metadata": {},
     "output_type": "execute_result"
    },
    {
     "data": {
      "image/png": "[encoded data removed]",
      "text/plain": [
       "<Figure size 432x288 with 1 Axes>"
      ]
     },
     "metadata": {
      "needs_background": "light"
     },
     "output_type": "display_data"
    }
   ],
   "source": [
    "# To view the \n",
    "import seaborn as sns\n",
    "\n",
    "sns.countplot(y='PotentialFraud', data=final_data)"
   ]
  },
  {
   "cell_type": "code",
   "execution_count": 419,
   "metadata": {},
   "outputs": [
    {
     "data": {
      "text/plain": [
       "<matplotlib.axes._subplots.AxesSubplot at 0x210cd4a0c18>"
      ]
     },
     "execution_count": 419,
     "metadata": {},
     "output_type": "execute_result"
    },
    {
     "data": {
      "image/png": "[encoded data removed]",
      "text/plain": [
       "<Figure size 432x288 with 1 Axes>"
      ]
     },
     "metadata": {
      "needs_background": "light"
     },
     "output_type": "display_data"
    }
   ],
   "source": [
    "#sns.countplot(y='AttendingPhysician', data=final_data)"
   ]
  },
  {
   "cell_type": "code",
   "execution_count": null,
   "metadata": {},
   "outputs": [],
   "source": [
    "ipdata, opdata,benfidata"
   ]
  },
  {
   "cell_type": "code",
   "execution_count": 432,
   "metadata": {},
   "outputs": [],
   "source": [
    "ip_benfi = pd.merge(left = ipdata,right = benfidata, how = 'inner', on = 'BeneID')"
   ]
  },
  {
   "cell_type": "code",
   "execution_count": 433,
   "metadata": {},
   "outputs": [],
   "source": [
    "op_benfi = pd.merge(left = opdata,right = benfidata, how = 'inner', on = 'BeneID')"
   ]
  },
  {
   "cell_type": "code",
   "execution_count": 434,
   "metadata": {},
   "outputs": [
    {
     "data": {
      "text/plain": [
       "(40474, 51)"
      ]
     },
     "execution_count": 434,
     "metadata": {},
     "output_type": "execute_result"
    }
   ],
   "source": [
    "ip_benfi.shape"
   ]
  },
  {
   "cell_type": "code",
   "execution_count": 443,
   "metadata": {},
   "outputs": [],
   "source": [
    "#ip_benfi ,traindata (Provider)\n",
    "train_ip_final = pd.merge(left = ip_benfi,right = traindata, on ='Provider', how= 'inner')\n",
    "#ip_benfi ,traindata (Provider)\n",
    "train_op_final = pd.merge(left = op_benfi,right = traindata, on ='Provider', how= 'inner')"
   ]
  },
  {
   "cell_type": "code",
   "execution_count": 445,
   "metadata": {},
   "outputs": [
    {
     "data": {
      "text/plain": [
       "((40474, 52), (517737, 52))"
      ]
     },
     "execution_count": 445,
     "metadata": {},
     "output_type": "execute_result"
    }
   ],
   "source": [
    "train_ip_final.shape, train_op_final.shape"
   ]
  },
  {
   "cell_type": "code",
   "execution_count": 436,
   "metadata": {},
   "outputs": [
    {
     "data": {
      "text/plain": [
       "(517737, 51)"
      ]
     },
     "execution_count": 436,
     "metadata": {},
     "output_type": "execute_result"
    }
   ],
   "source": [
    "op_benfi.shape"
   ]
  },
  {
   "cell_type": "code",
   "execution_count": 446,
   "metadata": {},
   "outputs": [
    {
     "data": {
      "text/plain": [
       "array(['Yes', 'No'], dtype=object)"
      ]
     },
     "execution_count": 446,
     "metadata": {},
     "output_type": "execute_result"
    }
   ],
   "source": [
    "train_ip_final.PotentialFraud.unique()"
   ]
  },
  {
   "cell_type": "code",
   "execution_count": 448,
   "metadata": {},
   "outputs": [
    {
     "data": {
      "text/plain": [
       "BeneID                             23402\n",
       "ClaimID                            23402\n",
       "Provider                           23402\n",
       "InscClaimAmtReimbursed             23402\n",
       "AttendingPhysician                 23345\n",
       "OperatingPhysician                 13824\n",
       "OtherPhysician                      2271\n",
       "ClmAdmitDiagnosisCode              23402\n",
       "DeductibleAmtPaid                  22894\n",
       "DiagnosisGroupCode                 23402\n",
       "ClmDiagnosisCode_1                 23402\n",
       "ClmDiagnosisCode_2                 23270\n",
       "ClmDiagnosisCode_3                 23005\n",
       "ClmDiagnosisCode_4                 22499\n",
       "ClmDiagnosisCode_5                 21714\n",
       "ClmDiagnosisCode_6                 20588\n",
       "ClmDiagnosisCode_7                 19206\n",
       "ClmDiagnosisCode_8                 17710\n",
       "ClmDiagnosisCode_9                 15666\n",
       "ClmDiagnosisCode_10                 2269\n",
       "ClmProcedureCode_1                 13455\n",
       "ClmProcedureCode_2                  3229\n",
       "ClmProcedureCode_3                   560\n",
       "ClmProcedureCode_4                    75\n",
       "ClmProcedureCode_5                     6\n",
       "ClmProcedureCode_6                     0\n",
       "DaysInHospital                     23402\n",
       "ClaimTenure                        23402\n",
       "Gender                             23402\n",
       "Race                               23402\n",
       "RenalDiseaseIndicator              23402\n",
       "State                              23402\n",
       "County                             23402\n",
       "NoOfMonths_PartACov                23402\n",
       "NoOfMonths_PartBCov                23402\n",
       "ChronicCond_Alzheimer              23402\n",
       "ChronicCond_Heartfailure           23402\n",
       "ChronicCond_KidneyDisease          23402\n",
       "ChronicCond_Cancer                 23402\n",
       "ChronicCond_ObstrPulmonary         23402\n",
       "ChronicCond_Depression             23402\n",
       "ChronicCond_Diabetes               23402\n",
       "ChronicCond_IschemicHeart          23402\n",
       "ChronicCond_Osteoporasis           23402\n",
       "ChronicCond_rheumatoidarthritis    23402\n",
       "ChronicCond_stroke                 23402\n",
       "IPAnnualReimbursementAmt           23402\n",
       "IPAnnualDeductibleAmt              23402\n",
       "OPAnnualReimbursementAmt           23402\n",
       "OPAnnualDeductibleAmt              23402\n",
       "age                                23402\n",
       "PotentialFraud                     23402\n",
       "dtype: int64"
      ]
     },
     "execution_count": 448,
     "metadata": {},
     "output_type": "execute_result"
    }
   ],
   "source": [
    "train_ip_final[train_ip_final['PotentialFraud'] =='Yes' ].count() "
   ]
  },
  {
   "cell_type": "code",
   "execution_count": 449,
   "metadata": {},
   "outputs": [
    {
     "data": {
      "text/plain": [
       "BeneID                             189394\n",
       "ClaimID                            189394\n",
       "Provider                           189394\n",
       "InscClaimAmtReimbursed             189394\n",
       "AttendingPhysician                 188887\n",
       "OperatingPhysician                  33126\n",
       "OtherPhysician                      72372\n",
       "ClmDiagnosisCode_1                 185559\n",
       "ClmDiagnosisCode_2                 118059\n",
       "ClmDiagnosisCode_3                  74205\n",
       "ClmDiagnosisCode_4                  45821\n",
       "ClmDiagnosisCode_5                  27126\n",
       "ClmDiagnosisCode_6                  17762\n",
       "ClmDiagnosisCode_7                  12064\n",
       "ClmDiagnosisCode_8                   8398\n",
       "ClmDiagnosisCode_9                   5451\n",
       "ClmDiagnosisCode_10                   424\n",
       "ClmProcedureCode_1                     69\n",
       "ClmProcedureCode_2                     17\n",
       "ClmProcedureCode_3                      3\n",
       "ClmProcedureCode_4                      1\n",
       "ClmProcedureCode_5                      0\n",
       "ClmProcedureCode_6                      0\n",
       "DeductibleAmtPaid                  189394\n",
       "ClmAdmitDiagnosisCode               38647\n",
       "ClaimTenure                        189394\n",
       "DaysInHospital                     189394\n",
       "DiagnosisGroupCode                 189394\n",
       "Gender                             189394\n",
       "Race                               189394\n",
       "RenalDiseaseIndicator              189394\n",
       "State                              189394\n",
       "County                             189394\n",
       "NoOfMonths_PartACov                189394\n",
       "NoOfMonths_PartBCov                189394\n",
       "ChronicCond_Alzheimer              189394\n",
       "ChronicCond_Heartfailure           189394\n",
       "ChronicCond_KidneyDisease          189394\n",
       "ChronicCond_Cancer                 189394\n",
       "ChronicCond_ObstrPulmonary         189394\n",
       "ChronicCond_Depression             189394\n",
       "ChronicCond_Diabetes               189394\n",
       "ChronicCond_IschemicHeart          189394\n",
       "ChronicCond_Osteoporasis           189394\n",
       "ChronicCond_rheumatoidarthritis    189394\n",
       "ChronicCond_stroke                 189394\n",
       "IPAnnualReimbursementAmt           189394\n",
       "IPAnnualDeductibleAmt              189394\n",
       "OPAnnualReimbursementAmt           189394\n",
       "OPAnnualDeductibleAmt              189394\n",
       "age                                189394\n",
       "PotentialFraud                     189394\n",
       "dtype: int64"
      ]
     },
     "execution_count": 449,
     "metadata": {},
     "output_type": "execute_result"
    }
   ],
   "source": [
    "train_op_final[train_op_final['PotentialFraud'] =='Yes' ].count() "
   ]
  },
  {
   "cell_type": "code",
   "execution_count": 450,
   "metadata": {},
   "outputs": [
    {
     "data": {
      "text/plain": [
       "BeneID                             40474\n",
       "ClaimID                            40474\n",
       "Provider                           40474\n",
       "InscClaimAmtReimbursed             40474\n",
       "AttendingPhysician                 40362\n",
       "OperatingPhysician                 23830\n",
       "OtherPhysician                      4690\n",
       "ClmAdmitDiagnosisCode              40474\n",
       "DeductibleAmtPaid                  39575\n",
       "DiagnosisGroupCode                 40474\n",
       "ClmDiagnosisCode_1                 40474\n",
       "ClmDiagnosisCode_2                 40248\n",
       "ClmDiagnosisCode_3                 39798\n",
       "ClmDiagnosisCode_4                 38940\n",
       "ClmDiagnosisCode_5                 37580\n",
       "ClmDiagnosisCode_6                 35636\n",
       "ClmDiagnosisCode_7                 33216\n",
       "ClmDiagnosisCode_8                 30532\n",
       "ClmDiagnosisCode_9                 26977\n",
       "ClmDiagnosisCode_10                 3927\n",
       "ClmProcedureCode_1                 23148\n",
       "ClmProcedureCode_2                  5454\n",
       "ClmProcedureCode_3                   965\n",
       "ClmProcedureCode_4                   116\n",
       "ClmProcedureCode_5                     9\n",
       "ClmProcedureCode_6                     0\n",
       "DaysInHospital                     40474\n",
       "ClaimTenure                        40474\n",
       "Gender                             40474\n",
       "Race                               40474\n",
       "RenalDiseaseIndicator              40474\n",
       "State                              40474\n",
       "County                             40474\n",
       "NoOfMonths_PartACov                40474\n",
       "NoOfMonths_PartBCov                40474\n",
       "ChronicCond_Alzheimer              40474\n",
       "ChronicCond_Heartfailure           40474\n",
       "ChronicCond_KidneyDisease          40474\n",
       "ChronicCond_Cancer                 40474\n",
       "ChronicCond_ObstrPulmonary         40474\n",
       "ChronicCond_Depression             40474\n",
       "ChronicCond_Diabetes               40474\n",
       "ChronicCond_IschemicHeart          40474\n",
       "ChronicCond_Osteoporasis           40474\n",
       "ChronicCond_rheumatoidarthritis    40474\n",
       "ChronicCond_stroke                 40474\n",
       "IPAnnualReimbursementAmt           40474\n",
       "IPAnnualDeductibleAmt              40474\n",
       "OPAnnualReimbursementAmt           40474\n",
       "OPAnnualDeductibleAmt              40474\n",
       "age                                40474\n",
       "PotentialFraud                     40474\n",
       "dtype: int64"
      ]
     },
     "execution_count": 450,
     "metadata": {},
     "output_type": "execute_result"
    }
   ],
   "source": [
    "train_ip_final.count()"
   ]
  },
  {
   "cell_type": "code",
   "execution_count": 451,
   "metadata": {},
   "outputs": [
    {
     "data": {
      "text/plain": [
       "BeneID                             517737\n",
       "ClaimID                            517737\n",
       "Provider                           517737\n",
       "InscClaimAmtReimbursed             517737\n",
       "AttendingPhysician                 516341\n",
       "OperatingPhysician                  90617\n",
       "OtherPhysician                     195046\n",
       "ClmDiagnosisCode_1                 507284\n",
       "ClmDiagnosisCode_2                 322357\n",
       "ClmDiagnosisCode_3                 203257\n",
       "ClmDiagnosisCode_4                 125596\n",
       "ClmDiagnosisCode_5                  74344\n",
       "ClmDiagnosisCode_6                  48756\n",
       "ClmDiagnosisCode_7                  32961\n",
       "ClmDiagnosisCode_8                  22912\n",
       "ClmDiagnosisCode_9                  14838\n",
       "ClmDiagnosisCode_10                  1083\n",
       "ClmProcedureCode_1                    162\n",
       "ClmProcedureCode_2                     36\n",
       "ClmProcedureCode_3                      4\n",
       "ClmProcedureCode_4                      2\n",
       "ClmProcedureCode_5                      0\n",
       "ClmProcedureCode_6                      0\n",
       "DeductibleAmtPaid                  517737\n",
       "ClmAdmitDiagnosisCode              105425\n",
       "ClaimTenure                        517737\n",
       "DaysInHospital                     517737\n",
       "DiagnosisGroupCode                 517737\n",
       "Gender                             517737\n",
       "Race                               517737\n",
       "RenalDiseaseIndicator              517737\n",
       "State                              517737\n",
       "County                             517737\n",
       "NoOfMonths_PartACov                517737\n",
       "NoOfMonths_PartBCov                517737\n",
       "ChronicCond_Alzheimer              517737\n",
       "ChronicCond_Heartfailure           517737\n",
       "ChronicCond_KidneyDisease          517737\n",
       "ChronicCond_Cancer                 517737\n",
       "ChronicCond_ObstrPulmonary         517737\n",
       "ChronicCond_Depression             517737\n",
       "ChronicCond_Diabetes               517737\n",
       "ChronicCond_IschemicHeart          517737\n",
       "ChronicCond_Osteoporasis           517737\n",
       "ChronicCond_rheumatoidarthritis    517737\n",
       "ChronicCond_stroke                 517737\n",
       "IPAnnualReimbursementAmt           517737\n",
       "IPAnnualDeductibleAmt              517737\n",
       "OPAnnualReimbursementAmt           517737\n",
       "OPAnnualDeductibleAmt              517737\n",
       "age                                517737\n",
       "PotentialFraud                     517737\n",
       "dtype: int64"
      ]
     },
     "execution_count": 451,
     "metadata": {},
     "output_type": "execute_result"
    }
   ],
   "source": [
    "train_op_final.count()"
   ]
  },
  {
   "cell_type": "code",
   "execution_count": null,
   "metadata": {},
   "outputs": [],
   "source": [
    "train_ip_final[ClmDiagnosisCode_1"
   ]
  },
  {
   "cell_type": "code",
   "execution_count": 458,
   "metadata": {},
   "outputs": [
    {
     "name": "stdout",
     "output_type": "stream",
     "text": [
      "ClmDiagnosisCode_1 2254\n",
      "ClmDiagnosisCode_2 2440\n",
      "ClmDiagnosisCode_3 2428\n",
      "ClmDiagnosisCode_4 2442\n",
      "ClmDiagnosisCode_5 2375\n",
      "ClmDiagnosisCode_6 2359\n",
      "ClmDiagnosisCode_7 2311\n",
      "ClmDiagnosisCode_8 2244\n",
      "ClmDiagnosisCode_9 2095\n",
      "ClmDiagnosisCode_10 953\n"
     ]
    }
   ],
   "source": [
    "for column in train_ip_final.columns:\n",
    "    if column.startswith('ClmDiagnosisCode'):\n",
    "        print(column,len(train_ip_final[column].unique()))"
   ]
  },
  {
   "cell_type": "code",
   "execution_count": null,
   "metadata": {},
   "outputs": [],
   "source": []
  },
  {
   "cell_type": "code",
   "execution_count": 459,
   "metadata": {},
   "outputs": [
    {
     "data": {
      "text/plain": [
       "(440,)"
      ]
     },
     "execution_count": 459,
     "metadata": {},
     "output_type": "execute_result"
    }
   ],
   "source": [
    "train_ip_final[train_ip_final['PotentialFraud'] == 'Yes']['Provider'].unique().shape"
   ]
  },
  {
   "cell_type": "code",
   "execution_count": 460,
   "metadata": {},
   "outputs": [
    {
     "data": {
      "text/plain": [
       "(462,)"
      ]
     },
     "execution_count": 460,
     "metadata": {},
     "output_type": "execute_result"
    }
   ],
   "source": [
    "train_op_final[train_op_final['PotentialFraud'] == 'Yes']['Provider'].unique().shape"
   ]
  },
  {
   "cell_type": "code",
   "execution_count": null,
   "metadata": {},
   "outputs": [],
   "source": []
  },
  {
   "cell_type": "code",
   "execution_count": 466,
   "metadata": {},
   "outputs": [],
   "source": [
    "ip_prov_fraud = pd.DataFrame(train_ip_final[train_ip_final['PotentialFraud'] == 'Yes']['Provider'].unique(),columns = ['ip_fraud_prov'])"
   ]
  },
  {
   "cell_type": "code",
   "execution_count": 468,
   "metadata": {},
   "outputs": [],
   "source": [
    "op_prov_fraud = pd.DataFrame(train_op_final[train_op_final['PotentialFraud'] == 'Yes']['Provider'].unique(),columns = ['op_fraud_prov'])"
   ]
  },
  {
   "cell_type": "code",
   "execution_count": 469,
   "metadata": {},
   "outputs": [
    {
     "data": {
      "text/html": [
       "<div>\n",
       "<style scoped>\n",
       "    .dataframe tbody tr th:only-of-type {\n",
       "        vertical-align: middle;\n",
       "    }\n",
       "\n",
       "    .dataframe tbody tr th {\n",
       "        vertical-align: top;\n",
       "    }\n",
       "\n",
       "    .dataframe thead th {\n",
       "        text-align: right;\n",
       "    }\n",
       "</style>\n",
       "<table border=\"1\" class=\"dataframe\">\n",
       "  <thead>\n",
       "    <tr style=\"text-align: right;\">\n",
       "      <th></th>\n",
       "      <th>op_fraud_prov</th>\n",
       "    </tr>\n",
       "  </thead>\n",
       "  <tbody>\n",
       "    <tr>\n",
       "      <th>0</th>\n",
       "      <td>PRV56011</td>\n",
       "    </tr>\n",
       "    <tr>\n",
       "      <th>1</th>\n",
       "      <td>PRV55951</td>\n",
       "    </tr>\n",
       "    <tr>\n",
       "      <th>2</th>\n",
       "      <td>PRV53918</td>\n",
       "    </tr>\n",
       "    <tr>\n",
       "      <th>3</th>\n",
       "      <td>PRV55172</td>\n",
       "    </tr>\n",
       "    <tr>\n",
       "      <th>4</th>\n",
       "      <td>PRV55225</td>\n",
       "    </tr>\n",
       "  </tbody>\n",
       "</table>\n",
       "</div>"
      ],
      "text/plain": [
       "  op_fraud_prov\n",
       "0      PRV56011\n",
       "1      PRV55951\n",
       "2      PRV53918\n",
       "3      PRV55172\n",
       "4      PRV55225"
      ]
     },
     "execution_count": 469,
     "metadata": {},
     "output_type": "execute_result"
    }
   ],
   "source": [
    "op_prov_fraud.head()"
   ]
  },
  {
   "cell_type": "code",
   "execution_count": 472,
   "metadata": {},
   "outputs": [],
   "source": [
    "prov_fr_1 = pd.merge(left=ip_prov_fraud, right = op_prov_fraud, left_on = 'ip_fraud_prov',right_on = 'op_fraud_prov', how = 'outer',indicator = True)"
   ]
  },
  {
   "cell_type": "code",
   "execution_count": 473,
   "metadata": {},
   "outputs": [
    {
     "data": {
      "text/plain": [
       "ip_fraud_prov    396\n",
       "op_fraud_prov    396\n",
       "_merge           396\n",
       "dtype: int64"
      ]
     },
     "execution_count": 473,
     "metadata": {},
     "output_type": "execute_result"
    }
   ],
   "source": [
    "prov_fr_1[prov_fr_1['_merge']=='both'].count()"
   ]
  },
  {
   "cell_type": "code",
   "execution_count": null,
   "metadata": {},
   "outputs": [],
   "source": []
  },
  {
   "cell_type": "code",
   "execution_count": 474,
   "metadata": {},
   "outputs": [
    {
     "data": {
      "text/plain": [
       "0      1970\n",
       "1      4240\n",
       "2     V5789\n",
       "3     71535\n",
       "4      2330\n",
       "5      1623\n",
       "6      3501\n",
       "7     V5789\n",
       "8      4280\n",
       "9      5579\n",
       "10    49322\n",
       "11     6820\n",
       "12     4580\n",
       "13    41041\n",
       "14    78097\n",
       "15    03843\n",
       "16     4558\n",
       "17      486\n",
       "18    53440\n",
       "19    41011\n",
       "Name: ClmDiagnosisCode_1, dtype: object"
      ]
     },
     "execution_count": 474,
     "metadata": {},
     "output_type": "execute_result"
    }
   ],
   "source": [
    "train_ip_final['ClmDiagnosisCode_1'].head(20)"
   ]
  },
  {
   "cell_type": "code",
   "execution_count": 475,
   "metadata": {},
   "outputs": [
    {
     "data": {
      "text/html": [
       "<div>\n",
       "<style scoped>\n",
       "    .dataframe tbody tr th:only-of-type {\n",
       "        vertical-align: middle;\n",
       "    }\n",
       "\n",
       "    .dataframe tbody tr th {\n",
       "        vertical-align: top;\n",
       "    }\n",
       "\n",
       "    .dataframe thead th {\n",
       "        text-align: right;\n",
       "    }\n",
       "</style>\n",
       "<table border=\"1\" class=\"dataframe\">\n",
       "  <thead>\n",
       "    <tr style=\"text-align: right;\">\n",
       "      <th></th>\n",
       "      <th>BeneID</th>\n",
       "      <th>ClaimID</th>\n",
       "      <th>Provider</th>\n",
       "      <th>InscClaimAmtReimbursed</th>\n",
       "      <th>AttendingPhysician</th>\n",
       "      <th>OperatingPhysician</th>\n",
       "      <th>OtherPhysician</th>\n",
       "      <th>ClmAdmitDiagnosisCode</th>\n",
       "      <th>DeductibleAmtPaid</th>\n",
       "      <th>DiagnosisGroupCode</th>\n",
       "      <th>...</th>\n",
       "      <th>ChronicCond_IschemicHeart</th>\n",
       "      <th>ChronicCond_Osteoporasis</th>\n",
       "      <th>ChronicCond_rheumatoidarthritis</th>\n",
       "      <th>ChronicCond_stroke</th>\n",
       "      <th>IPAnnualReimbursementAmt</th>\n",
       "      <th>IPAnnualDeductibleAmt</th>\n",
       "      <th>OPAnnualReimbursementAmt</th>\n",
       "      <th>OPAnnualDeductibleAmt</th>\n",
       "      <th>age</th>\n",
       "      <th>PotentialFraud</th>\n",
       "    </tr>\n",
       "  </thead>\n",
       "  <tbody>\n",
       "    <tr>\n",
       "      <th>0</th>\n",
       "      <td>BENE11001</td>\n",
       "      <td>CLM46614</td>\n",
       "      <td>PRV55912</td>\n",
       "      <td>26000</td>\n",
       "      <td>PHY390922</td>\n",
       "      <td>NaN</td>\n",
       "      <td>NaN</td>\n",
       "      <td>7866</td>\n",
       "      <td>1068.0</td>\n",
       "      <td>201</td>\n",
       "      <td>...</td>\n",
       "      <td>1</td>\n",
       "      <td>2</td>\n",
       "      <td>1</td>\n",
       "      <td>1</td>\n",
       "      <td>36000</td>\n",
       "      <td>3204</td>\n",
       "      <td>60</td>\n",
       "      <td>70</td>\n",
       "      <td>66</td>\n",
       "      <td>Yes</td>\n",
       "    </tr>\n",
       "    <tr>\n",
       "      <th>1</th>\n",
       "      <td>BENE17521</td>\n",
       "      <td>CLM34721</td>\n",
       "      <td>PRV55912</td>\n",
       "      <td>19000</td>\n",
       "      <td>PHY349293</td>\n",
       "      <td>PHY370861</td>\n",
       "      <td>PHY363291</td>\n",
       "      <td>45340</td>\n",
       "      <td>1068.0</td>\n",
       "      <td>987</td>\n",
       "      <td>...</td>\n",
       "      <td>1</td>\n",
       "      <td>2</td>\n",
       "      <td>2</td>\n",
       "      <td>2</td>\n",
       "      <td>19000</td>\n",
       "      <td>1068</td>\n",
       "      <td>100</td>\n",
       "      <td>20</td>\n",
       "      <td>96</td>\n",
       "      <td>Yes</td>\n",
       "    </tr>\n",
       "    <tr>\n",
       "      <th>2</th>\n",
       "      <td>BENE21718</td>\n",
       "      <td>CLM72336</td>\n",
       "      <td>PRV55912</td>\n",
       "      <td>17000</td>\n",
       "      <td>PHY334706</td>\n",
       "      <td>PHY334706</td>\n",
       "      <td>NaN</td>\n",
       "      <td>V5789</td>\n",
       "      <td>1068.0</td>\n",
       "      <td>941</td>\n",
       "      <td>...</td>\n",
       "      <td>1</td>\n",
       "      <td>1</td>\n",
       "      <td>2</td>\n",
       "      <td>2</td>\n",
       "      <td>17000</td>\n",
       "      <td>1068</td>\n",
       "      <td>1050</td>\n",
       "      <td>540</td>\n",
       "      <td>87</td>\n",
       "      <td>Yes</td>\n",
       "    </tr>\n",
       "    <tr>\n",
       "      <th>3</th>\n",
       "      <td>BENE22934</td>\n",
       "      <td>CLM73394</td>\n",
       "      <td>PRV55912</td>\n",
       "      <td>13000</td>\n",
       "      <td>PHY390614</td>\n",
       "      <td>PHY323689</td>\n",
       "      <td>PHY363291</td>\n",
       "      <td>71946</td>\n",
       "      <td>1068.0</td>\n",
       "      <td>506</td>\n",
       "      <td>...</td>\n",
       "      <td>1</td>\n",
       "      <td>1</td>\n",
       "      <td>1</td>\n",
       "      <td>2</td>\n",
       "      <td>27000</td>\n",
       "      <td>2136</td>\n",
       "      <td>450</td>\n",
       "      <td>160</td>\n",
       "      <td>79</td>\n",
       "      <td>Yes</td>\n",
       "    </tr>\n",
       "    <tr>\n",
       "      <th>4</th>\n",
       "      <td>BENE24402</td>\n",
       "      <td>CLM32911</td>\n",
       "      <td>PRV55912</td>\n",
       "      <td>3000</td>\n",
       "      <td>PHY380413</td>\n",
       "      <td>PHY432598</td>\n",
       "      <td>NaN</td>\n",
       "      <td>1748</td>\n",
       "      <td>1068.0</td>\n",
       "      <td>593</td>\n",
       "      <td>...</td>\n",
       "      <td>1</td>\n",
       "      <td>2</td>\n",
       "      <td>2</td>\n",
       "      <td>2</td>\n",
       "      <td>3000</td>\n",
       "      <td>1068</td>\n",
       "      <td>8900</td>\n",
       "      <td>740</td>\n",
       "      <td>84</td>\n",
       "      <td>Yes</td>\n",
       "    </tr>\n",
       "    <tr>\n",
       "      <th>5</th>\n",
       "      <td>BENE28966</td>\n",
       "      <td>CLM56700</td>\n",
       "      <td>PRV55912</td>\n",
       "      <td>10000</td>\n",
       "      <td>PHY418191</td>\n",
       "      <td>PHY370861</td>\n",
       "      <td>NaN</td>\n",
       "      <td>5180</td>\n",
       "      <td>1068.0</td>\n",
       "      <td>184</td>\n",
       "      <td>...</td>\n",
       "      <td>1</td>\n",
       "      <td>2</td>\n",
       "      <td>2</td>\n",
       "      <td>2</td>\n",
       "      <td>10000</td>\n",
       "      <td>1068</td>\n",
       "      <td>550</td>\n",
       "      <td>190</td>\n",
       "      <td>75</td>\n",
       "      <td>Yes</td>\n",
       "    </tr>\n",
       "    <tr>\n",
       "      <th>6</th>\n",
       "      <td>BENE29251</td>\n",
       "      <td>CLM42062</td>\n",
       "      <td>PRV55912</td>\n",
       "      <td>18000</td>\n",
       "      <td>PHY318892</td>\n",
       "      <td>NaN</td>\n",
       "      <td>NaN</td>\n",
       "      <td>7231</td>\n",
       "      <td>1068.0</td>\n",
       "      <td>095</td>\n",
       "      <td>...</td>\n",
       "      <td>1</td>\n",
       "      <td>2</td>\n",
       "      <td>1</td>\n",
       "      <td>2</td>\n",
       "      <td>18000</td>\n",
       "      <td>1068</td>\n",
       "      <td>1440</td>\n",
       "      <td>520</td>\n",
       "      <td>50</td>\n",
       "      <td>Yes</td>\n",
       "    </tr>\n",
       "    <tr>\n",
       "      <th>7</th>\n",
       "      <td>BENE31905</td>\n",
       "      <td>CLM37729</td>\n",
       "      <td>PRV55912</td>\n",
       "      <td>13000</td>\n",
       "      <td>PHY319720</td>\n",
       "      <td>PHY392080</td>\n",
       "      <td>PHY380413</td>\n",
       "      <td>43491</td>\n",
       "      <td>1068.0</td>\n",
       "      <td>940</td>\n",
       "      <td>...</td>\n",
       "      <td>1</td>\n",
       "      <td>1</td>\n",
       "      <td>1</td>\n",
       "      <td>1</td>\n",
       "      <td>51320</td>\n",
       "      <td>6408</td>\n",
       "      <td>770</td>\n",
       "      <td>300</td>\n",
       "      <td>76</td>\n",
       "      <td>Yes</td>\n",
       "    </tr>\n",
       "    <tr>\n",
       "      <th>8</th>\n",
       "      <td>BENE31905</td>\n",
       "      <td>CLM49964</td>\n",
       "      <td>PRV55912</td>\n",
       "      <td>7000</td>\n",
       "      <td>PHY340849</td>\n",
       "      <td>NaN</td>\n",
       "      <td>NaN</td>\n",
       "      <td>78609</td>\n",
       "      <td>1068.0</td>\n",
       "      <td>248</td>\n",
       "      <td>...</td>\n",
       "      <td>1</td>\n",
       "      <td>1</td>\n",
       "      <td>1</td>\n",
       "      <td>1</td>\n",
       "      <td>51320</td>\n",
       "      <td>6408</td>\n",
       "      <td>770</td>\n",
       "      <td>300</td>\n",
       "      <td>76</td>\n",
       "      <td>Yes</td>\n",
       "    </tr>\n",
       "    <tr>\n",
       "      <th>9</th>\n",
       "      <td>BENE31905</td>\n",
       "      <td>CLM77968</td>\n",
       "      <td>PRV55912</td>\n",
       "      <td>7000</td>\n",
       "      <td>PHY410728</td>\n",
       "      <td>NaN</td>\n",
       "      <td>NaN</td>\n",
       "      <td>5781</td>\n",
       "      <td>1068.0</td>\n",
       "      <td>341</td>\n",
       "      <td>...</td>\n",
       "      <td>1</td>\n",
       "      <td>1</td>\n",
       "      <td>1</td>\n",
       "      <td>1</td>\n",
       "      <td>51320</td>\n",
       "      <td>6408</td>\n",
       "      <td>770</td>\n",
       "      <td>300</td>\n",
       "      <td>76</td>\n",
       "      <td>Yes</td>\n",
       "    </tr>\n",
       "    <tr>\n",
       "      <th>10</th>\n",
       "      <td>BENE31905</td>\n",
       "      <td>CLM80697</td>\n",
       "      <td>PRV55912</td>\n",
       "      <td>6000</td>\n",
       "      <td>PHY414999</td>\n",
       "      <td>PHY316408</td>\n",
       "      <td>NaN</td>\n",
       "      <td>78605</td>\n",
       "      <td>1068.0</td>\n",
       "      <td>199</td>\n",
       "      <td>...</td>\n",
       "      <td>1</td>\n",
       "      <td>1</td>\n",
       "      <td>1</td>\n",
       "      <td>1</td>\n",
       "      <td>51320</td>\n",
       "      <td>6408</td>\n",
       "      <td>770</td>\n",
       "      <td>300</td>\n",
       "      <td>76</td>\n",
       "      <td>Yes</td>\n",
       "    </tr>\n",
       "    <tr>\n",
       "      <th>11</th>\n",
       "      <td>BENE37685</td>\n",
       "      <td>CLM35228</td>\n",
       "      <td>PRV55912</td>\n",
       "      <td>7000</td>\n",
       "      <td>PHY414999</td>\n",
       "      <td>PHY344927</td>\n",
       "      <td>PHY315843</td>\n",
       "      <td>1749</td>\n",
       "      <td>1068.0</td>\n",
       "      <td>579</td>\n",
       "      <td>...</td>\n",
       "      <td>1</td>\n",
       "      <td>2</td>\n",
       "      <td>2</td>\n",
       "      <td>2</td>\n",
       "      <td>16000</td>\n",
       "      <td>3204</td>\n",
       "      <td>130</td>\n",
       "      <td>330</td>\n",
       "      <td>100</td>\n",
       "      <td>Yes</td>\n",
       "    </tr>\n",
       "    <tr>\n",
       "      <th>12</th>\n",
       "      <td>BENE37685</td>\n",
       "      <td>CLM78693</td>\n",
       "      <td>PRV55912</td>\n",
       "      <td>4000</td>\n",
       "      <td>PHY410835</td>\n",
       "      <td>PHY420290</td>\n",
       "      <td>PHY370067</td>\n",
       "      <td>7802</td>\n",
       "      <td>1068.0</td>\n",
       "      <td>218</td>\n",
       "      <td>...</td>\n",
       "      <td>1</td>\n",
       "      <td>2</td>\n",
       "      <td>2</td>\n",
       "      <td>2</td>\n",
       "      <td>16000</td>\n",
       "      <td>3204</td>\n",
       "      <td>130</td>\n",
       "      <td>330</td>\n",
       "      <td>100</td>\n",
       "      <td>Yes</td>\n",
       "    </tr>\n",
       "    <tr>\n",
       "      <th>13</th>\n",
       "      <td>BENE45976</td>\n",
       "      <td>CLM32244</td>\n",
       "      <td>PRV55912</td>\n",
       "      <td>10000</td>\n",
       "      <td>PHY361763</td>\n",
       "      <td>PHY323689</td>\n",
       "      <td>NaN</td>\n",
       "      <td>41071</td>\n",
       "      <td>1068.0</td>\n",
       "      <td>296</td>\n",
       "      <td>...</td>\n",
       "      <td>1</td>\n",
       "      <td>1</td>\n",
       "      <td>2</td>\n",
       "      <td>2</td>\n",
       "      <td>18680</td>\n",
       "      <td>3204</td>\n",
       "      <td>470</td>\n",
       "      <td>120</td>\n",
       "      <td>82</td>\n",
       "      <td>Yes</td>\n",
       "    </tr>\n",
       "    <tr>\n",
       "      <th>14</th>\n",
       "      <td>BENE46443</td>\n",
       "      <td>CLM57392</td>\n",
       "      <td>PRV55912</td>\n",
       "      <td>4000</td>\n",
       "      <td>PHY333901</td>\n",
       "      <td>NaN</td>\n",
       "      <td>NaN</td>\n",
       "      <td>79092</td>\n",
       "      <td>1068.0</td>\n",
       "      <td>950</td>\n",
       "      <td>...</td>\n",
       "      <td>1</td>\n",
       "      <td>2</td>\n",
       "      <td>1</td>\n",
       "      <td>1</td>\n",
       "      <td>12600</td>\n",
       "      <td>2136</td>\n",
       "      <td>130</td>\n",
       "      <td>30</td>\n",
       "      <td>81</td>\n",
       "      <td>Yes</td>\n",
       "    </tr>\n",
       "    <tr>\n",
       "      <th>15</th>\n",
       "      <td>BENE50078</td>\n",
       "      <td>CLM46288</td>\n",
       "      <td>PRV55912</td>\n",
       "      <td>10000</td>\n",
       "      <td>PHY393882</td>\n",
       "      <td>NaN</td>\n",
       "      <td>NaN</td>\n",
       "      <td>5990</td>\n",
       "      <td>1068.0</td>\n",
       "      <td>872</td>\n",
       "      <td>...</td>\n",
       "      <td>1</td>\n",
       "      <td>1</td>\n",
       "      <td>1</td>\n",
       "      <td>2</td>\n",
       "      <td>11600</td>\n",
       "      <td>1068</td>\n",
       "      <td>990</td>\n",
       "      <td>810</td>\n",
       "      <td>100</td>\n",
       "      <td>Yes</td>\n",
       "    </tr>\n",
       "    <tr>\n",
       "      <th>16</th>\n",
       "      <td>BENE50535</td>\n",
       "      <td>CLM66287</td>\n",
       "      <td>PRV55912</td>\n",
       "      <td>9000</td>\n",
       "      <td>PHY339551</td>\n",
       "      <td>PHY316408</td>\n",
       "      <td>NaN</td>\n",
       "      <td>5789</td>\n",
       "      <td>1068.0</td>\n",
       "      <td>368</td>\n",
       "      <td>...</td>\n",
       "      <td>1</td>\n",
       "      <td>2</td>\n",
       "      <td>2</td>\n",
       "      <td>2</td>\n",
       "      <td>29000</td>\n",
       "      <td>2136</td>\n",
       "      <td>0</td>\n",
       "      <td>0</td>\n",
       "      <td>85</td>\n",
       "      <td>Yes</td>\n",
       "    </tr>\n",
       "    <tr>\n",
       "      <th>17</th>\n",
       "      <td>BENE53240</td>\n",
       "      <td>CLM31596</td>\n",
       "      <td>PRV55912</td>\n",
       "      <td>29000</td>\n",
       "      <td>PHY354336</td>\n",
       "      <td>PHY420290</td>\n",
       "      <td>NaN</td>\n",
       "      <td>49121</td>\n",
       "      <td>1068.0</td>\n",
       "      <td>988</td>\n",
       "      <td>...</td>\n",
       "      <td>1</td>\n",
       "      <td>2</td>\n",
       "      <td>2</td>\n",
       "      <td>2</td>\n",
       "      <td>38000</td>\n",
       "      <td>2136</td>\n",
       "      <td>200</td>\n",
       "      <td>0</td>\n",
       "      <td>68</td>\n",
       "      <td>Yes</td>\n",
       "    </tr>\n",
       "    <tr>\n",
       "      <th>18</th>\n",
       "      <td>BENE53240</td>\n",
       "      <td>CLM44999</td>\n",
       "      <td>PRV55912</td>\n",
       "      <td>9000</td>\n",
       "      <td>PHY384397</td>\n",
       "      <td>PHY370861</td>\n",
       "      <td>NaN</td>\n",
       "      <td>5781</td>\n",
       "      <td>1068.0</td>\n",
       "      <td>358</td>\n",
       "      <td>...</td>\n",
       "      <td>1</td>\n",
       "      <td>2</td>\n",
       "      <td>2</td>\n",
       "      <td>2</td>\n",
       "      <td>38000</td>\n",
       "      <td>2136</td>\n",
       "      <td>200</td>\n",
       "      <td>0</td>\n",
       "      <td>68</td>\n",
       "      <td>Yes</td>\n",
       "    </tr>\n",
       "    <tr>\n",
       "      <th>19</th>\n",
       "      <td>BENE53373</td>\n",
       "      <td>CLM35318</td>\n",
       "      <td>PRV55912</td>\n",
       "      <td>10000</td>\n",
       "      <td>PHY416660</td>\n",
       "      <td>PHY401594</td>\n",
       "      <td>NaN</td>\n",
       "      <td>78650</td>\n",
       "      <td>1068.0</td>\n",
       "      <td>284</td>\n",
       "      <td>...</td>\n",
       "      <td>1</td>\n",
       "      <td>1</td>\n",
       "      <td>1</td>\n",
       "      <td>1</td>\n",
       "      <td>10000</td>\n",
       "      <td>1068</td>\n",
       "      <td>5860</td>\n",
       "      <td>1730</td>\n",
       "      <td>71</td>\n",
       "      <td>Yes</td>\n",
       "    </tr>\n",
       "  </tbody>\n",
       "</table>\n",
       "<p>20 rows × 52 columns</p>\n",
       "</div>"
      ],
      "text/plain": [
       "       BeneID   ClaimID  Provider  InscClaimAmtReimbursed AttendingPhysician  \\\n",
       "0   BENE11001  CLM46614  PRV55912                   26000          PHY390922   \n",
       "1   BENE17521  CLM34721  PRV55912                   19000          PHY349293   \n",
       "2   BENE21718  CLM72336  PRV55912                   17000          PHY334706   \n",
       "3   BENE22934  CLM73394  PRV55912                   13000          PHY390614   \n",
       "4   BENE24402  CLM32911  PRV55912                    3000          PHY380413   \n",
       "5   BENE28966  CLM56700  PRV55912                   10000          PHY418191   \n",
       "6   BENE29251  CLM42062  PRV55912                   18000          PHY318892   \n",
       "7   BENE31905  CLM37729  PRV55912                   13000          PHY319720   \n",
       "8   BENE31905  CLM49964  PRV55912                    7000          PHY340849   \n",
       "9   BENE31905  CLM77968  PRV55912                    7000          PHY410728   \n",
       "10  BENE31905  CLM80697  PRV55912                    6000          PHY414999   \n",
       "11  BENE37685  CLM35228  PRV55912                    7000          PHY414999   \n",
       "12  BENE37685  CLM78693  PRV55912                    4000          PHY410835   \n",
       "13  BENE45976  CLM32244  PRV55912                   10000          PHY361763   \n",
       "14  BENE46443  CLM57392  PRV55912                    4000          PHY333901   \n",
       "15  BENE50078  CLM46288  PRV55912                   10000          PHY393882   \n",
       "16  BENE50535  CLM66287  PRV55912                    9000          PHY339551   \n",
       "17  BENE53240  CLM31596  PRV55912                   29000          PHY354336   \n",
       "18  BENE53240  CLM44999  PRV55912                    9000          PHY384397   \n",
       "19  BENE53373  CLM35318  PRV55912                   10000          PHY416660   \n",
       "\n",
       "   OperatingPhysician OtherPhysician ClmAdmitDiagnosisCode  DeductibleAmtPaid  \\\n",
       "0                 NaN            NaN                  7866             1068.0   \n",
       "1           PHY370861      PHY363291                 45340             1068.0   \n",
       "2           PHY334706            NaN                 V5789             1068.0   \n",
       "3           PHY323689      PHY363291                 71946             1068.0   \n",
       "4           PHY432598            NaN                  1748             1068.0   \n",
       "5           PHY370861            NaN                  5180             1068.0   \n",
       "6                 NaN            NaN                  7231             1068.0   \n",
       "7           PHY392080      PHY380413                 43491             1068.0   \n",
       "8                 NaN            NaN                 78609             1068.0   \n",
       "9                 NaN            NaN                  5781             1068.0   \n",
       "10          PHY316408            NaN                 78605             1068.0   \n",
       "11          PHY344927      PHY315843                  1749             1068.0   \n",
       "12          PHY420290      PHY370067                  7802             1068.0   \n",
       "13          PHY323689            NaN                 41071             1068.0   \n",
       "14                NaN            NaN                 79092             1068.0   \n",
       "15                NaN            NaN                  5990             1068.0   \n",
       "16          PHY316408            NaN                  5789             1068.0   \n",
       "17          PHY420290            NaN                 49121             1068.0   \n",
       "18          PHY370861            NaN                  5781             1068.0   \n",
       "19          PHY401594            NaN                 78650             1068.0   \n",
       "\n",
       "   DiagnosisGroupCode      ...       ChronicCond_IschemicHeart  \\\n",
       "0                 201      ...                               1   \n",
       "1                 987      ...                               1   \n",
       "2                 941      ...                               1   \n",
       "3                 506      ...                               1   \n",
       "4                 593      ...                               1   \n",
       "5                 184      ...                               1   \n",
       "6                 095      ...                               1   \n",
       "7                 940      ...                               1   \n",
       "8                 248      ...                               1   \n",
       "9                 341      ...                               1   \n",
       "10                199      ...                               1   \n",
       "11                579      ...                               1   \n",
       "12                218      ...                               1   \n",
       "13                296      ...                               1   \n",
       "14                950      ...                               1   \n",
       "15                872      ...                               1   \n",
       "16                368      ...                               1   \n",
       "17                988      ...                               1   \n",
       "18                358      ...                               1   \n",
       "19                284      ...                               1   \n",
       "\n",
       "   ChronicCond_Osteoporasis ChronicCond_rheumatoidarthritis  \\\n",
       "0                         2                               1   \n",
       "1                         2                               2   \n",
       "2                         1                               2   \n",
       "3                         1                               1   \n",
       "4                         2                               2   \n",
       "5                         2                               2   \n",
       "6                         2                               1   \n",
       "7                         1                               1   \n",
       "8                         1                               1   \n",
       "9                         1                               1   \n",
       "10                        1                               1   \n",
       "11                        2                               2   \n",
       "12                        2                               2   \n",
       "13                        1                               2   \n",
       "14                        2                               1   \n",
       "15                        1                               1   \n",
       "16                        2                               2   \n",
       "17                        2                               2   \n",
       "18                        2                               2   \n",
       "19                        1                               1   \n",
       "\n",
       "   ChronicCond_stroke IPAnnualReimbursementAmt IPAnnualDeductibleAmt  \\\n",
       "0                   1                    36000                  3204   \n",
       "1                   2                    19000                  1068   \n",
       "2                   2                    17000                  1068   \n",
       "3                   2                    27000                  2136   \n",
       "4                   2                     3000                  1068   \n",
       "5                   2                    10000                  1068   \n",
       "6                   2                    18000                  1068   \n",
       "7                   1                    51320                  6408   \n",
       "8                   1                    51320                  6408   \n",
       "9                   1                    51320                  6408   \n",
       "10                  1                    51320                  6408   \n",
       "11                  2                    16000                  3204   \n",
       "12                  2                    16000                  3204   \n",
       "13                  2                    18680                  3204   \n",
       "14                  1                    12600                  2136   \n",
       "15                  2                    11600                  1068   \n",
       "16                  2                    29000                  2136   \n",
       "17                  2                    38000                  2136   \n",
       "18                  2                    38000                  2136   \n",
       "19                  1                    10000                  1068   \n",
       "\n",
       "   OPAnnualReimbursementAmt OPAnnualDeductibleAmt  age PotentialFraud  \n",
       "0                        60                    70   66            Yes  \n",
       "1                       100                    20   96            Yes  \n",
       "2                      1050                   540   87            Yes  \n",
       "3                       450                   160   79            Yes  \n",
       "4                      8900                   740   84            Yes  \n",
       "5                       550                   190   75            Yes  \n",
       "6                      1440                   520   50            Yes  \n",
       "7                       770                   300   76            Yes  \n",
       "8                       770                   300   76            Yes  \n",
       "9                       770                   300   76            Yes  \n",
       "10                      770                   300   76            Yes  \n",
       "11                      130                   330  100            Yes  \n",
       "12                      130                   330  100            Yes  \n",
       "13                      470                   120   82            Yes  \n",
       "14                      130                    30   81            Yes  \n",
       "15                      990                   810  100            Yes  \n",
       "16                        0                     0   85            Yes  \n",
       "17                      200                     0   68            Yes  \n",
       "18                      200                     0   68            Yes  \n",
       "19                     5860                  1730   71            Yes  \n",
       "\n",
       "[20 rows x 52 columns]"
      ]
     },
     "execution_count": 475,
     "metadata": {},
     "output_type": "execute_result"
    }
   ],
   "source": [
    "train_ip_final.head(20)"
   ]
  },
  {
   "cell_type": "code",
   "execution_count": 476,
   "metadata": {},
   "outputs": [
    {
     "data": {
      "text/html": [
       "<div>\n",
       "<style scoped>\n",
       "    .dataframe tbody tr th:only-of-type {\n",
       "        vertical-align: middle;\n",
       "    }\n",
       "\n",
       "    .dataframe tbody tr th {\n",
       "        vertical-align: top;\n",
       "    }\n",
       "\n",
       "    .dataframe thead th {\n",
       "        text-align: right;\n",
       "    }\n",
       "</style>\n",
       "<table border=\"1\" class=\"dataframe\">\n",
       "  <thead>\n",
       "    <tr style=\"text-align: right;\">\n",
       "      <th></th>\n",
       "      <th>ClmDiagnosisCode_1</th>\n",
       "      <th>ClmDiagnosisCode_2</th>\n",
       "    </tr>\n",
       "  </thead>\n",
       "  <tbody>\n",
       "    <tr>\n",
       "      <th>0</th>\n",
       "      <td>1970</td>\n",
       "      <td>4019</td>\n",
       "    </tr>\n",
       "    <tr>\n",
       "      <th>1</th>\n",
       "      <td>4240</td>\n",
       "      <td>2639</td>\n",
       "    </tr>\n",
       "    <tr>\n",
       "      <th>2</th>\n",
       "      <td>V5789</td>\n",
       "      <td>4168</td>\n",
       "    </tr>\n",
       "    <tr>\n",
       "      <th>3</th>\n",
       "      <td>71535</td>\n",
       "      <td>71960</td>\n",
       "    </tr>\n",
       "    <tr>\n",
       "      <th>4</th>\n",
       "      <td>2330</td>\n",
       "      <td>NaN</td>\n",
       "    </tr>\n",
       "  </tbody>\n",
       "</table>\n",
       "</div>"
      ],
      "text/plain": [
       "  ClmDiagnosisCode_1 ClmDiagnosisCode_2\n",
       "0               1970               4019\n",
       "1               4240               2639\n",
       "2              V5789               4168\n",
       "3              71535              71960\n",
       "4               2330                NaN"
      ]
     },
     "execution_count": 476,
     "metadata": {},
     "output_type": "execute_result"
    }
   ],
   "source": [
    "train_ip_final[['ClmDiagnosisCode_1','ClmDiagnosisCode_2']].head()"
   ]
  },
  {
   "cell_type": "code",
   "execution_count": null,
   "metadata": {},
   "outputs": [],
   "source": [
    "ClmDiagnosisCode_1 2254\n",
    "ClmDiagnosisCode_2 2440\n",
    "ClmDiagnosisCode_3 2428\n",
    "ClmDiagnosisCode_4 2442\n",
    "ClmDiagnosisCode_5 2375\n",
    "ClmDiagnosisCode_6 2359\n",
    "ClmDiagnosisCode_7 2311\n",
    "ClmDiagnosisCode_8 2244\n",
    "ClmDiagnosisCode_9 2095\n",
    "ClmDiagnosisCode_10 953"
   ]
  },
  {
   "cell_type": "code",
   "execution_count": null,
   "metadata": {},
   "outputs": [],
   "source": []
  },
  {
   "cell_type": "code",
   "execution_count": 477,
   "metadata": {},
   "outputs": [],
   "source": [
    "lis_1 = []\n",
    "for column in train_ip_final.columns:\n",
    "    if column.startswith('ClmDiagnosisCode'):\n",
    "        lis_1.append(pd.DataFrame(train_ip_final[column].unique(),columns = ['coln']))\n",
    "\n",
    "cont_df = pd.concat([tem_df for tem_df in lis_1])\n",
    "        \n",
    "        "
   ]
  },
  {
   "cell_type": "code",
   "execution_count": 479,
   "metadata": {},
   "outputs": [
    {
     "data": {
      "text/plain": [
       "(21901, 1)"
      ]
     },
     "execution_count": 479,
     "metadata": {},
     "output_type": "execute_result"
    }
   ],
   "source": [
    "cont_df.shape"
   ]
  },
  {
   "cell_type": "code",
   "execution_count": 478,
   "metadata": {},
   "outputs": [
    {
     "data": {
      "text/html": [
       "<div>\n",
       "<style scoped>\n",
       "    .dataframe tbody tr th:only-of-type {\n",
       "        vertical-align: middle;\n",
       "    }\n",
       "\n",
       "    .dataframe tbody tr th {\n",
       "        vertical-align: top;\n",
       "    }\n",
       "\n",
       "    .dataframe thead th {\n",
       "        text-align: right;\n",
       "    }\n",
       "</style>\n",
       "<table border=\"1\" class=\"dataframe\">\n",
       "  <thead>\n",
       "    <tr style=\"text-align: right;\">\n",
       "      <th></th>\n",
       "      <th>coln</th>\n",
       "    </tr>\n",
       "  </thead>\n",
       "  <tbody>\n",
       "    <tr>\n",
       "      <th>0</th>\n",
       "      <td>1970</td>\n",
       "    </tr>\n",
       "    <tr>\n",
       "      <th>1</th>\n",
       "      <td>4240</td>\n",
       "    </tr>\n",
       "    <tr>\n",
       "      <th>2</th>\n",
       "      <td>V5789</td>\n",
       "    </tr>\n",
       "    <tr>\n",
       "      <th>3</th>\n",
       "      <td>71535</td>\n",
       "    </tr>\n",
       "    <tr>\n",
       "      <th>4</th>\n",
       "      <td>2330</td>\n",
       "    </tr>\n",
       "  </tbody>\n",
       "</table>\n",
       "</div>"
      ],
      "text/plain": [
       "    coln\n",
       "0   1970\n",
       "1   4240\n",
       "2  V5789\n",
       "3  71535\n",
       "4   2330"
      ]
     },
     "execution_count": 478,
     "metadata": {},
     "output_type": "execute_result"
    }
   ],
   "source": [
    "cont_df.head()"
   ]
  },
  {
   "cell_type": "code",
   "execution_count": 480,
   "metadata": {},
   "outputs": [],
   "source": [
    "cont_df.drop_duplicates(inplace = True)"
   ]
  },
  {
   "cell_type": "code",
   "execution_count": 481,
   "metadata": {},
   "outputs": [
    {
     "data": {
      "text/plain": [
       "(4717, 1)"
      ]
     },
     "execution_count": 481,
     "metadata": {},
     "output_type": "execute_result"
    }
   ],
   "source": [
    "cont_df.shape"
   ]
  },
  {
   "cell_type": "code",
   "execution_count": 482,
   "metadata": {},
   "outputs": [],
   "source": [
    "cont_df['dd'] = np.nan"
   ]
  },
  {
   "cell_type": "code",
   "execution_count": 484,
   "metadata": {},
   "outputs": [],
   "source": [
    "cont_df.loc[cont_df['coln'].str.match('^(E|V).*',case = False,na = False), 'dd'] = 'external_causes_of_injury'"
   ]
  },
  {
   "cell_type": "code",
   "execution_count": 485,
   "metadata": {},
   "outputs": [
    {
     "data": {
      "text/plain": [
       "array([nan, 'external_causes_of_injury'], dtype=object)"
      ]
     },
     "execution_count": 485,
     "metadata": {},
     "output_type": "execute_result"
    }
   ],
   "source": [
    "cont_df.dd.unique()"
   ]
  },
  {
   "cell_type": "code",
   "execution_count": 486,
   "metadata": {},
   "outputs": [],
   "source": [
    "cont_df['coln2']=cont_df['coln'].str[0:3]"
   ]
  },
  {
   "cell_type": "code",
   "execution_count": 487,
   "metadata": {},
   "outputs": [
    {
     "data": {
      "text/html": [
       "<div>\n",
       "<style scoped>\n",
       "    .dataframe tbody tr th:only-of-type {\n",
       "        vertical-align: middle;\n",
       "    }\n",
       "\n",
       "    .dataframe tbody tr th {\n",
       "        vertical-align: top;\n",
       "    }\n",
       "\n",
       "    .dataframe thead th {\n",
       "        text-align: right;\n",
       "    }\n",
       "</style>\n",
       "<table border=\"1\" class=\"dataframe\">\n",
       "  <thead>\n",
       "    <tr style=\"text-align: right;\">\n",
       "      <th></th>\n",
       "      <th>coln</th>\n",
       "      <th>dd</th>\n",
       "      <th>coln2</th>\n",
       "    </tr>\n",
       "  </thead>\n",
       "  <tbody>\n",
       "    <tr>\n",
       "      <th>0</th>\n",
       "      <td>1970</td>\n",
       "      <td>NaN</td>\n",
       "      <td>197</td>\n",
       "    </tr>\n",
       "    <tr>\n",
       "      <th>1</th>\n",
       "      <td>4240</td>\n",
       "      <td>NaN</td>\n",
       "      <td>424</td>\n",
       "    </tr>\n",
       "    <tr>\n",
       "      <th>2</th>\n",
       "      <td>V5789</td>\n",
       "      <td>external_causes_of_injury</td>\n",
       "      <td>V57</td>\n",
       "    </tr>\n",
       "    <tr>\n",
       "      <th>3</th>\n",
       "      <td>71535</td>\n",
       "      <td>NaN</td>\n",
       "      <td>715</td>\n",
       "    </tr>\n",
       "    <tr>\n",
       "      <th>4</th>\n",
       "      <td>2330</td>\n",
       "      <td>NaN</td>\n",
       "      <td>233</td>\n",
       "    </tr>\n",
       "  </tbody>\n",
       "</table>\n",
       "</div>"
      ],
      "text/plain": [
       "    coln                         dd coln2\n",
       "0   1970                        NaN   197\n",
       "1   4240                        NaN   424\n",
       "2  V5789  external_causes_of_injury   V57\n",
       "3  71535                        NaN   715\n",
       "4   2330                        NaN   233"
      ]
     },
     "execution_count": 487,
     "metadata": {},
     "output_type": "execute_result"
    }
   ],
   "source": [
    "cont_df.head()"
   ]
  },
  {
   "cell_type": "code",
   "execution_count": null,
   "metadata": {},
   "outputs": [],
   "source": []
  },
  {
   "cell_type": "code",
   "execution_count": null,
   "metadata": {},
   "outputs": [],
   "source": []
  },
  {
   "cell_type": "code",
   "execution_count": null,
   "metadata": {},
   "outputs": [],
   "source": []
  },
  {
   "cell_type": "code",
   "execution_count": null,
   "metadata": {},
   "outputs": [],
   "source": []
  },
  {
   "cell_type": "code",
   "execution_count": null,
   "metadata": {},
   "outputs": [],
   "source": [
    "test_ip,test_op,test_benfi"
   ]
  },
  {
   "cell_type": "code",
   "execution_count": 437,
   "metadata": {},
   "outputs": [],
   "source": [
    "test_ip_benfi = pd.merge(left = test_ip,right = test_benfi, how = 'inner', on = 'BeneID')"
   ]
  },
  {
   "cell_type": "code",
   "execution_count": 439,
   "metadata": {},
   "outputs": [],
   "source": [
    "test_op_benfi = pd.merge(left = test_op,right = test_benfi, how = 'inner', on = 'BeneID')"
   ]
  },
  {
   "cell_type": "code",
   "execution_count": 440,
   "metadata": {},
   "outputs": [
    {
     "data": {
      "text/plain": [
       "(9551, 51)"
      ]
     },
     "execution_count": 440,
     "metadata": {},
     "output_type": "execute_result"
    }
   ],
   "source": [
    "test_ip_benfi.shape"
   ]
  },
  {
   "cell_type": "code",
   "execution_count": 441,
   "metadata": {},
   "outputs": [
    {
     "data": {
      "text/plain": [
       "(125841, 51)"
      ]
     },
     "execution_count": 441,
     "metadata": {},
     "output_type": "execute_result"
    }
   ],
   "source": [
    "test_op_benfi.shape"
   ]
  },
  {
   "cell_type": "code",
   "execution_count": 442,
   "metadata": {},
   "outputs": [
    {
     "data": {
      "text/html": [
       "<div>\n",
       "<style scoped>\n",
       "    .dataframe tbody tr th:only-of-type {\n",
       "        vertical-align: middle;\n",
       "    }\n",
       "\n",
       "    .dataframe tbody tr th {\n",
       "        vertical-align: top;\n",
       "    }\n",
       "\n",
       "    .dataframe thead th {\n",
       "        text-align: right;\n",
       "    }\n",
       "</style>\n",
       "<table border=\"1\" class=\"dataframe\">\n",
       "  <thead>\n",
       "    <tr style=\"text-align: right;\">\n",
       "      <th></th>\n",
       "      <th>Provider</th>\n",
       "      <th>PotentialFraud</th>\n",
       "    </tr>\n",
       "  </thead>\n",
       "  <tbody>\n",
       "    <tr>\n",
       "      <th>0</th>\n",
       "      <td>PRV51001</td>\n",
       "      <td>No</td>\n",
       "    </tr>\n",
       "    <tr>\n",
       "      <th>1</th>\n",
       "      <td>PRV51003</td>\n",
       "      <td>Yes</td>\n",
       "    </tr>\n",
       "    <tr>\n",
       "      <th>2</th>\n",
       "      <td>PRV51004</td>\n",
       "      <td>No</td>\n",
       "    </tr>\n",
       "    <tr>\n",
       "      <th>3</th>\n",
       "      <td>PRV51005</td>\n",
       "      <td>Yes</td>\n",
       "    </tr>\n",
       "    <tr>\n",
       "      <th>4</th>\n",
       "      <td>PRV51007</td>\n",
       "      <td>No</td>\n",
       "    </tr>\n",
       "  </tbody>\n",
       "</table>\n",
       "</div>"
      ],
      "text/plain": [
       "   Provider PotentialFraud\n",
       "0  PRV51001             No\n",
       "1  PRV51003            Yes\n",
       "2  PRV51004             No\n",
       "3  PRV51005            Yes\n",
       "4  PRV51007             No"
      ]
     },
     "execution_count": 442,
     "metadata": {},
     "output_type": "execute_result"
    }
   ],
   "source": [
    "traindata.head()"
   ]
  },
  {
   "cell_type": "code",
   "execution_count": null,
   "metadata": {},
   "outputs": [],
   "source": []
  },
  {
   "cell_type": "code",
   "execution_count": null,
   "metadata": {},
   "outputs": [],
   "source": []
  },
  {
   "cell_type": "code",
   "execution_count": null,
   "metadata": {},
   "outputs": [],
   "source": []
  },
  {
   "cell_type": "code",
   "execution_count": null,
   "metadata": {},
   "outputs": [],
   "source": [
    "test_ip,test_op,test_benfi"
   ]
  },
  {
   "cell_type": "code",
   "execution_count": null,
   "metadata": {},
   "outputs": [],
   "source": [
    "train_ip_final, train_op_final"
   ]
  },
  {
   "cell_type": "code",
   "execution_count": 488,
   "metadata": {},
   "outputs": [],
   "source": [
    "## Preserving the data to dataframe\n",
    "test_ip.to_csv('test_ip.csv', sep=',')\n",
    "## Preserving the data to dataframe\n",
    "test_op.to_csv('test_op.csv', sep=',')\n",
    "## Preserving the data to dataframe\n",
    "test_benfi.to_csv('test_benfi.csv', sep=',')\n",
    "## Preserving the data to dataframe\n",
    "train_ip_final.to_csv('train_ip_final.csv', sep=',')\n",
    "## Preserving the data to dataframe\n",
    "train_op_final.to_csv('train_op_final.csv', sep=',')"
   ]
  },
  {
   "cell_type": "code",
   "execution_count": null,
   "metadata": {},
   "outputs": [],
   "source": []
  }
 ],
 "metadata": {
  "kernelspec": {
   "display_name": "Python 3",
   "language": "python",
   "name": "python3"
  },
  "language_info": {
   "codemirror_mode": {
    "name": "ipython",
    "version": 3
   },
   "file_extension": ".py",
   "mimetype": "text/x-python",
   "name": "python",
   "nbconvert_exporter": "python",
   "pygments_lexer": "ipython3",
   "version": "3.6.5"
  }
 },
 "nbformat": 4,
 "nbformat_minor": 2
}
